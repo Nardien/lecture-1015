{
  "nbformat": 4,
  "nbformat_minor": 0,
  "metadata": {
    "colab": {
      "provenance": [],
      "collapsed_sections": []
    },
    "kernelspec": {
      "name": "python3",
      "display_name": "Python 3"
    },
    "language_info": {
      "name": "python"
    }
  },
  "cells": [
    {
      "cell_type": "markdown",
      "source": [
        "# 파이썬 심화 실습\n",
        "* 퀴즈 3 풀이 (if, while, for문 복습)\n",
        "* 과제 1 풀이 + 기존 강의 복습\n",
        "* 함수\n",
        "* 라이브러리\n",
        "* Pandas 라이브러리 개요"
      ],
      "metadata": {
        "id": "9yXaZR_ZsNue"
      }
    },
    {
      "cell_type": "markdown",
      "source": [
        "# 퀴즈 3"
      ],
      "metadata": {
        "id": "VgPmYp7JI9TD"
      }
    },
    {
      "cell_type": "markdown",
      "source": [
        "퀴즈3을 같이 풀어봅시다!"
      ],
      "metadata": {
        "id": "Du_o23-zyrlA"
      }
    },
    {
      "cell_type": "markdown",
      "source": [
        "## Q1\n",
        "다음 코드의 결괏값은 무엇일까요? 코드를 돌리기전에 생각해보고, 돌려서 생각했던 것과 같은지 확인해봅시다."
      ],
      "metadata": {
        "id": "owrAUGvtI_GH"
      }
    },
    {
      "cell_type": "code",
      "source": [
        "a = \"Life is too short, you need python\"\n",
        "\n",
        "if \"wise\" in a: \n",
        "    print(\"wise\")\n",
        "elif \"python\" in a and \"you\" not in a: \n",
        "    print(\"python\")\n",
        "elif \"shirt\" not in a: \n",
        "    print(\"shirt\")\n",
        "elif \"need\" in a: \n",
        "    print(\"need\")\n",
        "else: print(\"none\")"
      ],
      "metadata": {
        "id": "w-brb1sqI8s5"
      },
      "execution_count": null,
      "outputs": []
    },
    {
      "cell_type": "markdown",
      "source": [
        "## Q2\n",
        "while문을 사용해 1부터 1000까지의 자연수 중 3의 배수의 합을 구해 봅시다."
      ],
      "metadata": {
        "id": "8ibuUfimJQxR"
      }
    },
    {
      "cell_type": "code",
      "source": [
        "# 코드를 작성해보세요!"
      ],
      "metadata": {
        "id": "LIiWhv0bJaXa"
      },
      "execution_count": null,
      "outputs": []
    },
    {
      "cell_type": "markdown",
      "source": [
        "## Q3\n",
        "while문을 사용하여 다음과 같이 별(*)을 표시하는 프로그램을 작성해봅시다.\n",
        "```\n",
        "*\n",
        "**\n",
        "***\n",
        "****\n",
        "*****\n",
        "```\n",
        "\n"
      ],
      "metadata": {
        "id": "6hk6F4SIJYVw"
      }
    },
    {
      "cell_type": "code",
      "source": [
        "# 코드를 작성해보세요!"
      ],
      "metadata": {
        "id": "4W5vLV-1JllQ"
      },
      "execution_count": null,
      "outputs": []
    },
    {
      "cell_type": "markdown",
      "source": [
        "## Q4\n",
        "for문을 사용하여 1부터 100까지의 숫자를 출력해봅시다."
      ],
      "metadata": {
        "id": "8lXwbLWqJm0F"
      }
    },
    {
      "cell_type": "code",
      "source": [
        "# 코드를 작성해보세요!"
      ],
      "metadata": {
        "id": "XDlqvGSjJyWx"
      },
      "execution_count": null,
      "outputs": []
    },
    {
      "cell_type": "markdown",
      "source": [
        "## Q5\n",
        "다음은 어떤 선수의 출전 시간 기록이다. \n",
        "\n",
        "for문을 사용하여 이 선수의 평균 출전 시간을 구해봅시다."
      ],
      "metadata": {
        "id": "6UX3kz8qJxK9"
      }
    },
    {
      "cell_type": "code",
      "source": [
        "# 코드를 작성해보세요!\n",
        "a = [86, 99, 97, 96, 98, 98, 97, 97, 97, 97, 27, 99]"
      ],
      "metadata": {
        "id": "x6C5GsKiKIrM"
      },
      "execution_count": null,
      "outputs": []
    },
    {
      "cell_type": "markdown",
      "source": [
        "## Q6\n",
        "리스트 중에서 홀수에만 2를 곱하여 저장하는 다음 코드가 있다."
      ],
      "metadata": {
        "id": "IQ07YbGvKRxI"
      }
    },
    {
      "cell_type": "code",
      "source": [
        "numbers = [1, 2, 3, 4, 5]\n",
        "result = []\n",
        "for n in numbers:\n",
        "    if n % 2 == 1:\n",
        "        result.append(n*2)"
      ],
      "metadata": {
        "id": "XoBIOw8FKWQa"
      },
      "execution_count": null,
      "outputs": []
    },
    {
      "cell_type": "markdown",
      "source": [
        "이 코드를 리스트 내포 (list comprehension)을 사용해서 간결하게 표현해봅시다!"
      ],
      "metadata": {
        "id": "VPy-naSSKX_Q"
      }
    },
    {
      "cell_type": "code",
      "source": [
        "# 코드를 작성해보세요!"
      ],
      "metadata": {
        "id": "782k294jKcdD"
      },
      "execution_count": null,
      "outputs": []
    },
    {
      "cell_type": "markdown",
      "source": [
        "# 함수"
      ],
      "metadata": {
        "id": "4z2KZ8MbRanL"
      }
    },
    {
      "cell_type": "markdown",
      "source": [
        "반복되는 부분을 하나로 묶어서 \"어떤 입력값을 주었을 때 어떤 결괏값을 돌려준다\"라는 식의 함수로 작성합니다.\n",
        "\n",
        "계산기를 예시로 들어봅시다."
      ],
      "metadata": {
        "id": "PzOWAuH6RuRk"
      }
    },
    {
      "cell_type": "code",
      "source": [
        "a = 3\n",
        "b = 5\n",
        "print(a + b)\n",
        "\n",
        "a = 7\n",
        "b = 2\n",
        "print(a + b)\n",
        "\n",
        "a = 6\n",
        "b = 4\n",
        "print(a + b)\n",
        "\n",
        "# 불필요하게 반복되는 부분이 아주 많다!"
      ],
      "metadata": {
        "id": "dSwFJ2U6SCuT"
      },
      "execution_count": null,
      "outputs": []
    },
    {
      "cell_type": "markdown",
      "source": [
        "함수를 사용하면 다음과 같이 간략하게 표현이 됩니다.\n",
        "\"이 함수의 이름은 add이고 입력으로 두 개의 값 a, b를 받으며 2개의 입력값을 더한 값을 출력한다\""
      ],
      "metadata": {
        "id": "dLvfoekfSaoC"
      }
    },
    {
      "cell_type": "code",
      "source": [
        "def add(a, b): # a, b는 매개변수 (parameter)\n",
        "    print(a + b)\n",
        "add(3, 5) # 3, 5는 인수 (argument)\n",
        "add(7, 2)\n",
        "add(6, 4)"
      ],
      "metadata": {
        "id": "wduW8YOTSPK1"
      },
      "execution_count": null,
      "outputs": []
    },
    {
      "cell_type": "markdown",
      "source": [
        "또는, 함수가 결괏값을 \"반환 (return)\" 하도록 만들 수도 있습니다."
      ],
      "metadata": {
        "id": "TvRik_7eSqJS"
      }
    },
    {
      "cell_type": "code",
      "source": [
        "# 결괏값이 없는 함수\n",
        "def add(a, b):\n",
        "    print(a + b)\n",
        "c = add(3, 6)\n",
        "print(c)"
      ],
      "metadata": {
        "id": "2aBVsv81SpaE"
      },
      "execution_count": null,
      "outputs": []
    },
    {
      "cell_type": "code",
      "source": [
        "# 결괏값이 있는 함수\n",
        "def add(a, b):\n",
        "    return a + b\n",
        "c = add(3, 6)\n",
        "print(c)"
      ],
      "metadata": {
        "id": "8EgLzNB-S7S3"
      },
      "execution_count": null,
      "outputs": []
    },
    {
      "cell_type": "markdown",
      "source": [
        "입력값이 필요없는 함수도 존재합니다."
      ],
      "metadata": {
        "id": "pmCH2eSMTUZ3"
      }
    },
    {
      "cell_type": "code",
      "source": [
        "def say():\n",
        "    print(\"Hi\")\n",
        "say()"
      ],
      "metadata": {
        "id": "5rK4AfjrTW0H"
      },
      "execution_count": null,
      "outputs": []
    },
    {
      "cell_type": "markdown",
      "source": [
        "매개변수를 \"지정\"하여 사용할 수도 있습니다."
      ],
      "metadata": {
        "id": "H5fbKv3g4V2i"
      }
    },
    {
      "cell_type": "code",
      "source": [
        "add(a=3, b=5)"
      ],
      "metadata": {
        "id": "GmHLWJSU4VKS"
      },
      "execution_count": null,
      "outputs": []
    },
    {
      "cell_type": "markdown",
      "source": [
        "# 퀴즈 4\n",
        "\n",
        "함수에 관한 퀴즈만 풀어봅시다."
      ],
      "metadata": {
        "id": "kWv5qqKD4rsS"
      }
    },
    {
      "cell_type": "markdown",
      "source": [
        "### Q1\n",
        "주어진 자연수가 홀수인지 짝수인지 판별해 주는 함수(is_odd)를 작성해 보자."
      ],
      "metadata": {
        "id": "H-VLiljN40Sd"
      }
    },
    {
      "cell_type": "code",
      "source": [
        "# 아래에 코드를 작성해보세요!\n",
        "def is_odd(number):\n",
        "    # 함수를 작성해보세요"
      ],
      "metadata": {
        "id": "110fVf2r4zxZ"
      },
      "execution_count": null,
      "outputs": []
    },
    {
      "cell_type": "markdown",
      "source": [
        "# 과제\n",
        "지금까지 배운 것을 종합하여 축구 데이터 분석의 기초에 활용해봅시다!\n",
        "\n",
        "다음은 신광훈 선수의 10경기 기록을 딕셔너리의 리스트 형태로 저장해놓은 것입니다.\n",
        "\n",
        "경기 기록들을 통해서 의미 있는 정보를 추출해봅시다!\n"
      ],
      "metadata": {
        "id": "_4fCX_WMSZpF"
      }
    },
    {
      "cell_type": "code",
      "source": [
        "plays = [\n",
        "    {'Match': 'Seongnam - Pohang Steelers 1:1', 'Date': '2022-09-18', 'Position': 'LDMF, RB', 'Crosses': 3, 'Crosses accurate': 1, 'Dribbles': 1, 'Dribbles successful': 0, 'Offensive duels': 6, 'Offensive duels won': 1, 'Fouls suffered': 1},\n",
        "    {'Match': 'Suwon Bluewings - Pohang Steelers 0:2', 'Date': '2022-09-14', 'Position': 'RB', 'Crosses': 1, 'Crosses accurate': 1, 'Dribbles': 0, 'Dribbles successful': 0, 'Offensive duels': 1, 'Offensive duels won': 1, 'Fouls suffered': 1},\n",
        "    {'Match': 'Ulsan Hyundai - Pohang Steelers 1:2', 'Date': '2022-09-11', 'Position': 'RB', 'Crosses': 2, 'Crosses accurate': 1, 'Dribbles': 2, 'Dribbles successful': 1, 'Offensive duels': 6, 'Offensive duels won': 2, 'Fouls suffered': 1},\n",
        "    {'Match': 'Pohang Steelers - Daegu 4:1', 'Date': '2022-09-18', 'Position': 'LDMF, RB', 'Crosses': 3, 'Crosses accurate': 1, 'Dribbles': 1, 'Dribbles successful': 0, 'Offensive duels': 6, 'Offensive duels won': 1, 'Fouls suffered': 0},\n",
        "    {'Match': 'Jeonbuk Motors - Pohang Steelers 2:2', 'Date': '2022-08-29', 'Position': 'RB', 'Crosses': 4, 'Crosses accurate': 0, 'Dribbles': 0, 'Dribbles successful': 0, 'Offensive duels': 3, 'Offensive duels won': 1, 'Fouls suffered': 0},\n",
        "    {'Match': 'Pohang Steelers - Incheon United 1:1', 'Date': '2022-08-20', 'Position': 'RB', 'Crosses': 8, 'Crosses accurate': 2, 'Dribbles': 2, 'Dribbles successful': 1, 'Offensive duels': 4, 'Offensive duels won': 2, 'Fouls suffered': 1},\n",
        "    {'Match': 'Jeju United - Pohang Steelers 5:0', 'Date': '2022-08-14', 'Position': 'RB', 'Crosses': 2, 'Crosses accurate': 0, 'Dribbles': 2, 'Dribbles successful': 1, 'Offensive duels': 3, 'Offensive duels won': 1, 'Fouls suffered': 0},\n",
        "    {'Match': 'Pohang Steelers - Gangwon 2:1', 'Date': '2022-08-06', 'Position': 'RB', 'Crosses': 4, 'Crosses accurate': 0, 'Dribbles': 2, 'Dribbles successful': 2, 'Offensive duels': 10, 'Offensive duels won': 6, 'Fouls suffered': 2},\n",
        "    {'Match': 'Gimcheon Sangmu - Pohang Steelers 0:1', 'Date': '2022-08-02', 'Position': 'RB', 'Crosses': 2, 'Crosses accurate': 1, 'Dribbles': 2, 'Dribbles successful': 1, 'Offensive duels': 5, 'Offensive duels won': 1, 'Fouls suffered': 1},\n",
        "    {'Match': 'Pohang Steelers - Seoul 1:2', 'Date': '2022-07-30', 'Position': 'RB, RCMF', 'Crosses': 2, 'Crosses accurate': 1, 'Dribbles': 2, 'Dribbles successful': 1, 'Offensive duels': 4, 'Offensive duels won': 3, 'Fouls suffered': 1},\n",
        "]"
      ],
      "metadata": {
        "id": "i5j2xBstzoU-"
      },
      "execution_count": null,
      "outputs": []
    },
    {
      "cell_type": "code",
      "source": [
        "for play in plays:\n",
        "    print(play)"
      ],
      "metadata": {
        "id": "vgMomOVSlIPg"
      },
      "execution_count": null,
      "outputs": []
    },
    {
      "cell_type": "markdown",
      "source": [
        "### 과제 1\n",
        "\n",
        "평균 파울 (\"Fouls suffered\") 횟수를 구하는 코드를 작성해보세요.\n",
        "\n",
        "### 과제 2\n",
        "\n",
        "첫 번째 경기 (Seongnam - Pohang Steelers 1:1)에서 크로스 성공률, 드리블 성공률, Offensive duel 성공률을 계산해보세요.\n",
        "\n",
        "Hint)\n",
        "* 크로스 성공률: 'Crosses accurate' / 'Crosses' * 100\n",
        "* 드리블 성공률: 'Dribbles successful' / Dribbles' * 100\n",
        "* \bOffensive Duel 성공률: 'Offensive duels won' / 'Offensive duels' * 100\n",
        "\n",
        "### 과제 3\n",
        "과제 2에서 한 것을 활용하여, 크로스 성공률, 드리블 성공률, Offensive Duel 성공률의 10경기에서의 평균값을 구해보세요.\n",
        "\n",
        "### 과제 4\n",
        "모든 데이터에서 신광훈 선수의 소속팀은 \"Pohang Steelers\"입니다. 'Match'에 있는 스코어 정보를 활용하여 10경기에서의 Pohang Steelers의 승률을 구하는 코드를 작성해보세요.\n",
        "\n"
      ],
      "metadata": {
        "id": "bdEDJZqm2aAw"
      }
    },
    {
      "cell_type": "markdown",
      "source": [
        "## 풀이\n",
        "답은 하나가 아닙니다! 여러분의 방식대로도 한 번 풀어보세요"
      ],
      "metadata": {
        "id": "cxPoxv3U5DER"
      }
    },
    {
      "cell_type": "markdown",
      "source": [
        "## 과제 1 풀이"
      ],
      "metadata": {
        "id": "XSyvP1w3y_3a"
      }
    },
    {
      "cell_type": "code",
      "source": [
        "sum = 0\n",
        "for play in plays:\n",
        "    sum += play[\"Fouls suffered\"]\n",
        "print(sum)"
      ],
      "metadata": {
        "id": "rG-BQyR5zCGe"
      },
      "execution_count": null,
      "outputs": []
    },
    {
      "cell_type": "markdown",
      "source": [
        "## 과제 2 풀이"
      ],
      "metadata": {
        "id": "tji-R5WAzd1q"
      }
    },
    {
      "cell_type": "code",
      "source": [
        "play = plays[0]\n",
        "print(\"크로스 성공률\")\n",
        "if play[\"Crosses\"] == 0:\n",
        "    value = 0\n",
        "else:\n",
        "    value = play[\"Crosses accurate\"] / play[\"Crosses\"]\n",
        "print(value * 100)\n",
        "\n",
        "print(\"드리블 성공률\")\n",
        "if play[\"Dribbles\"] == 0:\n",
        "    value = 0\n",
        "else:\n",
        "    value = play[\"Dribbles successful\"] / play[\"Dribbles\"]\n",
        "print(value * 100)\n",
        "\n",
        "print(\"Offensive Duel 성공률\")\n",
        "if play[\"Offensive duels\"] == 0:\n",
        "    value = 0\n",
        "else:\n",
        "    value = play[\"Offensive duels won\"] / play[\"Offensive duels\"]\n",
        "print(value * 100)"
      ],
      "metadata": {
        "id": "4TiXvyokzfP3"
      },
      "execution_count": null,
      "outputs": []
    },
    {
      "cell_type": "markdown",
      "source": [
        "## 과제 3 풀이"
      ],
      "metadata": {
        "id": "riS_hro32eEJ"
      }
    },
    {
      "cell_type": "code",
      "source": [
        "cross_value = 0\n",
        "dribble_value = 0\n",
        "offensive_value = 0\n",
        "for play in plays:\n",
        "    if play[\"Crosses\"] == 0:\n",
        "        cross_value += 0\n",
        "    else:\n",
        "        cross_value += play[\"Crosses accurate\"] / play[\"Crosses\"] * 100\n",
        "\n",
        "    if play[\"Dribbles\"] == 0:\n",
        "        dribble_value += 0\n",
        "    else:\n",
        "        dribble_value += play[\"Dribbles successful\"] / play[\"Dribbles\"] * 100\n",
        "\n",
        "    if play[\"Offensive duels\"] == 0:\n",
        "        offensive_value += 0\n",
        "    else:\n",
        "        offensive_value += play[\"Offensive duels won\"] / play[\"Offensive duels\"] * 100\n",
        "\n",
        "print(\"크로스 평균 성공률\")\n",
        "print(cross_value / len(plays))\n",
        "\n",
        "print(\"드리블 평균 성공률\")\n",
        "print(dribble_value / len(plays))\n",
        "\n",
        "print(\"Offensive Duels 평균 성공률\")\n",
        "print(offensive_value / len(plays))"
      ],
      "metadata": {
        "id": "ZBzf-60m2gCG"
      },
      "execution_count": null,
      "outputs": []
    },
    {
      "cell_type": "markdown",
      "source": [
        "## 과제 4 풀이"
      ],
      "metadata": {
        "id": "D7mubFgX2-zd"
      }
    },
    {
      "cell_type": "code",
      "source": [
        "pohang_win = 0\n",
        "for play in plays:\n",
        "    match = play['Match']\n",
        "    words = match.split('-') # '-'를 기준으로 문자열 자르기\n",
        "    first_team_name = words[0]\n",
        "    print(words)\n",
        "    spacesplit_words = words[1].split()\n",
        "    score = spacesplit_words[-1]\n",
        "    first_team_score = int(score.split(':')[0])\n",
        "    second_team_score = int(score.split(':')[1])\n",
        "    \n",
        "    if first_team_score > second_team_score:\n",
        "        first_team_win = True\n",
        "    else:\n",
        "        first_team_win = False\n",
        "\n",
        "    if \"Pohang Steelers\" in first_team_name and first_team_win:\n",
        "        pohang_win += 1\n",
        "    elif \"Pohang Steelers\" not in first_team_name and not first_team_win:\n",
        "        pohang_win += 1\n",
        "\n",
        "print(f\"포항 우승 확률 {pohang_win / len(plays) * 100}\")"
      ],
      "metadata": {
        "id": "rTnGugZy28GI"
      },
      "execution_count": null,
      "outputs": []
    },
    {
      "cell_type": "markdown",
      "source": [
        "# 라이브러리\n",
        "\n",
        "라이브러리란? \n",
        "요리를 할 때, 칼을 직접 만들고, 도마를 직접 나무를 잘라서 제작하고 하지 않듯이, 우리가 필요한 도구를 다른 사람들이 미리 만들어 둔 것이 있다.\n",
        "\n",
        "이런 것을 \"라이브러리\"라고 한다. 엑셀 파일을 읽고, 시각화 하는데 필요한 대부분의 일은 이 라이브러리를 통해서 할 수 있다!"
      ],
      "metadata": {
        "id": "0pX06GyO5YRZ"
      }
    },
    {
      "cell_type": "markdown",
      "source": [
        "예시로, 수학을 다루는데 있어서 사칙연산 이상의 여러 고위 연산들은 \"`math`\" 라이브러리에 있습니다. \n",
        "\n",
        "라이브러리는 \"`import`\"를 통해 가져올 수 있습니다."
      ],
      "metadata": {
        "id": "l1lAhM0t7rQY"
      }
    },
    {
      "cell_type": "code",
      "source": [
        "import math"
      ],
      "metadata": {
        "id": "WixMMQ3273B4"
      },
      "execution_count": null,
      "outputs": []
    },
    {
      "cell_type": "markdown",
      "source": [
        "가져온 라이브러리 안의 함수는 \"라이브러리.함수이름\"으로 사용할 수 있습니다."
      ],
      "metadata": {
        "id": "eO64yQpy83qP"
      }
    },
    {
      "cell_type": "code",
      "source": [
        "print(math.pi) # 파이\n",
        "print(math.e) # 자연상수\n",
        "print(math.sqrt(2)) # 루트\n",
        "print(math.log(10)) # 로그"
      ],
      "metadata": {
        "id": "kq8lIhDu79sG"
      },
      "execution_count": null,
      "outputs": []
    },
    {
      "cell_type": "markdown",
      "source": [
        "어떤 함수들이 있는지는 어떻게 아나요?\n",
        "\n",
        "구글에 python math library를 검색하면 관련 함수들을 소개하는 홈페이지를 찾을 수 있습니다!\n",
        "\n",
        "https://docs.python.org/3/library/math.html"
      ],
      "metadata": {
        "id": "JzupX3zm8_ks"
      }
    },
    {
      "cell_type": "markdown",
      "source": [
        "# Pandas 기초\n"
      ],
      "metadata": {
        "id": "C65ZqHr15Ghi"
      }
    },
    {
      "cell_type": "markdown",
      "source": [
        "## Pandas란?\n",
        "\n",
        "파이썬을 통한 데이터 분석을 위하여 꼭 필요한 \"라이브러리\" 중 하나입니다. dataframe이라는 것을 통하여 데이터를 다루는데 엑셀 형식의 데이터를 다루는 것에 특화되어 있습니다.\n",
        "\n",
        "이번에는 샘플 데이터를 통해 이 Pandas의 기능과 다루는 방법에 대하여 간단하게 알아보도록 하겠습니다."
      ],
      "metadata": {
        "id": "p-8kqzbZ5_xN"
      }
    },
    {
      "cell_type": "code",
      "source": [
        "import pandas as pd # pandas 라이브러리를 pd라는 이름으로 가져온다"
      ],
      "metadata": {
        "id": "9gh2K0_A7kBE"
      },
      "execution_count": null,
      "outputs": []
    },
    {
      "cell_type": "code",
      "source": [
        "df = pd.read_excel('player_stats.xlsx', engine='openpyxl') # Excel 파일을 read_excel 함수를 사용하여 읽어온다"
      ],
      "metadata": {
        "id": "ikLS_ZTT7oR4"
      },
      "execution_count": null,
      "outputs": []
    },
    {
      "cell_type": "code",
      "source": [
        "print(df)"
      ],
      "metadata": {
        "id": "TCKh4OM3iicG"
      },
      "execution_count": null,
      "outputs": []
    },
    {
      "cell_type": "markdown",
      "source": [
        "### Pandas Dataframe 살펴보기\n",
        "1. Dataframe의 열(Column)의 종류 보기\n",
        "2. 원하는 행(Row)의 데이터 보기\n",
        "3. 데이터 다루기"
      ],
      "metadata": {
        "id": "QF8JqB-uiwtJ"
      }
    },
    {
      "cell_type": "code",
      "source": [
        "# 엑셀의 최상단에 존재하는 행을 가져옵니다.\n",
        "print(df.columns) # List의 형태로 볼 수 있습니다. 단, 진짜 리스트는 아님."
      ],
      "metadata": {
        "id": "_6-uGRWbiwIr"
      },
      "execution_count": null,
      "outputs": []
    },
    {
      "cell_type": "code",
      "source": [
        "# For문을 통하여 내용 보기\n",
        "for column in df.columns:\n",
        "    print(column)"
      ],
      "metadata": {
        "id": "1k011y9ijocV"
      },
      "execution_count": null,
      "outputs": []
    },
    {
      "cell_type": "markdown",
      "source": [
        "\b두 Column이 하나의 이름을 공유하고 있으면, 두 번째 column의 이름이 \"`Unnamed: 숫자`\"로 자동으로 변경됩니다.\n",
        "\n",
        "이 상태에서는 보기가 어려우니, 보기 쉬운 이름으로 바꿔봅시다!\n",
        "\n",
        "rename 함수를 사용하면 쉽게 바꿀 수 있다."
      ],
      "metadata": {
        "id": "fkZoEIcpluTa"
      }
    },
    {
      "cell_type": "code",
      "source": [
        "# {\"바꾸고 싶은 이름\": \"바꿀 이름\"} 형태의 딕셔너리로 입력을 넣는다.\n",
        "df = df.rename(columns={\"Shots / on target\": \"Shots\", # 예시) Shots / on target 이름의 column을 Shots로 바꾼다.\n",
        "                        \"Unnamed: 8\": \"Shots on target\",\n",
        "                        \"Crosses / accurate\": \"Crosses\",\n",
        "                        \"Unnamed: 12\": \"Crosses accurate\",\n",
        "                        \"Dribbles / successful\": \"Dribbles\",\n",
        "                        \"Unnamed: 14\": \"Dribbles successful\",\n",
        "                        \"Offensive duels / won\": \"Offensive duels\",\n",
        "                        \"Unnamed: 16\": \"Offensive duels won\"})"
      ],
      "metadata": {
        "id": "1Twak0ijmd0L"
      },
      "execution_count": null,
      "outputs": []
    },
    {
      "cell_type": "code",
      "source": [
        "print(df.columns)"
      ],
      "metadata": {
        "id": "wrEYyyP9nmP3"
      },
      "execution_count": null,
      "outputs": []
    },
    {
      "cell_type": "markdown",
      "source": [
        "어떤 특정 열의 데이터만 보고 싶으면 어떻게 해야 할까요?\n",
        "\n",
        "딕셔너리와 같다고 보면 됩니다."
      ],
      "metadata": {
        "id": "BipJ_-9cpEV2"
      }
    },
    {
      "cell_type": "code",
      "source": [
        "df[\"Match\"] # 번호, 값의 형태로 출력됨"
      ],
      "metadata": {
        "id": "akJQNltUpIPW"
      },
      "execution_count": null,
      "outputs": []
    },
    {
      "cell_type": "markdown",
      "source": [
        "원하는 행 (row)의 데이터를 보고 싶다면 어떻게 해야 할까요?\n",
        "\n",
        "리스트 같이 사용하면 에러가 납니다."
      ],
      "metadata": {
        "id": "gb-EFcaKp74C"
      }
    },
    {
      "cell_type": "code",
      "source": [
        "print(df[0])"
      ],
      "metadata": {
        "id": "2ReuVhRJp-2H"
      },
      "execution_count": null,
      "outputs": []
    },
    {
      "cell_type": "markdown",
      "source": [
        "원하는 위치의 데이터를 가지고 오기 위해서는 `iloc` 이라는 것을 사용해야 합니다."
      ],
      "metadata": {
        "id": "OmkhOFYxqCUl"
      }
    },
    {
      "cell_type": "code",
      "source": [
        "print(df.iloc[0])"
      ],
      "metadata": {
        "id": "355fv7kEqWSs"
      },
      "execution_count": null,
      "outputs": []
    },
    {
      "cell_type": "markdown",
      "source": [
        "모든 row의 데이터를 순차적으로 가져오고 싶다면 어떻게 해야 할까요? 먼저 dataframe의 크기를 알아봅시다."
      ],
      "metadata": {
        "id": "zWwN0wY6qjYd"
      }
    },
    {
      "cell_type": "code",
      "source": [
        "print(df.shape)\n",
        "print(f\"행의 갯수: {df.shape[0]}\") # 행의 갯수\n",
        "print(f\"열의 갯수: {df.shape[1]}\") # 열의 갯수"
      ],
      "metadata": {
        "id": "h-5WWaa4qpgK"
      },
      "execution_count": null,
      "outputs": []
    },
    {
      "cell_type": "markdown",
      "source": [
        "행의 갯수에 기반해서 for 문을 활용해봅시다!"
      ],
      "metadata": {
        "id": "r7vTFiLLqoq-"
      }
    },
    {
      "cell_type": "code",
      "source": [
        "for i in range(df.shape[0]):\n",
        "    print(df.iloc[i])"
      ],
      "metadata": {
        "id": "UbEqiXE_q5mN"
      },
      "execution_count": null,
      "outputs": []
    },
    {
      "cell_type": "code",
      "source": [
        "# 이런 식으로, 각 열의 특정 값만을 쭉 뽑아낼 수 있습니다. (예시: Minutes played)\n",
        "sum = 0\n",
        "for i in range(df.shape[0]):\n",
        "    print(df.iloc[i][\"Minutes played\"])\n",
        "    sum += df.iloc[i][\"Minutes played\"]\n",
        "print(f\"전체 플레이 시간 합: {sum}분\")"
      ],
      "metadata": {
        "id": "wZybI3AwrTG4"
      },
      "execution_count": null,
      "outputs": []
    },
    {
      "cell_type": "markdown",
      "source": [
        "### 경기 날짜를 통해 경기 분류하기\n",
        "\n",
        "Date 값을 보면 각 경기가 치뤄진 날짜를 알 수 있습니다.\n",
        "\n"
      ],
      "metadata": {
        "id": "h99j09aEsngz"
      }
    },
    {
      "cell_type": "code",
      "source": [
        "print(df[\"Date\"])"
      ],
      "metadata": {
        "id": "ri3IFsAWsmNj"
      },
      "execution_count": null,
      "outputs": []
    },
    {
      "cell_type": "markdown",
      "source": [
        "이 정보를 통해 2022년에 치뤄진 경기는 어떤 것이고, 2016년에 치뤄진 경기는 어떤 것인지 분류해봅시다."
      ],
      "metadata": {
        "id": "sYUQlkh7stgW"
      }
    },
    {
      "cell_type": "code",
      "source": [
        "date_list = df[\"Date\"].tolist() # tolist 함수를 통해 리스트 형태로 변환합니다.\n",
        "print(date_list)"
      ],
      "metadata": {
        "id": "H154_CO0tLyV"
      },
      "execution_count": null,
      "outputs": []
    },
    {
      "cell_type": "markdown",
      "source": [
        "\"몇 번째\" 경기가 \"언제\" 치뤄졌는지를 알기 위해서 `enumerate` 함수를 사용할 것입니다.\n",
        "\n",
        "\n"
      ],
      "metadata": {
        "id": "3NGDoRwYtWpy"
      }
    },
    {
      "cell_type": "code",
      "source": [
        "for i, date in enumerate(date_list):\n",
        "    print(i, date) # i에 \"몇 번째\"에 해당하는 정보가, date에 \"언제\" 치뤄졌는가의 정보가 저장됩니다."
      ],
      "metadata": {
        "id": "k4ZEHRymte1T"
      },
      "execution_count": null,
      "outputs": []
    },
    {
      "cell_type": "markdown",
      "source": [
        "가장 먼저, 전체 데이터가 몇년도의 정보들을 담고 있는 것인지를 분석해봅시다."
      ],
      "metadata": {
        "id": "2pVFuqSutsT3"
      }
    },
    {
      "cell_type": "code",
      "source": [
        "years = []\n",
        "for date in date_list:\n",
        "    split_data = date.split('-') # 연, 월, 일로 분리됨\n",
        "    print(split_data[0])\n",
        "    print(split_data[1])\n",
        "    print(split_data[2])\n",
        "    print(\"-\" * 30)"
      ],
      "metadata": {
        "id": "fP8vtivJtrt5"
      },
      "execution_count": null,
      "outputs": []
    },
    {
      "cell_type": "code",
      "source": [
        "years = []\n",
        "for date in date_list:\n",
        "    split_data = date.split('-') # 연, 월, 일로 분리됨\n",
        "    years.append(split_data[0])\n",
        "print(years)"
      ],
      "metadata": {
        "id": "SjpQksNkuA06"
      },
      "execution_count": null,
      "outputs": []
    },
    {
      "cell_type": "code",
      "source": [
        "# 1강에서 배웠던 \"years를 통한 중복 제거\"를 사용해봅시다!\n",
        "years = list(set(years))\n",
        "print(years)"
      ],
      "metadata": {
        "id": "w2W3I4wWuFGz"
      },
      "execution_count": null,
      "outputs": []
    },
    {
      "cell_type": "code",
      "source": [
        "# 이제 우리가 원하는 정보를 담을 딕셔너리를 생성하고, 각 key에 연도, value에 빈 리스트를 담습니다.\n",
        "year_dict = dict()\n",
        "for year in years:\n",
        "    year_dict[year] = []\n",
        "print(year_dict)"
      ],
      "metadata": {
        "id": "-0v20EVTuTI6"
      },
      "execution_count": null,
      "outputs": []
    },
    {
      "cell_type": "code",
      "source": [
        "for i, date in enumerate(date_list):\n",
        "    year = date.split('-')[0]\n",
        "    year_dict[year].append(i)\n",
        "print(year_dict)"
      ],
      "metadata": {
        "id": "PtwljY5Bud2B"
      },
      "execution_count": null,
      "outputs": []
    },
    {
      "cell_type": "code",
      "source": [
        "# 맞게 저장이 된건지 직접 확인해봅시다\n",
        "print(df.iloc[34])"
      ],
      "metadata": {
        "id": "O0ZD-t9qusLi"
      },
      "execution_count": null,
      "outputs": []
    },
    {
      "cell_type": "markdown",
      "source": [
        "# 퀴즈 4"
      ],
      "metadata": {
        "id": "Nj_JFYqTq__r"
      }
    },
    {
      "cell_type": "markdown",
      "source": [
        "과제 1을 참고하여, 데이터프레임을 응용해봅시다!\n",
        "\n",
        "### Q1\n",
        "\n",
        "전체 평균 파울 (\"Fouls suffered\") 횟수를 구하는 코드를 작성해보세요.\n",
        "\n",
        "### Q2\n",
        "\n",
        "크로스 성공률 (\"Crosses\" / \"Crosses accurate\")의 모든 경기 평균을 구하는 코드를 작성해보세요.\n",
        "\n",
        "### Q3\n",
        "\n",
        "(심화과정) 신광훈 선수의 소속팀은 경기마다 다릅니다. 따라서, 전체 경기 중에 'Match'정보에 \"Pohang Steelers\"가 포함된 데이터만을 활용하여, 'Match'에 있는 스코어 정보를 통해 Pohang Steelers의 승률을 구하는 코드를 작성해보세요. (무승부 제외, 승리 수의 합 / 전체 해당 경기 수) \n"
      ],
      "metadata": {
        "id": "j26KQx5CrEK0"
      }
    },
    {
      "cell_type": "markdown",
      "source": [
        "## 연도별 평균 수치 구하기\n",
        "\n",
        "위에서 만든 `year_dict`를 활용하여, 각 연도별로 평균 수치들을 구해봅시다.\n",
        "\n",
        "이번 강의에서 다룰 수치들은 다음과 같습니다:\n",
        "\n",
        "* 경기 시간 (\"Minutes played\")\n",
        "* 어시스트 (\"Assists\")\n",
        "* Shot 어시스트 (\"Shot assists\")\n",
        "* 크로스 정확도 (\"Crosses\" / \"Crosses accurate\")\n",
        "* 드리블 성공률 (\"Dribbles\" / \"Dribbles successful\")\n",
        "* Offensive Duels 승률 (\"Offensive duels\" / \"Offensive duels won\")"
      ],
      "metadata": {
        "id": "Q8cIVpVf_81m"
      }
    },
    {
      "cell_type": "markdown",
      "source": [
        "특정 년도에 해당하는 데이터들을 먼저 모아봅시다."
      ],
      "metadata": {
        "id": "1cdOmRa1CPsF"
      }
    },
    {
      "cell_type": "code",
      "source": [
        "year = \"2016\"\n",
        "\n",
        "idxes = year_dict[year]\n",
        "year_dataset = []\n",
        "for idx in idxes:\n",
        "    year_dataset.append(df.loc[idx])"
      ],
      "metadata": {
        "id": "-ZNGF8BOCOWA"
      },
      "execution_count": null,
      "outputs": []
    },
    {
      "cell_type": "markdown",
      "source": [
        "우리가 원하는 정보를 데이터에서 수집하고, 평균을 구해봅시다."
      ],
      "metadata": {
        "id": "jboSNIfPC0B3"
      }
    },
    {
      "cell_type": "code",
      "source": [
        "key = \"Minutes played\"\n",
        "\n",
        "sum = 0\n",
        "for data in year_dataset:\n",
        "    sum += data[key]\n",
        "avg = sum / len(idxes)\n",
        "print(avg)"
      ],
      "metadata": {
        "id": "bw7x3qW9CwV1"
      },
      "execution_count": null,
      "outputs": []
    },
    {
      "cell_type": "markdown",
      "source": [
        "모든 연도의 값을 일일히 구하는 것은 번거롭습니다. 이럴 때 \"함수\"를 사용해봅시다."
      ],
      "metadata": {
        "id": "bsPrBn1uC56r"
      }
    },
    {
      "cell_type": "code",
      "source": [
        "def get_average_status_for_year(year, key1, key2): # 연도, 분모, 분자 (없으면 None)\n",
        "    year = str(year) # 숫자로 넣어도 가능하도록 구현 \n",
        "    idxes = year_dict[year]\n",
        "    year_dataset = []\n",
        "    for idx in idxes:\n",
        "        year_dataset.append(df.loc[idx])\n",
        "\n",
        "    sum = 0\n",
        "    for data in year_dataset:\n",
        "        if key2 is not None:\n",
        "            sum += data[key1] / data[key2]\n",
        "        else:\n",
        "            sum += data[key1]\n",
        "    avg = sum / len(idxes)\n",
        "    return avg"
      ],
      "metadata": {
        "id": "H-5evNUbC5gG"
      },
      "execution_count": null,
      "outputs": []
    },
    {
      "cell_type": "code",
      "source": [
        "# 사용해봅시다\n",
        "print(get_average_status_for_year(2016, \"Minutes played\", None))"
      ],
      "metadata": {
        "id": "wJubnPNMDWA0"
      },
      "execution_count": null,
      "outputs": []
    },
    {
      "cell_type": "code",
      "source": [
        "print(get_average_status_for_year(2016, \"Offensive duels won\", \"Offensive duels\"))"
      ],
      "metadata": {
        "id": "FJzQnsK7DpaE"
      },
      "execution_count": null,
      "outputs": []
    },
    {
      "cell_type": "code",
      "source": [
        "print(get_average_status_for_year(2016, \"Dribbles successful\", \"Dribbles\"))"
      ],
      "metadata": {
        "id": "6_6amZU0EO5C"
      },
      "execution_count": null,
      "outputs": []
    },
    {
      "cell_type": "markdown",
      "source": [
        "왜 에러가 날까요...? 중간에 \"Dribbles\"이 0인 경우가 있기 때문입니다! 0으로 나누는 것은 허용되지가 않습니다."
      ],
      "metadata": {
        "id": "8oS6NtchD50n"
      }
    },
    {
      "cell_type": "code",
      "source": [
        "print(200 / 0)"
      ],
      "metadata": {
        "id": "HpYvRVPvEalL"
      },
      "execution_count": null,
      "outputs": []
    },
    {
      "cell_type": "markdown",
      "source": [
        "이걸 반영해서 코드를 조금 수정해볼까요?"
      ],
      "metadata": {
        "id": "7mEwzg8NEiWn"
      }
    },
    {
      "cell_type": "code",
      "source": [
        "def get_average_status_for_year(year, key1, key2): # 연도, 분모, 분자 (없으면 None)\n",
        "    year = str(year) # 숫자로 넣어도 가능하도록 구현 \n",
        "    idxes = year_dict[year]\n",
        "    year_dataset = []\n",
        "    for idx in idxes:\n",
        "        year_dataset.append(df.loc[idx])\n",
        "\n",
        "    sum = 0\n",
        "    for data in year_dataset:\n",
        "        if key2 is not None:\n",
        "            if data[key2] != 0: # 0이 아닌 경우에만 나눗셈을 하도록 변경\n",
        "                sum += data[key1] / data[key2]\n",
        "            else:\n",
        "                sum += 0\n",
        "        else:\n",
        "            sum += data[key1]\n",
        "    avg = sum / len(idxes)\n",
        "    return avg"
      ],
      "metadata": {
        "id": "isvsMeiqEk3l"
      },
      "execution_count": null,
      "outputs": []
    },
    {
      "cell_type": "code",
      "source": [
        "print(get_average_status_for_year(2016, \"Dribbles successful\", \"Dribbles\"))"
      ],
      "metadata": {
        "id": "fNBSMWjSEo9S"
      },
      "execution_count": null,
      "outputs": []
    },
    {
      "cell_type": "markdown",
      "source": [
        "완벽하게 작동합니다! 다른 경우에 대해서도 테스트 해보세요."
      ],
      "metadata": {
        "id": "4KuBXRvZEsIT"
      }
    },
    {
      "cell_type": "markdown",
      "source": [
        "# 다음 시간\n",
        "다음 시간에는, 오늘 배운 Pandas와 만든 함수들을 활용하여 직접 시각화를 해보는 방법을 배우도록 하겠습니다."
      ],
      "metadata": {
        "id": "uziTa8DHEup5"
      }
    }
  ]
}