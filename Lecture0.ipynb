{
  "nbformat": 4,
  "nbformat_minor": 0,
  "metadata": {
    "colab": {
      "provenance": [],
      "collapsed_sections": []
    },
    "kernelspec": {
      "name": "python3",
      "display_name": "Python 3"
    },
    "language_info": {
      "name": "python"
    }
  },
  "cells": [
    {
      "cell_type": "markdown",
      "source": [
        "# 파이썬 기초 실습\n",
        "## 자료형\n",
        "어떤 프로그래밍 언어든 시작은 \"자료형\"입니다."
      ],
      "metadata": {
        "id": "9yXaZR_ZsNue"
      }
    },
    {
      "cell_type": "markdown",
      "source": [
        "# 자료값 출력하기"
      ],
      "metadata": {
        "id": "eGLvYJYc11-h"
      }
    },
    {
      "cell_type": "code",
      "execution_count": null,
      "metadata": {
        "id": "chX-wxWnsLOm"
      },
      "outputs": [],
      "source": [
        "# 출력하기\n",
        "print(\"안녕하세요.\") # 문자\n",
        "print(3) # 숫자\n",
        "print(0.5) # 소수\n",
        "print(True) # Boolean (참, 거짓)\n",
        "print(\"=\" * 20)\n",
        "\n",
        "# 변수 출력\n",
        "a = 392\n",
        "print(a)\n",
        "a = 212\n",
        "print(a)"
      ]
    },
    {
      "cell_type": "markdown",
      "source": [
        "# 숫자 & 문자열 자료형"
      ],
      "metadata": {
        "id": "q2klxum415-F"
      }
    },
    {
      "cell_type": "code",
      "source": [
        "# 숫자형 자료형\n",
        "a = 7\n",
        "b = 4\n",
        "print(a + b) # 더하기\n",
        "print(a - b) # 빼기\n",
        "print(a * b) # 곱하기\n",
        "print(a / b) # 나누기\n",
        "print(a // b) # 나누기 (몫)\n",
        "print(a % b) # 나누기 (나머지)"
      ],
      "metadata": {
        "id": "kTyWUxFuu7qx"
      },
      "execution_count": null,
      "outputs": []
    },
    {
      "cell_type": "code",
      "source": [
        "# 문자열 자료형\n",
        "a = \"Heung Min Son\"\n",
        "b = \" Tottenham Hotspur FC\"\n",
        "print(len(a)) # 문자의 길이\n",
        "print(a + b) # 문자 이어 붙이기\n",
        "print(a * 2) # 문자 반복하기"
      ],
      "metadata": {
        "id": "Y-M-P5XCzvr1"
      },
      "execution_count": null,
      "outputs": []
    },
    {
      "cell_type": "code",
      "source": [
        "# 문자열 인덱싱\n",
        "a = \"Tottenham 3:2 Eintracht\" # 0부터 숫자를 셉니다\n",
        "print(a[3]) # 3번째 character (글자) 출력\n",
        "print(a[0:9]) # 0~9번째 글자들 출력\n",
        "print()\n",
        "print(a.index(\":\")) # :의 위치 출력\n",
        "idx = a.index(\":\")\n",
        "print(a[idx])"
      ],
      "metadata": {
        "id": "l-r5CNk55a6Q"
      },
      "execution_count": null,
      "outputs": []
    },
    {
      "cell_type": "code",
      "source": [
        "# 문자열 조작\n",
        "a = \"Football is really fun!\"\n",
        "b = a.replace(\" \", \"@\") # 공백 \" \"을 \"@\"로 변경\n",
        "print(b)"
      ],
      "metadata": {
        "id": "xS-lCBFJ56xU"
      },
      "execution_count": null,
      "outputs": []
    },
    {
      "cell_type": "code",
      "source": [
        "# 불가능한 조작\n",
        "a[7] = \"@\" # 직접 문자열을 바꾸는 것은 허용되지 않는다."
      ],
      "metadata": {
        "id": "V5fnBE2e6WPg"
      },
      "execution_count": null,
      "outputs": []
    },
    {
      "cell_type": "markdown",
      "source": [
        "# 퀴즈 1"
      ],
      "metadata": {
        "id": "PbjfESF5WWIF"
      }
    },
    {
      "cell_type": "markdown",
      "source": [
        "### Q1.\n",
        "다음은 어떤 선수의 경기별 출전 시간입니다. 이 사람의 평균 점수를 구하는 코드를 작성하고, 평균 점수를 출력하는 코드를 작성해보세요.\n",
        "\n",
        "경기 A: 86분\n",
        "경기 B: 99분\n",
        "경기 C: 97분"
      ],
      "metadata": {
        "id": "-4GRKdR76s27"
      }
    },
    {
      "cell_type": "code",
      "source": [
        "## 아래에 코드를 작성해보세요!\n",
        "a = 86\n",
        "b = 99\n",
        "c = 97"
      ],
      "metadata": {
        "id": "cQ2gryi56pXD"
      },
      "execution_count": null,
      "outputs": []
    },
    {
      "cell_type": "markdown",
      "source": [
        "### Q2.\n",
        "자연수 13이 홀수인지 짝수인지 어떻게 판별할 수 있을까요? (힌트: 짝수는 2로 나누었을 때 나머지가 0이고, 홀수는 2로 나누었을 때 나머지가 1입니다.)"
      ],
      "metadata": {
        "id": "OLSXsXgg6-s9"
      }
    },
    {
      "cell_type": "code",
      "source": [
        "## 13을 2로 나누었을 때의 나머지를 구하고, 이를 출력하는 코드를 작성해보세요!"
      ],
      "metadata": {
        "id": "2iIKRcQc7LnO"
      },
      "execution_count": null,
      "outputs": []
    },
    {
      "cell_type": "markdown",
      "source": [
        "### Q3.\n",
        "홍길동 씨의 주민등록번호는 881120-1068234이다. 홍길동 씨의 주민번호를 연월일 (YYMMDD) 부분과 그 뒤의 숫자 부분으로 나누어 출력해봅시다!"
      ],
      "metadata": {
        "id": "4rtEqEM87ZZp"
      }
    },
    {
      "cell_type": "code",
      "source": [
        "## 아래에 코드를 작성해보세요!\n",
        "pin = \"881120-1068234\""
      ],
      "metadata": {
        "id": "d8xn2BeV7if5"
      },
      "execution_count": null,
      "outputs": []
    },
    {
      "cell_type": "markdown",
      "source": [
        "### Q4.\n",
        "주민등록번호 뒷자리의 맨 첫 번째 숫자는 성별을 나타냅니다. 주민등록번호에서 성별을 나타내는 숫자를 출력해봅시다."
      ],
      "metadata": {
        "id": "9mSOjq_a7wOp"
      }
    },
    {
      "cell_type": "code",
      "source": [
        "## 아래에 코드를 작성해보세요!\n",
        "pin = \"881120-1068234\""
      ],
      "metadata": {
        "id": "I-Dq5s2w7t4e"
      },
      "execution_count": null,
      "outputs": []
    },
    {
      "cell_type": "markdown",
      "source": [
        "### Q5.\n",
        "다음과 같은 문자열 a@b@c@d가 있다. 문자열의 replace 함수를 사용하여 a#b#c#d로 바꿔서 출력해봅시다"
      ],
      "metadata": {
        "id": "gV9nF_Y974yQ"
      }
    },
    {
      "cell_type": "code",
      "source": [
        "## 아래에 코드를 작성해보세요!\n",
        "a = \"a@b@c@d\""
      ],
      "metadata": {
        "id": "mTIsfto_8BYi"
      },
      "execution_count": null,
      "outputs": []
    },
    {
      "cell_type": "markdown",
      "source": [
        "### Q6.\n",
        "다음은 어떤 경기의 기록이다. 여기서 \"점수\" 부분만을 뽑아서 출력해봅시다."
      ],
      "metadata": {
        "id": "jTjwGF359-vk"
      }
    },
    {
      "cell_type": "code",
      "source": [
        "## 아래에 코드를 작성해보세요!\n",
        "a = \"Arsenal 3:1 Tottenham\""
      ],
      "metadata": {
        "id": "yEfFIBv9-PGR"
      },
      "execution_count": null,
      "outputs": []
    },
    {
      "cell_type": "markdown",
      "source": [
        "# 리스트 자료형"
      ],
      "metadata": {
        "id": "2ML5Pdmy1yQs"
      }
    },
    {
      "cell_type": "code",
      "source": [
        "# 리스트 자료형\n",
        "## 여러 자료를 모아서 표현할 수 있다.\n",
        "a = [1, 2, 3, 4, 5] # 리스트 생성\n",
        "print(a[0]) # 리스트 인덱싱: 0번째 값\n",
        "print(a[3]) # 리스트 인덱싱: 3번째 값\n",
        "print(a[1:3]) # 리스트 슬라이싱: 1~2번째 값을 가진 리스트\n",
        "print(len(a)) # 리스트의 길이"
      ],
      "metadata": {
        "id": "wZGon4q-0hKM"
      },
      "execution_count": null,
      "outputs": []
    },
    {
      "cell_type": "markdown",
      "source": [
        "## 리스트 조작"
      ],
      "metadata": {
        "id": "caceJtUy1Sz8"
      }
    },
    {
      "cell_type": "code",
      "source": [
        "# 리스트 조작\n",
        "a = [1, 2, 3]\n",
        "print(a)\n",
        "a.append(4) # 리스트 끝에 값 넣기\n",
        "print(a)"
      ],
      "metadata": {
        "id": "MbT08iez1HDl"
      },
      "execution_count": null,
      "outputs": []
    },
    {
      "cell_type": "code",
      "source": [
        "# 리스트 값 수정\n",
        "a[2] = 10 # 2번째 값을 10으로 수정 -- 문자열과 달리 직접 수정이 허용\n",
        "print(a)"
      ],
      "metadata": {
        "id": "RJs_HYtM1R5x"
      },
      "execution_count": null,
      "outputs": []
    },
    {
      "cell_type": "code",
      "source": [
        "# 리스트 값 삭제\n",
        "del a[1] # 1번째 값을 삭제\n",
        "print(a)"
      ],
      "metadata": {
        "id": "Ol4XOK-K1dkJ"
      },
      "execution_count": null,
      "outputs": []
    },
    {
      "cell_type": "code",
      "source": [
        "# 리스트 정렬\n",
        "a.sort()\n",
        "print(a)\n",
        "# 거꾸로 정렬\n",
        "a.sort(reverse=True)\n",
        "print(a)"
      ],
      "metadata": {
        "id": "HoDmRRJI1jXx"
      },
      "execution_count": null,
      "outputs": []
    },
    {
      "cell_type": "code",
      "source": [
        "# 리스트의 값 전부 합치기\n",
        "a = [1, 2, 3, 4]\n",
        "b = sum(a)\n",
        "print(b)"
      ],
      "metadata": {
        "id": "kv2vdugAVbHj"
      },
      "execution_count": null,
      "outputs": []
    },
    {
      "cell_type": "markdown",
      "source": [
        "### 응용: 리스트와 문자열의 조합"
      ],
      "metadata": {
        "id": "2PTMxhaiUMKo"
      }
    },
    {
      "cell_type": "code",
      "source": [
        "# 문자열 쪼개기\n",
        "a = \"Do you know Song Heung-min?\"\n",
        "b = a.split()\n",
        "print(b)"
      ],
      "metadata": {
        "id": "lgztIbSEUK-t"
      },
      "execution_count": null,
      "outputs": []
    },
    {
      "cell_type": "code",
      "source": [
        "# 리스트에 있는 문자들 합치기\n",
        "print(' '.join(b)) # 공백을 사이에 두고 합치기\n",
        "print('#'.join(b)) # 샾을 사이에 두고 합치기"
      ],
      "metadata": {
        "id": "4V2uzkAMUjyK"
      },
      "execution_count": null,
      "outputs": []
    },
    {
      "cell_type": "markdown",
      "source": [
        "# 딕셔너리 (사전) 자료형"
      ],
      "metadata": {
        "id": "mqaFyN3K2JWA"
      }
    },
    {
      "cell_type": "code",
      "source": [
        "# 딕셔너리 생성\n",
        "dic = {\"name\": \"Son Heung-min\", \"club\": \"Bayer Leverkusen\", \"birthday\": \"0708\"}\n",
        "print(dic)"
      ],
      "metadata": {
        "id": "hT3WCmVa2L7T"
      },
      "execution_count": null,
      "outputs": []
    },
    {
      "cell_type": "code",
      "source": [
        "# 딕셔너리 쌍 (Pair) 추가\n",
        "dic[\"gender\"] = \"male\"\n",
        "print(dic)"
      ],
      "metadata": {
        "id": "5xgKb1Am2We5"
      },
      "execution_count": null,
      "outputs": []
    },
    {
      "cell_type": "code",
      "source": [
        "# 딕셔너리 값 변경\n",
        "dic[\"club\"] = \"Tottenham Hotspur\"\n",
        "print(dic)"
      ],
      "metadata": {
        "id": "ELd9GlH0iS0Q"
      },
      "execution_count": null,
      "outputs": []
    },
    {
      "cell_type": "code",
      "source": [
        "# Key를 통해 Value 얻기\n",
        "print(dic[\"name\"])\n",
        "print(dic[\"club\"])"
      ],
      "metadata": {
        "id": "yP1bKKd-iaIg"
      },
      "execution_count": null,
      "outputs": []
    },
    {
      "cell_type": "code",
      "source": [
        "# Key를 통해 Value를 얻고, 해당 Key를 삭제하기\n",
        "dic = {\"name\": \"Son Heung-min\", \"club\": \"Bayer Leverkusen\", \"birthday\": \"0708\", \"gender\": \"male\"}\n",
        "print(dic)\n",
        "value = dic.pop(\"gender\")\n",
        "print(value)\n",
        "print(dic)"
      ],
      "metadata": {
        "id": "r9x1Oo9A4yXr"
      },
      "execution_count": null,
      "outputs": []
    },
    {
      "cell_type": "markdown",
      "source": [
        "# 집합 (Set) 자료형\n"
      ],
      "metadata": {
        "id": "bc6KukffFE93"
      }
    },
    {
      "cell_type": "markdown",
      "source": [
        "\n",
        "집합 자료형의 특징\n",
        "* 중복을 허용하지 않는다.\n",
        "* 순서가 없다."
      ],
      "metadata": {
        "id": "NzRFOPVvWc6s"
      }
    },
    {
      "cell_type": "code",
      "source": [
        "# 집합 자료형 생성\n",
        "s1 = set([1, 2, 3])\n",
        "print(s1)"
      ],
      "metadata": {
        "id": "QZ1ytVNvFEUB"
      },
      "execution_count": null,
      "outputs": []
    },
    {
      "cell_type": "code",
      "source": [
        "print(s1[0]) # 순서가 없으므로 인덱싱을 지원하지 않는다."
      ],
      "metadata": {
        "id": "8ImLW9K2FNEI"
      },
      "execution_count": null,
      "outputs": []
    },
    {
      "cell_type": "code",
      "source": [
        "# 값 추가하기\n",
        "s1 = set([1, 2, 3])\n",
        "print(s1)\n",
        "s1.add(4)\n",
        "print(s1)\n",
        "s1.add(1)\n",
        "print(s1) # 1이 이미 존재하고 중복을 허용하지 않으므로, 같은 결과가 나온다.\n",
        "\n",
        "# 값 제거하기\n",
        "s1.remove(3)\n",
        "print(s1)"
      ],
      "metadata": {
        "id": "SjoKNBKhFdAb"
      },
      "execution_count": null,
      "outputs": []
    },
    {
      "cell_type": "markdown",
      "source": [
        "# 퀴즈 2"
      ],
      "metadata": {
        "id": "doWWZon6WSGI"
      }
    },
    {
      "cell_type": "markdown",
      "source": [
        "### Q1.\n",
        "[1, 3, 5, 4, 2] 리스트를 [5, 4, 3, 2, 1]로 만들고 출력해보세요."
      ],
      "metadata": {
        "id": "qoOgdOOpRn8-"
      }
    },
    {
      "cell_type": "code",
      "source": [
        "## 아래에 코드를 작성해보세요!\n",
        "a = [1, 3, 5, 4, 2]"
      ],
      "metadata": {
        "id": "2q4Xp7_kRuz9"
      },
      "execution_count": null,
      "outputs": []
    },
    {
      "cell_type": "markdown",
      "source": [
        "### Q2.\n",
        "다음과 같은 딕셔너리 a가 있습니다. 이 때, 다음 중 오류가 발생하는 경우를 골라보세요.\n",
        "\n",
        "`a = dict()`\n",
        "1. `a['name'] = 'python'`\n",
        "2. `a[('a',)] = 'python'`\n",
        "3. `a[[1]] = 'python'`\n",
        "4. `a[250] = 'python'`"
      ],
      "metadata": {
        "id": "0JAwD44oR0Ry"
      }
    },
    {
      "cell_type": "code",
      "source": [
        "## 아래에서 각 경우를 테스트해보세요!"
      ],
      "metadata": {
        "id": "LjKGz-Q5TifA"
      },
      "execution_count": null,
      "outputs": []
    },
    {
      "cell_type": "markdown",
      "source": [
        "### Q3.\n",
        "딕셔너리 a에서 Key 'B'에 해당되는 value를 추출하여 출력해봅시다."
      ],
      "metadata": {
        "id": "rwmRPgErTll3"
      }
    },
    {
      "cell_type": "code",
      "source": [
        "## 아래에 코드를 작성해보세요!\n",
        "a = {\"A\": 90, \"B\": 80, \"C\": 70}"
      ],
      "metadata": {
        "id": "Fql1vq_qTs7Q"
      },
      "execution_count": null,
      "outputs": []
    },
    {
      "cell_type": "markdown",
      "source": [
        "### Q4. \n",
        "a 리스트에서 중복 숫자를 제거해 봅시다. (힌트: `list(set([1,3,2,1,3]))` 를 하면 결과물은 어떻게 될까요?)"
      ],
      "metadata": {
        "id": "rXG4cSmZTyBl"
      }
    },
    {
      "cell_type": "code",
      "source": [
        "## 아래에 코드를 작성해보세요!\n",
        "a = [1, 1, 1, 2, 2, 3, 3, 3, 4, 4, 5]"
      ],
      "metadata": {
        "id": "_oUGicmEUCeE"
      },
      "execution_count": null,
      "outputs": []
    },
    {
      "cell_type": "markdown",
      "source": [
        "### Q5. \n",
        "a 리스트 안에 있는 값의 평균을 구하는 코드를 작성하고, 평균 값을 출력해보세요!"
      ],
      "metadata": {
        "id": "1jec01aoVgQQ"
      }
    },
    {
      "cell_type": "code",
      "source": [
        "## 아래에 코드를 작성해보세요!\n",
        "a = [23912, 329, 1290, 129, 1029, 200, 192, 1, -21309, 2019, 1029]"
      ],
      "metadata": {
        "id": "YM1astNCVkte"
      },
      "execution_count": null,
      "outputs": []
    },
    {
      "cell_type": "markdown",
      "source": [
        "# 제어문\n",
        "프로그램의 구조를 쌓기 위한 필수 요소, \"제어문\"을 알아봅시다."
      ],
      "metadata": {
        "id": "gfnNGSsmV65i"
      }
    },
    {
      "cell_type": "markdown",
      "source": [
        "# if 문 (조건문)"
      ],
      "metadata": {
        "id": "lA3XL0o-We6r"
      }
    },
    {
      "cell_type": "markdown",
      "source": [
        "조건에 맞춰 프로그램을 실행시키고 싶을 때가 있습니다. 예를 들어,\n",
        "\"골을 넣으면 승리하고, 못 넣으면 패배한다.\" 를 어떻게 코드로 표현할 수 있을까요?"
      ],
      "metadata": {
        "id": "HxYnxEEDWh7l"
      }
    },
    {
      "cell_type": "code",
      "source": [
        "goal = True # True / False\n",
        "if goal: # 끝에 \"반드시\" 콜론 (:)을 넣어야 합니다.\n",
        "    print(\"승리했습니다!!\") # Tab을 눌러서 \"반드시\" 띄어쓰기를 해주어야 합니다.\n",
        "else:\n",
        "    print(\"패배했습니다..\")"
      ],
      "metadata": {
        "id": "bkJQCUrUWjSl"
      },
      "execution_count": null,
      "outputs": []
    },
    {
      "cell_type": "code",
      "source": [
        "goal = False # True / False\n",
        "if goal:\n",
        "    print(\"승리했습니다!!\")\n",
        "else:\n",
        "    print(\"패배했습니다..\")"
      ],
      "metadata": {
        "id": "KdpCPZV0_zAq"
      },
      "execution_count": null,
      "outputs": []
    },
    {
      "cell_type": "markdown",
      "source": [
        "더 구체적으로, 값의 \"비교\"를 하고 싶다면 어떻게 해야 할까요?\n",
        "\n",
        "비교 연산자를 사용해야 합니다."
      ],
      "metadata": {
        "id": "shtuI-ECAZh4"
      }
    },
    {
      "cell_type": "code",
      "source": [
        "# 비교 연산자 예시\n",
        "a = 3\n",
        "b = 2\n",
        "print(a < b) # a가 b보다 작다\n",
        "print(a > b) # a가 b보다 크다\n",
        "print(a == b) # a와 b가 같다\n",
        "print(a != b) # a와 b가 같지 않다\n",
        "print(a >= b) # a가 b보다 크거나 같다\n",
        "print(a <= b) # a가 b보다 작거나 같다"
      ],
      "metadata": {
        "id": "EAepClvtAelx"
      },
      "execution_count": null,
      "outputs": []
    },
    {
      "cell_type": "markdown",
      "source": [
        "만약 어떤 선수가 한 경기에서 넣은 골의 갯수를 바탕으로 해트트릭 여부를 출력하는 프로그램을 만들고 싶다고 가정합니다.\n",
        "\n",
        "어떻게 만들어야 할까요?"
      ],
      "metadata": {
        "id": "pRTtM59zA2SX"
      }
    },
    {
      "cell_type": "code",
      "source": [
        "num_goals = 4\n",
        "if num_goals >= 3:\n",
        "    print(\"해트트릭!!\")\n",
        "else:\n",
        "    print(\"다음 기회에...\")"
      ],
      "metadata": {
        "id": "xTmN6zr8AzK2"
      },
      "execution_count": null,
      "outputs": []
    },
    {
      "cell_type": "markdown",
      "source": [
        "다음과 같은 프로그램을 만들고 싶다면 어떻게 해야 할까요?\n",
        "\n",
        "\"돈이 3000원 이상 있거나 카드가 있다면 택시를 타고 그렇지 않으면 걸어 가라.\"\n",
        "\n",
        "or 연산자를 활용해야 합니다."
      ],
      "metadata": {
        "id": "XSxOfncHBl8V"
      }
    },
    {
      "cell_type": "code",
      "source": [
        "money = 2000\n",
        "card = True\n",
        "if money >= 3000 or card:\n",
        "    print(\"택시를 타고 가라\")\n",
        "else:\n",
        "    print(\"걸어가라\")"
      ],
      "metadata": {
        "id": "fu7rkeClCBkQ"
      },
      "execution_count": null,
      "outputs": []
    },
    {
      "cell_type": "markdown",
      "source": [
        "유사하게, 다음과 같은 프로그램을 만들고 싶다고 가정합니다.\n",
        "\n",
        "\"돈이 3000원 이상 있고 카드도 있다면 택시를 타고 그렇지 않으면 걸어 가라.\"\n",
        "\n",
        "and 연산자를 활용해야 합니다."
      ],
      "metadata": {
        "id": "C7nQMrtxCIAb"
      }
    },
    {
      "cell_type": "code",
      "source": [
        "money = 2000\n",
        "card = True\n",
        "if money >= 3000 and card:\n",
        "    print(\"택시를 타고 가라\")\n",
        "else:\n",
        "    print(\"걸어가라\")"
      ],
      "metadata": {
        "id": "iqgS5cYBCTCN"
      },
      "execution_count": null,
      "outputs": []
    },
    {
      "cell_type": "markdown",
      "source": [
        "그 외에도, 다양한 조건을 판단하기 위한 elif 문이 있습니다.\n",
        "\n",
        "\"주머니에 돈이 있으면 택시를 타고, 주머니에 돈은 없지만 카드가 있으면 택시를 타고, 돈도 없고 카드도 없으면 걸어 가라.\""
      ],
      "metadata": {
        "id": "fQz3u6g2Cgmc"
      }
    },
    {
      "cell_type": "code",
      "source": [
        "pocket = [\"paper\", \"handphone\"]\n",
        "print(\"money\" in pocket)\n",
        "print(\"paper\" in pocket)"
      ],
      "metadata": {
        "id": "8BSeW-BpDOn6"
      },
      "execution_count": null,
      "outputs": []
    },
    {
      "cell_type": "code",
      "source": [
        "pocket = [\"paper\", \"handphone\"]\n",
        "card = True\n",
        "if \"money\" in pocket: # 리스트에 해당 값이 있는지 여부 체크\n",
        "    print(\"택시를 타고 가라\")\n",
        "else:\n",
        "    if card:\n",
        "        print(\"택시를 타고 가라\")\n",
        "    else:\n",
        "        print(\"걸어 가라\")"
      ],
      "metadata": {
        "id": "Bv7GIY8HC49b"
      },
      "execution_count": null,
      "outputs": []
    },
    {
      "cell_type": "code",
      "source": [
        "pocket = [\"paper\", \"handphone\"]\n",
        "card = True\n",
        "if \"money\" in pocket:\n",
        "    print(\"택시를 타고 가라\")\n",
        "elif card:\n",
        "    print(\"택시를 타고 가라\")\n",
        "else:\n",
        "    print(\"걸어 가라\")"
      ],
      "metadata": {
        "id": "yT8AbNeBDDCJ"
      },
      "execution_count": null,
      "outputs": []
    },
    {
      "cell_type": "markdown",
      "source": [
        "# While문 (반복문)"
      ],
      "metadata": {
        "id": "LYXMcrNpCfHg"
      }
    },
    {
      "cell_type": "markdown",
      "source": [
        "반복해서 문장을 수행해야 할 경우 while문을 사용합니다.\n",
        "while문은 **조건문이 참인 동안**에 while 문 아래의 문장이 반복해서 수행됩니다.\n",
        "\n",
        "예시로,\n",
        "\"열 번 찍어 안 넘어가는 나무 없다.\" 라는 속담을 파이썬 프로그램으로 만든다면 다음과 같이 될 것입니다."
      ],
      "metadata": {
        "id": "yCTjD7iwD3El"
      }
    },
    {
      "cell_type": "code",
      "source": [
        "print(\"나무를 1번 찍었습니다.\")\n",
        "print(\"나무를 2번 찍었습니다.\")\n",
        "print(\"나무를 3번 찍었습니다.\")\n",
        "print(\"나무를 4번 찍었습니다.\")\n",
        "print(\"나무를 5번 찍었습니다.\")\n",
        "print(\"나무를 6번 찍었습니다.\")\n",
        "print(\"나무를 7번 찍었습니다.\")\n",
        "print(\"나무를 8번 찍었습니다.\")\n",
        "print(\"나무를 9번 찍었습니다.\")\n",
        "print(\"나무를 10번 찍었습니다.\")\n",
        "print(\"나무 넘어갑니다.\")"
      ],
      "metadata": {
        "id": "2PmnOG7iEF15"
      },
      "execution_count": null,
      "outputs": []
    },
    {
      "cell_type": "code",
      "source": [
        "tree_hit = 0\n",
        "while tree_hit < 10:\n",
        "    tree_hit = tree_hit + 1\n",
        "    print(f\"나무를 {tree_hit}번 찍었습니다.\")\n",
        "    if tree_hit == 10:\n",
        "        print(\"나무 넘어갑니다.\")"
      ],
      "metadata": {
        "id": "TnZqNDHjDmj4"
      },
      "execution_count": null,
      "outputs": []
    },
    {
      "cell_type": "code",
      "source": [
        "## 문자열 포매팅: 변수를 문자열에 넣어서 출력하기\n",
        "name = \"강민기\"\n",
        "print(f\"제 이름은 {name}입니다.\")\n",
        "name = \"손흥민\"\n",
        "print(f\"제 이름은 {name}입니다.\")"
      ],
      "metadata": {
        "id": "NBWTeopoEvZD"
      },
      "execution_count": null,
      "outputs": []
    },
    {
      "cell_type": "markdown",
      "source": [
        "### while문 강제로 빠져나가기\n",
        "while문은 조건문이 참이 동안에 계속해서 while문 안의 내용을 반복해서 수행합니다.\n",
        "\n",
        "커피 자판기의 예시를 들어봅시다. 커피가 있다면 돈을 넣었을 때 커피가 나오고, 없으면 판매를 중단하고 \"판매 중지\" 문구를 보여주어야 합니다."
      ],
      "metadata": {
        "id": "rwnUvIDvDZNd"
      }
    },
    {
      "cell_type": "code",
      "source": [
        "coffee = 10\n",
        "money = 300\n",
        "while money > 0:\n",
        "    print(\"돈을 받았으니 커피를 줍니다.\")\n",
        "    coffee = coffee - 1\n",
        "    print(f\"남은 커피의 양은 {coffee}개입니다.\")\n",
        "    if coffee == 0:\n",
        "        print(\"커피가 다 떨어졌습니다. 판매를 중지합니다.\")\n",
        "        break # while문 강제 탈출"
      ],
      "metadata": {
        "id": "HmbD_ztuEkc-"
      },
      "execution_count": null,
      "outputs": []
    },
    {
      "cell_type": "markdown",
      "source": [
        "실제로 사용자에게 돈의 양을 입력받고, 이에 따라서 작동하게 하려면 어떻게 해야 할까요?\n",
        "\n",
        "## Quick Quiz!\n",
        "이전에 배웠던 조건문을 활용하여 빈칸을 채워보세요"
      ],
      "metadata": {
        "id": "aPUcWMKkEjrV"
      }
    },
    {
      "cell_type": "code",
      "source": [
        "coffee = 10\n",
        "while True:\n",
        "    money = int(input(\"돈을 넣어 주세요: \"))\n",
        "    if 빈칸1: # 돈이 300원과 같을 때 \n",
        "        print(\"커피를 줍니다.\")\n",
        "        coffee = coffee -1\n",
        "    elif money > 300:\n",
        "        print(f\"거스름돈 {빈칸2}원을 주고 커피를 줍니다.\") # 받은 돈에서 300원을 뺀 돈\n",
        "        coffee = coffee -1\n",
        "    else:\n",
        "        print(\"돈을 다시 돌려주고 커피를 주지 않습니다.\")\n",
        "        print(f\"남은 커피의 양은 {coffee}개 입니다.\")\n",
        "    if 빈칸3: # 커피 갯수가 0이 되었을 때\n",
        "        print(\"커피가 다 떨어졌습니다. 판매를 중지 합니다.\")\n",
        "        break"
      ],
      "metadata": {
        "id": "YDUjfSYPFkvD"
      },
      "execution_count": null,
      "outputs": []
    },
    {
      "cell_type": "markdown",
      "source": [
        "# For 문"
      ],
      "metadata": {
        "id": "WiXtN1olGTmd"
      }
    },
    {
      "cell_type": "markdown",
      "source": [
        "파이썬의 직관적인 특징을 가장 잘 대변해 주는 것이 바로 이 for문이다. while문과 비슷한 반복문인 for문은 매우 유용하고 문장 구조가 한눈에 쏙 들어온다는 장점이 있다. for문을 잘 사용하면 프로그래밍이 즐거워질 것이다.\n",
        "\n",
        "가장 전형적인 for문의 예제를 확인해봅시다."
      ],
      "metadata": {
        "id": "3n7x13mKGZbE"
      }
    },
    {
      "cell_type": "code",
      "source": [
        "test_list = [\"one\", \"two\", \"three\"]\n",
        "for i in test_list:\n",
        "    print(i)"
      ],
      "metadata": {
        "id": "sYQ40_gKGWnM"
      },
      "execution_count": null,
      "outputs": []
    },
    {
      "cell_type": "code",
      "source": [
        "# 응용\n",
        "a = [[1, 2], [3, 4], [5 ,6]]\n",
        "for (first, last) in a:\n",
        "    print(first + last)"
      ],
      "metadata": {
        "id": "xSdx2urcGlUk"
      },
      "execution_count": null,
      "outputs": []
    },
    {
      "cell_type": "markdown",
      "source": [
        "실제로 어떤 경우에 for문을 사용할까요? 쓰임새를 알기 위해 다음을 가정해봅시다.\n",
        "\n",
        "\"총 5명의 선수가 패널티킥 연습을 하는데, 5골 이상을 넣으면 합격이고 그렇지 않으면 불합격이다. 합격인지 불합격인지 결과를 보여주시오.\""
      ],
      "metadata": {
        "id": "-L_oSSMqGvDW"
      }
    },
    {
      "cell_type": "code",
      "source": [
        "goals = [10, 2, 4, 6, 1]\n",
        "\n",
        "number = 0\n",
        "for goal in goals:\n",
        "    number += 1 # number = number + 1과 동일\n",
        "    if goal >= 5:\n",
        "        print(f\"{number}번 학생은 합격입니다.\")\n",
        "    else:\n",
        "        print(f\"{number}번 학생은 불합격입니다.\")"
      ],
      "metadata": {
        "id": "d3aE9DwVGpgN"
      },
      "execution_count": null,
      "outputs": []
    },
    {
      "cell_type": "markdown",
      "source": [
        "for문은 숫자 리스트를 자동으로 만들어 주는 range 함수와 함께 사용하는 경우가 많습니다. 다음은 range 함수의 간단한 사용법입니다."
      ],
      "metadata": {
        "id": "nYctgchgHRNE"
      }
    },
    {
      "cell_type": "code",
      "source": [
        "a = range(10)\n",
        "print(a)"
      ],
      "metadata": {
        "id": "jfttYrJQHAx-"
      },
      "execution_count": null,
      "outputs": []
    },
    {
      "cell_type": "code",
      "source": [
        "for i in range(1, 10):\n",
        "    print(i)"
      ],
      "metadata": {
        "id": "PAqP5gT7HXHr"
      },
      "execution_count": null,
      "outputs": []
    },
    {
      "cell_type": "code",
      "source": [
        "# 1부터 10까지의 합을 구해서 출력\n",
        "sum = 0\n",
        "for i in range(1, 11):\n",
        "    sum += i\n",
        "print(sum)"
      ],
      "metadata": {
        "id": "09Jh0sbhHr_e"
      },
      "execution_count": null,
      "outputs": []
    },
    {
      "cell_type": "markdown",
      "source": [
        "## Quick Quiz!\n",
        "for문과 range 함수를 활용해서 1부터 1000까지의 합을 구해보세요!"
      ],
      "metadata": {
        "id": "fbCHnHXZHcOy"
      }
    },
    {
      "cell_type": "code",
      "source": [
        "sum = 0\n",
        "# 코드를 입력해주세요!"
      ],
      "metadata": {
        "id": "XKfMcOe6HkmQ"
      },
      "execution_count": null,
      "outputs": []
    },
    {
      "cell_type": "markdown",
      "source": [
        "활용하면 다음과 같이 구구단도 만들 수 있습니다.\n"
      ],
      "metadata": {
        "id": "Vzo60GBnHbJY"
      }
    },
    {
      "cell_type": "code",
      "source": [
        "for i in range(2, 10):\n",
        "    for j in range(1, 10):\n",
        "        print(i * j, end=\" \")\n",
        "    print('')"
      ],
      "metadata": {
        "id": "6JPm-hF5H21t"
      },
      "execution_count": null,
      "outputs": []
    },
    {
      "cell_type": "markdown",
      "source": [
        "### 심화 응용: 리스트 내포 (List Comprehension)\n",
        "\n",
        "응용하면 for문을 리스트 안에 포함시키는 리스트 내포를 사용할 수 있습니다.\n",
        "이를 사용하면 더 간결하고 직관적인 프로그램을 만들 수 있습니다."
      ],
      "metadata": {
        "id": "ij9Gdp9jILws"
      }
    },
    {
      "cell_type": "code",
      "source": [
        "a = [1, 2, 3, 4]\n",
        "result = []\n",
        "for num in a:\n",
        "    result.append(num * 3)\n",
        "print(result)"
      ],
      "metadata": {
        "id": "Up0TajwoIJ9W"
      },
      "execution_count": null,
      "outputs": []
    },
    {
      "cell_type": "code",
      "source": [
        "result = [num * 3 for num in a]\n",
        "print(result)"
      ],
      "metadata": {
        "id": "KMa3gd-VIZLi"
      },
      "execution_count": null,
      "outputs": []
    },
    {
      "cell_type": "markdown",
      "source": [
        "한 발 더 나아가서, if문까지 포함하여 만들 수 있습니다.\n",
        "\n",
        "만약 1,2,3,4 중 짝수에만 3을 곱하여 담고 있는 리스트를 만들고 싶다면 다음과 같이 할 수 있습니다."
      ],
      "metadata": {
        "id": "6_hKTGsxIgMn"
      }
    },
    {
      "cell_type": "code",
      "source": [
        "result = [num * 3 for num in a if num % 2 == 0]\n",
        "print(result)"
      ],
      "metadata": {
        "id": "-kWatj9cInyB"
      },
      "execution_count": null,
      "outputs": []
    },
    {
      "cell_type": "markdown",
      "source": [
        "## Quick Quiz!\n",
        "그렇다면 홀수에만 3을 곱하여 담고 있는 리스트는 어떻게 만들까요? 코드를 작성하고 출력해봅시다."
      ],
      "metadata": {
        "id": "-Ah8bQj4Itpu"
      }
    },
    {
      "cell_type": "code",
      "source": [
        "# 코드를 입력해주세요!"
      ],
      "metadata": {
        "id": "FdGQ7y7_IsLl"
      },
      "execution_count": null,
      "outputs": []
    },
    {
      "cell_type": "markdown",
      "source": [
        "# 퀴즈 3"
      ],
      "metadata": {
        "id": "VgPmYp7JI9TD"
      }
    },
    {
      "cell_type": "markdown",
      "source": [
        "## Q1\n",
        "다음 코드의 결괏값은 무엇일까요? 코드를 돌리기전에 생각해보고, 돌려서 생각했던 것과 같은지 확인해봅시다."
      ],
      "metadata": {
        "id": "owrAUGvtI_GH"
      }
    },
    {
      "cell_type": "code",
      "source": [
        "a = \"Life is too short, you need python\"\n",
        "\n",
        "if \"wise\" in a: \n",
        "    print(\"wise\")\n",
        "elif \"python\" in a and \"you\" not in a: \n",
        "    print(\"python\")\n",
        "elif \"shirt\" not in a: \n",
        "    print(\"shirt\")\n",
        "elif \"need\" in a: \n",
        "    print(\"need\")\n",
        "else: print(\"none\")"
      ],
      "metadata": {
        "id": "w-brb1sqI8s5"
      },
      "execution_count": null,
      "outputs": []
    },
    {
      "cell_type": "markdown",
      "source": [
        "## Q2\n",
        "while문을 사용해 1부터 1000까지의 자연수 중 3의 배수의 합을 구해 봅시다."
      ],
      "metadata": {
        "id": "8ibuUfimJQxR"
      }
    },
    {
      "cell_type": "code",
      "source": [
        "# 코드를 작성해보세요!"
      ],
      "metadata": {
        "id": "LIiWhv0bJaXa"
      },
      "execution_count": null,
      "outputs": []
    },
    {
      "cell_type": "markdown",
      "source": [
        "## Q3\n",
        "while문을 사용하여 다음과 같이 별(*)을 표시하는 프로그램을 작성해봅시다.\n",
        "```\n",
        "*\n",
        "**\n",
        "***\n",
        "****\n",
        "*****\n",
        "```\n",
        "\n"
      ],
      "metadata": {
        "id": "6hk6F4SIJYVw"
      }
    },
    {
      "cell_type": "code",
      "source": [
        "# 코드를 작성해보세요!"
      ],
      "metadata": {
        "id": "4W5vLV-1JllQ"
      },
      "execution_count": null,
      "outputs": []
    },
    {
      "cell_type": "markdown",
      "source": [
        "## Q4\n",
        "for문을 사용하여 1부터 100까지의 숫자를 출력해봅시다."
      ],
      "metadata": {
        "id": "8lXwbLWqJm0F"
      }
    },
    {
      "cell_type": "code",
      "source": [
        "# 코드를 작성해보세요!"
      ],
      "metadata": {
        "id": "XDlqvGSjJyWx"
      },
      "execution_count": null,
      "outputs": []
    },
    {
      "cell_type": "markdown",
      "source": [
        "## Q5\n",
        "다음은 어떤 선수의 출전 시간 기록이다. \n",
        "\n",
        "for문을 사용하여 이 선수의 평균 출전 시간을 구해봅시다."
      ],
      "metadata": {
        "id": "6UX3kz8qJxK9"
      }
    },
    {
      "cell_type": "code",
      "source": [
        "# 코드를 작성해보세요!\n",
        "a = [86, 99, 97, 96, 98, 98, 97, 97, 97, 97, 27, 99]"
      ],
      "metadata": {
        "id": "x6C5GsKiKIrM"
      },
      "execution_count": null,
      "outputs": []
    },
    {
      "cell_type": "markdown",
      "source": [
        "## Q6\n",
        "리스트 중에서 홀수에만 2를 곱하여 저장하는 다음 코드가 있다."
      ],
      "metadata": {
        "id": "IQ07YbGvKRxI"
      }
    },
    {
      "cell_type": "code",
      "source": [
        "numbers = [1, 2, 3, 4, 5]\n",
        "result = []\n",
        "for n in numbers:\n",
        "    if n % 2 == 1:\n",
        "        result.append(n*2)"
      ],
      "metadata": {
        "id": "XoBIOw8FKWQa"
      },
      "execution_count": null,
      "outputs": []
    },
    {
      "cell_type": "markdown",
      "source": [
        "이 코드를 리스트 내포 (list comprehension)을 사용해서 간결하게 표현해봅시다!"
      ],
      "metadata": {
        "id": "VPy-naSSKX_Q"
      }
    },
    {
      "cell_type": "code",
      "source": [
        "# 코드를 작성해보세요!"
      ],
      "metadata": {
        "id": "782k294jKcdD"
      },
      "execution_count": null,
      "outputs": []
    },
    {
      "cell_type": "markdown",
      "source": [
        "# 함수"
      ],
      "metadata": {
        "id": "4z2KZ8MbRanL"
      }
    },
    {
      "cell_type": "markdown",
      "source": [
        "반복되는 부분을 하나로 묶어서 \"어떤 입력값을 주었을 때 어떤 결괏값을 돌려준다\"라는 식의 함수로 작성합니다.\n",
        "\n",
        "계산기를 예시로 들어봅시다."
      ],
      "metadata": {
        "id": "PzOWAuH6RuRk"
      }
    },
    {
      "cell_type": "code",
      "source": [
        "a = 3\n",
        "b = 5\n",
        "print(a + b)\n",
        "\n",
        "a = 7\n",
        "b = 2\n",
        "print(a + b)\n",
        "\n",
        "a = 6\n",
        "b = 4\n",
        "print(a + b)\n",
        "\n",
        "# 불필요하게 반복되는 부분이 아주 많다!"
      ],
      "metadata": {
        "id": "dSwFJ2U6SCuT"
      },
      "execution_count": null,
      "outputs": []
    },
    {
      "cell_type": "markdown",
      "source": [
        "함수를 사용하면 다음과 같이 간략하게 표현이 됩니다.\n",
        "\"이 함수의 이름은 add이고 입력으로 두 개의 값 a, b를 받으며 2개의 입력값을 더한 값을 출력한다\""
      ],
      "metadata": {
        "id": "dLvfoekfSaoC"
      }
    },
    {
      "cell_type": "code",
      "source": [
        "def sum(a, b):\n",
        "    print(a + b)\n",
        "sum(3, 5)\n",
        "sum(7, 2)\n",
        "sum(6, 4)"
      ],
      "metadata": {
        "id": "wduW8YOTSPK1"
      },
      "execution_count": null,
      "outputs": []
    },
    {
      "cell_type": "markdown",
      "source": [
        "또는, 함수가 결괏값을 \"반환 (return)\" 하도록 만들 수도 있습니다."
      ],
      "metadata": {
        "id": "TvRik_7eSqJS"
      }
    },
    {
      "cell_type": "code",
      "source": [
        "# 결괏값이 없는 함수\n",
        "def sum(a, b):\n",
        "    print(a + b)\n",
        "c = sum(3, 6)\n",
        "print(c)"
      ],
      "metadata": {
        "id": "2aBVsv81SpaE"
      },
      "execution_count": null,
      "outputs": []
    },
    {
      "cell_type": "code",
      "source": [
        "# 결괏값이 있는 함수\n",
        "def sum(a, b):\n",
        "    return a + b\n",
        "c = sum(3, 6)\n",
        "print(c)"
      ],
      "metadata": {
        "id": "8EgLzNB-S7S3"
      },
      "execution_count": null,
      "outputs": []
    },
    {
      "cell_type": "markdown",
      "source": [
        "입력값이 필요없는 함수도 존재합니다."
      ],
      "metadata": {
        "id": "pmCH2eSMTUZ3"
      }
    },
    {
      "cell_type": "code",
      "source": [
        "def say():\n",
        "    print(\"Hi\")\n",
        "say()"
      ],
      "metadata": {
        "id": "5rK4AfjrTW0H"
      },
      "execution_count": null,
      "outputs": []
    },
    {
      "cell_type": "markdown",
      "source": [
        "# 과제\n",
        "지금까지 배운 것을 종합하여 축구 데이터 분석의 기초에 활용해봅시다!\n",
        "\n",
        "다음은 신광훈 선수의 10경기 기록을 딕셔너리의 리스트 형태로 저장해놓은 것입니다.\n",
        "\n",
        "경기 기록들을 통해서 의미 있는 정보를 추출해봅시다!\n"
      ],
      "metadata": {
        "id": "_4fCX_WMSZpF"
      }
    },
    {
      "cell_type": "code",
      "source": [
        "plays = [\n",
        "    {'Match': 'Seongnam - Pohang Steelers 1:1', 'Date': '2022-09-18', 'Position': 'LDMF, RB', 'Crosses': 3, 'Crosses accurate': 1, 'Dribbles': 1, 'Dribbles successful': 0, 'Offensive duels': 6, 'Offensive duels won': 1, 'Fouls suffered': 1},\n",
        "    {'Match': 'Suwon Bluewings - Pohang Steelers 0:2', 'Date': '2022-09-14', 'Position': 'RB', 'Crosses': 1, 'Crosses accurate': 1, 'Dribbles': 0, 'Dribbles successful': 0, 'Offensive duels': 1, 'Offensive duels won': 1, 'Fouls suffered': 1},\n",
        "    {'Match': 'Ulsan Hyundai - Pohang Steelers 1:2', 'Date': '2022-09-11', 'Position': 'RB', 'Crosses': 2, 'Crosses accurate': 1, 'Dribbles': 2, 'Dribbles successful': 1, 'Offensive duels': 6, 'Offensive duels won': 2, 'Fouls suffered': 1},\n",
        "    {'Match': 'Pohang Steelers - Daegu 4:1', 'Date': '2022-09-18', 'Position': 'LDMF, RB', 'Crosses': 3, 'Crosses accurate': 1, 'Dribbles': 1, 'Dribbles successful': 0, 'Offensive duels': 6, 'Offensive duels won': 1, 'Fouls suffered': 0},\n",
        "    {'Match': 'Jeonbuk Motors - Pohang Steelers 2:2', 'Date': '2022-08-29', 'Position': 'RB', 'Crosses': 4, 'Crosses accurate': 0, 'Dribbles': 0, 'Dribbles successful': 0, 'Offensive duels': 3, 'Offensive duels won': 1, 'Fouls suffered': 0},\n",
        "    {'Match': 'Pohang Steelers - Incheon United 1:1', 'Date': '2022-08-20', 'Position': 'RB', 'Crosses': 8, 'Crosses accurate': 2, 'Dribbles': 2, 'Dribbles successful': 1, 'Offensive duels': 4, 'Offensive duels won': 2, 'Fouls suffered': 1},\n",
        "    {'Match': 'Jeju United - Pohang Steelers 5:0', 'Date': '2022-08-14', 'Position': 'RB', 'Crosses': 2, 'Crosses accurate': 0, 'Dribbles': 2, 'Dribbles successful': 1, 'Offensive duels': 3, 'Offensive duels won': 1, 'Fouls suffered': 0},\n",
        "    {'Match': 'Pohang Steelers - Gangwon 2:1', 'Date': '2022-08-06', 'Position': 'RB', 'Crosses': 4, 'Crosses accurate': 0, 'Dribbles': 2, 'Dribbles successful': 2, 'Offensive duels': 10, 'Offensive duels won': 6, 'Fouls suffered': 2},\n",
        "    {'Match': 'Gimcheon Sangmu - Pohang Steelers 0:1', 'Date': '2022-08-02', 'Position': 'RB', 'Crosses': 2, 'Crosses accurate': 1, 'Dribbles': 2, 'Dribbles successful': 1, 'Offensive duels': 5, 'Offensive duels won': 1, 'Fouls suffered': 1},\n",
        "    {'Match': 'Pohang Steelers - Seoul 1:2', 'Date': '2022-07-30', 'Position': 'RB, RCMF', 'Crosses': 2, 'Crosses accurate': 1, 'Dribbles': 2, 'Dribbles successful': 1, 'Offensive duels': 4, 'Offensive duels won': 3, 'Fouls suffered': 1},\n",
        "]"
      ],
      "metadata": {
        "id": "i5j2xBstzoU-"
      },
      "execution_count": null,
      "outputs": []
    },
    {
      "cell_type": "markdown",
      "source": [
        "### 과제 1\n",
        "\n",
        "평균 파울 (\"Fouls suffered\") 횟수를 구하는 코드를 작성해보세요.\n",
        "\n",
        "### 과제 2\n",
        "\n",
        "첫 번째 경기 (Seongnam - Pohang Steelers 1:1)에서 크로스 성공률, 드리블 성공률, Offensive duel 성공률을 계산해보세요.\n",
        "\n",
        "Hint)\n",
        "* 크로스 성공률: 'Crosses accurate' / 'Crosses' * 100\n",
        "* 드리블 성공률: 'Dribbles' / 'Dribbles successful' * 100\n",
        "* \bOffensive Duel 성공률: 'Offensive duels' / 'Offensive duels won' * 100\n",
        "\n",
        "### 과제 3\n",
        "과제 2에서 한 것을 활용하여, 크로스 성공률, 드리블 성공률, Offensive Duel 성공률의 10경기에서의 평균값을 구해보세요.\n",
        "\n",
        "### 과제 4\n",
        "모든 데이터에서 신광훈 선수의 소속팀은 \"Pohang Steelers\"입니다. 'Match'에 있는 스코어 정보를 활용하여 10경기에서의 Pohang Steelers의 승률을 구하는 코드를 작성해보세요.\n",
        "\n"
      ],
      "metadata": {
        "id": "bdEDJZqm2aAw"
      }
    }
  ]
}