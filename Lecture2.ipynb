{
  "nbformat": 4,
  "nbformat_minor": 0,
  "metadata": {
    "colab": {
      "provenance": [],
      "collapsed_sections": [
        "9yXaZR_ZsNue"
      ]
    },
    "kernelspec": {
      "name": "python3",
      "display_name": "Python 3"
    },
    "language_info": {
      "name": "python"
    }
  },
  "cells": [
    {
      "cell_type": "markdown",
      "source": [
        "# 파이썬을 활용한 데이터 시각화\n",
        "* Pandas 라이브러리 복습\n",
        "* Plotly 개요\n",
        "* 시각화 실습\n",
        "* 심화 강의 (선택)"
      ],
      "metadata": {
        "id": "9yXaZR_ZsNue"
      }
    },
    {
      "cell_type": "markdown",
      "source": [
        "# Pandas 기초\n"
      ],
      "metadata": {
        "id": "C65ZqHr15Ghi"
      }
    },
    {
      "cell_type": "markdown",
      "source": [
        "## Pandas란?\n",
        "\n",
        "파이썬을 통한 데이터 분석을 위하여 꼭 필요한 \"라이브러리\" 중 하나입니다. dataframe이라는 것을 통하여 데이터를 다루는데 엑셀 형식의 데이터를 다루는 것에 특화되어 있습니다.\n",
        "\n",
        "이번에는 샘플 데이터를 통해 이 Pandas의 기능과 다루는 방법에 대하여 간단하게 알아보도록 하겠습니다."
      ],
      "metadata": {
        "id": "p-8kqzbZ5_xN"
      }
    },
    {
      "cell_type": "code",
      "source": [
        "import pandas as pd # pandas 라이브러리를 pd라는 이름으로 가져온다"
      ],
      "metadata": {
        "id": "9gh2K0_A7kBE"
      },
      "execution_count": 3,
      "outputs": []
    },
    {
      "cell_type": "code",
      "source": [
        "df1 = pd.read_excel('player_stats.xlsx', engine='openpyxl') # Excel 파일을 read_excel 함수를 사용하여 읽어온다"
      ],
      "metadata": {
        "id": "ikLS_ZTT7oR4"
      },
      "execution_count": 2,
      "outputs": []
    },
    {
      "cell_type": "code",
      "source": [
        "print(df1.columns)"
      ],
      "metadata": {
        "colab": {
          "base_uri": "https://localhost:8080/"
        },
        "id": "B16FHPJbAkjQ",
        "outputId": "0a777afa-f903-4429-fa2a-eb2620a276de"
      },
      "execution_count": 3,
      "outputs": [
        {
          "output_type": "stream",
          "name": "stdout",
          "text": [
            "Index(['Match', 'Competition', 'Date', 'Position', 'Minutes played', 'Goals',\n",
            "       'Assists', 'Shots / on target', 'Unnamed: 8', 'xG', 'Shot assists',\n",
            "       'Crosses / accurate', 'Unnamed: 12', 'Dribbles / successful',\n",
            "       'Unnamed: 14', 'Offensive duels / won', 'Unnamed: 16',\n",
            "       'Touches in penalty area', 'Offsides', 'Progressive runs',\n",
            "       'Fouls suffered'],\n",
            "      dtype='object')\n"
          ]
        }
      ]
    },
    {
      "cell_type": "code",
      "source": [
        "df2 = pd.read_excel('player_stats2.xlsx', engine='openpyxl')\n",
        "df3 = pd.read_excel('player_stats3.xlsx', engine='openpyxl')"
      ],
      "metadata": {
        "id": "V_BV-hkoAIh_"
      },
      "execution_count": 4,
      "outputs": []
    },
    {
      "cell_type": "code",
      "source": [
        "print(df2.columns)"
      ],
      "metadata": {
        "colab": {
          "base_uri": "https://localhost:8080/"
        },
        "id": "CwGLvq_CAe3L",
        "outputId": "7903479d-5379-4243-d678-bfb14e7aacb2"
      },
      "execution_count": 5,
      "outputs": [
        {
          "output_type": "stream",
          "name": "stdout",
          "text": [
            "Index(['Match', 'Competition', 'Date', 'Position', 'Minutes played',\n",
            "       'Passes / accurate', 'Unnamed: 6', 'Long passes / accurate',\n",
            "       'Unnamed: 8', 'Through passes / accurate', 'Unnamed: 10',\n",
            "       'Crosses / accurate', 'Unnamed: 12', 'Assists', 'xA', 'Second assists',\n",
            "       'Passes to final third / accurate', 'Unnamed: 17',\n",
            "       'Passes to penalty area / accurate', 'Unnamed: 19', 'Received passes',\n",
            "       'Forward passes / accurate', 'Unnamed: 22', 'Back passes / accurate',\n",
            "       'Unnamed: 24'],\n",
            "      dtype='object')\n"
          ]
        }
      ]
    },
    {
      "cell_type": "code",
      "source": [
        "print(df3.columns)"
      ],
      "metadata": {
        "colab": {
          "base_uri": "https://localhost:8080/"
        },
        "id": "_JXfoqxhAo23",
        "outputId": "c907e41d-47d8-423d-fc62-65f4960bca3a"
      },
      "execution_count": 6,
      "outputs": [
        {
          "output_type": "stream",
          "name": "stdout",
          "text": [
            "Index(['Match', 'Competition', 'Date', 'Position', 'Minutes played',\n",
            "       'Defensive duels / won', 'Unnamed: 6', 'Aerial duels / won',\n",
            "       'Unnamed: 8', 'Loose ball duels / won', 'Unnamed: 10',\n",
            "       'Sliding tackles / successful', 'Unnamed: 12', 'Interceptions',\n",
            "       'Losses / own half', 'Unnamed: 15', 'Recoveries / opp. half',\n",
            "       'Unnamed: 17', 'Clearances', 'Fouls', 'Yellow cards', 'Red cards'],\n",
            "      dtype='object')\n"
          ]
        }
      ]
    },
    {
      "cell_type": "markdown",
      "source": [
        "두 Column이 하나의 이름을 공유하고 있으면, 두 번째 column의 이름이 \"`Unnamed: 숫자`\"로 자동으로 변경됩니다.\n",
        "\n",
        "이 상태에서는 보기가 어려우니, 보기 쉬운 이름으로 바꿔봅시다!\n",
        "\n",
        "rename 함수를 사용하면 쉽게 바꿀 수 있다."
      ],
      "metadata": {
        "id": "fkZoEIcpluTa"
      }
    },
    {
      "cell_type": "code",
      "source": [
        "# {\"바꾸고 싶은 이름\": \"바꿀 이름\"} 형태의 딕셔너리로 입력을 넣는다.\n",
        "df1 = df1.rename(columns={\n",
        "    \"Shots / on target\": \"Shots\", # 예시) Shots / on target 이름의 column을 Shots로 바꾼다.\n",
        "    \"Unnamed: 8\": \"Shots on target\",\n",
        "    \"Crosses / accurate\": \"Crosses\",\n",
        "    \"Unnamed: 12\": \"Crosses accurate\",\n",
        "    \"Dribbles / successful\": \"Dribbles\",\n",
        "    \"Unnamed: 14\": \"Dribbles successful\",\n",
        "    \"Offensive duels / won\": \"Offensive duels\",\n",
        "    \"Unnamed: 16\": \"Offensive duels won\"\n",
        "})\n",
        "df2 = df2.rename(columns={\n",
        "    \"Passes / accurate\": \"Passes\",\n",
        "    \"Unnamed: 6\": \"Passes accurate\",\n",
        "    \"Long passes / accurate\": \"Long passes\",\n",
        "    \"Unnamed: 8\": \"Long passes accurate\",\n",
        "    \"Through passes / accurate\": \"Through passes\",\n",
        "    \"Unnamed: 10\": \"Through passes accurate\",\n",
        "    \"Crosses / accurate\": \"Crosses\",\n",
        "    \"Unnamed: 12\": \"Crosses accurate\",\n",
        "    \"Passes to final third / accurate\": \"Passes to final third\",\n",
        "    \"Unnamed: 17\": \"Passes to final third accurate\",\n",
        "    \"Passes to penalty area / accurate\": \"Passes to penalty area\",\n",
        "    \"Unnamed: 19\": \"Passes to penalty area accurate\",\n",
        "    \"Forward passes / accurate\": \"Forward passes\",\n",
        "    \"Unnamed: 22\": \"Forward passes accurate\",\n",
        "    \"Back passes / accurate\": \"Back passes\",\n",
        "    \"Unnamed: 24\": \"Back passes accurate\"\n",
        "})\n",
        "df3 = df3.rename(columns={\n",
        "    \"Defensive duels / won\": \"Defensive duels\",\n",
        "    \"Unnamed: 6\": \"Defensive duels won\",\n",
        "    \"Aerial duels / won\": \"Aerial duels\",\n",
        "    \"Unnamed: 8\": \"Aerial duels won\",\n",
        "    \"Loose ball duels / won\": \"Loose ball duels\",\n",
        "    \"Unnamed: 10\": \"Loose ball duels won\",\n",
        "    \"Sliding tackles / successful\": \"Sliding tackles\",\n",
        "    \"Unnamed: 12\": \"Sliding tackles successful\",\n",
        "})"
      ],
      "metadata": {
        "id": "1Twak0ijmd0L"
      },
      "execution_count": 7,
      "outputs": []
    },
    {
      "cell_type": "code",
      "source": [
        "df = pd.merge(df1, df2)\n",
        "df = pd.merge(df, df3)\n",
        "print(df.columns)"
      ],
      "metadata": {
        "id": "wrEYyyP9nmP3",
        "colab": {
          "base_uri": "https://localhost:8080/"
        },
        "outputId": "b300288a-2c8c-466c-990e-5c905bdb73cc"
      },
      "execution_count": 8,
      "outputs": [
        {
          "output_type": "stream",
          "name": "stdout",
          "text": [
            "Index(['Match', 'Competition', 'Date', 'Position', 'Minutes played', 'Goals',\n",
            "       'Assists', 'Shots', 'Shots on target', 'xG', 'Shot assists', 'Crosses',\n",
            "       'Crosses accurate', 'Dribbles', 'Dribbles successful',\n",
            "       'Offensive duels', 'Offensive duels won', 'Touches in penalty area',\n",
            "       'Offsides', 'Progressive runs', 'Fouls suffered', 'Passes',\n",
            "       'Passes accurate', 'Long passes', 'Long passes accurate',\n",
            "       'Through passes', 'Through passes accurate', 'xA', 'Second assists',\n",
            "       'Passes to final third', 'Passes to final third accurate',\n",
            "       'Passes to penalty area', 'Passes to penalty area accurate',\n",
            "       'Received passes', 'Forward passes', 'Forward passes accurate',\n",
            "       'Back passes', 'Back passes accurate', 'Defensive duels',\n",
            "       'Defensive duels won', 'Aerial duels', 'Aerial duels won',\n",
            "       'Loose ball duels', 'Loose ball duels won', 'Sliding tackles',\n",
            "       'Sliding tackles successful', 'Interceptions', 'Losses / own half',\n",
            "       'Unnamed: 15', 'Recoveries / opp. half', 'Unnamed: 17', 'Clearances',\n",
            "       'Fouls', 'Yellow cards', 'Red cards'],\n",
            "      dtype='object')\n"
          ]
        }
      ]
    },
    {
      "cell_type": "markdown",
      "source": [
        "### 경기 날짜를 통해 경기 분류하기\n",
        "\n",
        "Date 값을 보면 각 경기가 치뤄진 날짜를 알 수 있습니다.\n",
        "\n"
      ],
      "metadata": {
        "id": "h99j09aEsngz"
      }
    },
    {
      "cell_type": "code",
      "source": [
        "date_list = df[\"Date\"].tolist() # tolist 함수를 통해 리스트 형태로 변환합니다.\n",
        "print(date_list)"
      ],
      "metadata": {
        "id": "H154_CO0tLyV",
        "colab": {
          "base_uri": "https://localhost:8080/"
        },
        "outputId": "61e5b7c0-2d08-4f91-fea8-d4f03e6aecd0"
      },
      "execution_count": 9,
      "outputs": [
        {
          "output_type": "stream",
          "name": "stdout",
          "text": [
            "['2022-09-18', '2022-09-14', '2022-09-11', '2022-09-03', '2022-08-29', '2022-08-20', '2022-08-14', '2022-08-06', '2022-08-02', '2022-07-30', '2022-07-16', '2022-07-10', '2022-07-02', '2022-06-29', '2022-06-26', '2022-06-21', '2022-06-17', '2022-05-29', '2022-05-25', '2022-05-21', '2022-05-18', '2022-05-15', '2022-05-08', '2022-05-05', '2022-04-10', '2022-04-06', '2022-04-03', '2022-03-27', '2022-03-12', '2022-03-05', '2022-03-02', '2022-02-27', '2022-02-20', '2021-12-04', '2021-11-23', '2021-11-07', '2021-11-03', '2021-10-30', '2021-10-24', '2021-10-20', '2021-10-17', '2021-10-03', '2021-09-29', '2021-09-25', '2021-09-21', '2021-09-15', '2021-09-10', '2021-08-28', '2021-08-25', '2021-08-22', '2021-08-15', '2021-08-07', '2021-08-04', '2021-08-01', '2021-07-24', '2021-07-07', '2021-07-04', '2021-07-01', '2021-06-25', '2021-06-22', '2021-05-30', '2021-05-26', '2021-05-22', '2021-05-18', '2021-05-01', '2021-04-24', '2021-04-20', '2021-04-17', '2021-04-06', '2021-04-02', '2021-03-21', '2021-03-17', '2021-03-13', '2021-03-09', '2021-03-06', '2021-02-28', '2020-09-27', '2020-09-13', '2020-09-06', '2020-08-30', '2020-08-22', '2020-08-16', '2020-08-07', '2020-08-02', '2020-07-25', '2020-07-19', '2020-07-12', '2020-07-04', '2020-06-27', '2020-06-20', '2020-06-16', '2020-06-13', '2020-06-05', '2020-05-30', '2020-05-23', '2020-05-16', '2020-05-10', '2019-12-01', '2019-11-23', '2019-11-03', '2019-10-26', '2019-10-20', '2019-10-06', '2019-10-02', '2019-09-25', '2019-09-15', '2019-09-01', '2019-08-24', '2019-08-17', '2019-08-11', '2019-08-04', '2019-07-31', '2019-07-21', '2019-07-12', '2019-07-09', '2019-07-06', '2019-06-30', '2019-06-23', '2019-06-15', '2019-06-02', '2019-05-25', '2019-05-19', '2019-05-12', '2019-05-05', '2019-04-27', '2019-04-21', '2019-04-14', '2019-04-07', '2019-04-03', '2019-03-31', '2019-03-17', '2019-03-10', '2019-03-02', '2018-12-01', '2018-10-20', '2018-09-30', '2018-09-26', '2018-09-22', '2018-09-16', '2018-05-05', '2018-05-02', '2018-04-28', '2018-04-25', '2018-04-21', '2018-04-14', '2018-04-11', '2018-04-08', '2018-04-01', '2018-03-18', '2018-03-11', '2018-03-01', '2017-11-19', '2017-11-04', '2017-10-21', '2017-10-15', '2017-10-08', '2017-09-30', '2017-09-24', '2017-09-20', '2017-09-17', '2017-09-09', '2017-08-19', '2017-08-12', '2017-08-05', '2017-08-02', '2017-07-23', '2017-07-19', '2017-07-16', '2017-07-12', '2017-07-09', '2017-03-15', '2017-03-11', '2017-03-05', '2017-02-28', '2017-02-21', '2016-11-05', '2016-10-29', '2016-10-15', '2016-10-02', '2016-09-24', '2016-09-21', '2016-09-18', '2016-08-28', '2016-06-29', '2016-06-22', '2016-06-08', '2016-06-05', '2016-06-01', '2016-05-29', '2016-05-25', '2016-05-14', '2016-05-08', '2016-05-05']\n"
          ]
        }
      ]
    },
    {
      "cell_type": "markdown",
      "source": [
        "가장 먼저, 전체 데이터가 몇년도의 정보들을 담고 있는 것인지를 분석해봅시다."
      ],
      "metadata": {
        "id": "2pVFuqSutsT3"
      }
    },
    {
      "cell_type": "code",
      "source": [
        "years = []\n",
        "for date in date_list:\n",
        "    split_data = date.split('-') # 연, 월, 일로 분리됨\n",
        "    years.append(split_data[0])\n",
        "print(years)"
      ],
      "metadata": {
        "id": "SjpQksNkuA06",
        "colab": {
          "base_uri": "https://localhost:8080/"
        },
        "outputId": "d2f89689-4397-4700-aa1d-d93e7f9ee493"
      },
      "execution_count": 10,
      "outputs": [
        {
          "output_type": "stream",
          "name": "stdout",
          "text": [
            "['2022', '2022', '2022', '2022', '2022', '2022', '2022', '2022', '2022', '2022', '2022', '2022', '2022', '2022', '2022', '2022', '2022', '2022', '2022', '2022', '2022', '2022', '2022', '2022', '2022', '2022', '2022', '2022', '2022', '2022', '2022', '2022', '2022', '2021', '2021', '2021', '2021', '2021', '2021', '2021', '2021', '2021', '2021', '2021', '2021', '2021', '2021', '2021', '2021', '2021', '2021', '2021', '2021', '2021', '2021', '2021', '2021', '2021', '2021', '2021', '2021', '2021', '2021', '2021', '2021', '2021', '2021', '2021', '2021', '2021', '2021', '2021', '2021', '2021', '2021', '2021', '2020', '2020', '2020', '2020', '2020', '2020', '2020', '2020', '2020', '2020', '2020', '2020', '2020', '2020', '2020', '2020', '2020', '2020', '2020', '2020', '2020', '2019', '2019', '2019', '2019', '2019', '2019', '2019', '2019', '2019', '2019', '2019', '2019', '2019', '2019', '2019', '2019', '2019', '2019', '2019', '2019', '2019', '2019', '2019', '2019', '2019', '2019', '2019', '2019', '2019', '2019', '2019', '2019', '2019', '2019', '2019', '2019', '2018', '2018', '2018', '2018', '2018', '2018', '2018', '2018', '2018', '2018', '2018', '2018', '2018', '2018', '2018', '2018', '2018', '2018', '2017', '2017', '2017', '2017', '2017', '2017', '2017', '2017', '2017', '2017', '2017', '2017', '2017', '2017', '2017', '2017', '2017', '2017', '2017', '2017', '2017', '2017', '2017', '2017', '2016', '2016', '2016', '2016', '2016', '2016', '2016', '2016', '2016', '2016', '2016', '2016', '2016', '2016', '2016', '2016', '2016', '2016']\n"
          ]
        }
      ]
    },
    {
      "cell_type": "code",
      "source": [
        "# 1강에서 배웠던 \"years를 통한 중복 제거\"를 사용해봅시다!\n",
        "years = list(set(years))\n",
        "print(years)"
      ],
      "metadata": {
        "id": "w2W3I4wWuFGz",
        "colab": {
          "base_uri": "https://localhost:8080/"
        },
        "outputId": "31418582-6035-4b32-86af-37e36302145d"
      },
      "execution_count": 11,
      "outputs": [
        {
          "output_type": "stream",
          "name": "stdout",
          "text": [
            "['2018', '2017', '2019', '2021', '2022', '2020', '2016']\n"
          ]
        }
      ]
    },
    {
      "cell_type": "code",
      "source": [
        "# 이제 우리가 원하는 정보를 담을 딕셔너리를 생성하고, 각 key에 연도, value에 빈 리스트를 담습니다.\n",
        "year_dict = dict()\n",
        "for year in years:\n",
        "    year_dict[year] = []\n",
        "print(year_dict)"
      ],
      "metadata": {
        "id": "-0v20EVTuTI6",
        "colab": {
          "base_uri": "https://localhost:8080/"
        },
        "outputId": "26a0343d-32f2-4d59-b86f-95cb6b22cfde"
      },
      "execution_count": 12,
      "outputs": [
        {
          "output_type": "stream",
          "name": "stdout",
          "text": [
            "{'2018': [], '2017': [], '2019': [], '2021': [], '2022': [], '2020': [], '2016': []}\n"
          ]
        }
      ]
    },
    {
      "cell_type": "code",
      "source": [
        "i = 0\n",
        "for date in date_list:\n",
        "    year = date.split('-')[0]\n",
        "    year_dict[year].append(i)\n",
        "    i += 1\n",
        "print(year_dict)"
      ],
      "metadata": {
        "id": "PtwljY5Bud2B",
        "colab": {
          "base_uri": "https://localhost:8080/"
        },
        "outputId": "10d18a31-566a-4c01-895b-989f3ca87ea7"
      },
      "execution_count": 13,
      "outputs": [
        {
          "output_type": "stream",
          "name": "stdout",
          "text": [
            "{'2018': [133, 134, 135, 136, 137, 138, 139, 140, 141, 142, 143, 144, 145, 146, 147, 148, 149, 150], '2017': [151, 152, 153, 154, 155, 156, 157, 158, 159, 160, 161, 162, 163, 164, 165, 166, 167, 168, 169, 170, 171, 172, 173, 174], '2019': [97, 98, 99, 100, 101, 102, 103, 104, 105, 106, 107, 108, 109, 110, 111, 112, 113, 114, 115, 116, 117, 118, 119, 120, 121, 122, 123, 124, 125, 126, 127, 128, 129, 130, 131, 132], '2021': [33, 34, 35, 36, 37, 38, 39, 40, 41, 42, 43, 44, 45, 46, 47, 48, 49, 50, 51, 52, 53, 54, 55, 56, 57, 58, 59, 60, 61, 62, 63, 64, 65, 66, 67, 68, 69, 70, 71, 72, 73, 74, 75], '2022': [0, 1, 2, 3, 4, 5, 6, 7, 8, 9, 10, 11, 12, 13, 14, 15, 16, 17, 18, 19, 20, 21, 22, 23, 24, 25, 26, 27, 28, 29, 30, 31, 32], '2020': [76, 77, 78, 79, 80, 81, 82, 83, 84, 85, 86, 87, 88, 89, 90, 91, 92, 93, 94, 95, 96], '2016': [175, 176, 177, 178, 179, 180, 181, 182, 183, 184, 185, 186, 187, 188, 189, 190, 191, 192]}\n"
          ]
        }
      ]
    },
    {
      "cell_type": "markdown",
      "source": [
        "## 연도별 평균 수치 구하기\n",
        "\n",
        "위에서 만든 `year_dict`를 활용하여, 각 연도별로 평균 수치들을 구해봅시다.\n",
        "\n",
        "이번 강의에서 다룰 수치들은 다음과 같습니다 (분자, 분모):\n",
        "\n",
        "* 경기 시간 (\"Minutes played\")\n",
        "* 어시스트 (\"Assists\")\n",
        "* Shot 어시스트 (\"Shot assists\")\n",
        "* 크로스 정확도 (\"Crosses accurate\", \"Crosses\")\n",
        "* 드리블 성공률 (\"Dribbles successful\", \"Dribbles\")\n",
        "* Offensive Duels 승률 (\"Offensive duels won\", \"Offensive duels\")\n",
        "* Defensive Duels 승률 (\"Defensive duels won\", \"Defensive duels\")\n",
        "* Penalty area 패스 성공률 (\"Passes to penalty area accurate\", \"Passes to penalty area\")\n",
        "* 패스 성공률 (\"Passes\", \"Passes accurate\")\n",
        "* 롱패스 성공률 (\"Long passes\", \"Long passes accurate\")\n",
        "* 쓰루패스 성공률 (\"Through passes\", \"Through passes accurate\")\n",
        "* 백패스 성공률 (\"Back passes accurate\", \"Back passes\")\n",
        "---\n",
        "실습용\n",
        "* 공중경합 성공률 (\"Aerial duels won\", \"Aerial duels\")\n",
        "* Losse Ball 경합 성공률 (\"Loose ball duels won\", \"Loose ball duels\")\n",
        "* 오프사이드 횟수 (\"Offsides\")\n",
        "* 슬라이딩 태클 성공률 (\"Sliding tackles successful\", \"Sliding tackles\")\n",
        "* 옐로우 카드 (\"Yellow cards\")"
      ],
      "metadata": {
        "id": "Q8cIVpVf_81m"
      }
    },
    {
      "cell_type": "markdown",
      "source": [
        "특정 년도에 해당하는 데이터들을 먼저 모아봅시다."
      ],
      "metadata": {
        "id": "1cdOmRa1CPsF"
      }
    },
    {
      "cell_type": "code",
      "source": [
        "year = \"2020\"\n",
        "\n",
        "idxes = year_dict[year]\n",
        "year_dataset = []\n",
        "for idx in idxes:\n",
        "    # print(df.iloc[idx])\n",
        "    year_dataset.append(df.iloc[idx])"
      ],
      "metadata": {
        "id": "-ZNGF8BOCOWA"
      },
      "execution_count": 14,
      "outputs": []
    },
    {
      "cell_type": "markdown",
      "source": [
        "우리가 원하는 정보를 데이터에서 수집하고, 평균을 구해봅시다."
      ],
      "metadata": {
        "id": "jboSNIfPC0B3"
      }
    },
    {
      "cell_type": "code",
      "source": [
        "key = \"Minutes played\"\n",
        "\n",
        "_sum = 0\n",
        "for data in year_dataset:\n",
        "    _sum += data[key]\n",
        "avg = _sum / len(year_dataset)\n",
        "print(avg)"
      ],
      "metadata": {
        "id": "bw7x3qW9CwV1",
        "colab": {
          "base_uri": "https://localhost:8080/"
        },
        "outputId": "cc40d3d1-ef11-4f2f-c40b-31653d49ef32"
      },
      "execution_count": 15,
      "outputs": [
        {
          "output_type": "stream",
          "name": "stdout",
          "text": [
            "95.71428571428571\n"
          ]
        }
      ]
    },
    {
      "cell_type": "markdown",
      "source": [
        "모든 연도의 값을 일일히 구하는 것은 번거롭습니다. 이럴 때 \"함수\"를 사용해봅시다."
      ],
      "metadata": {
        "id": "bsPrBn1uC56r"
      }
    },
    {
      "cell_type": "code",
      "source": [
        "def get_average_status_for_year(year, key1, key2): # 연도, 분모, 분자 (없으면 None)\n",
        "    year = str(year) # 숫자로 넣어도 가능하도록 구현 \n",
        "    idxes = year_dict[year]\n",
        "    year_dataset = []\n",
        "    for idx in idxes:\n",
        "        year_dataset.append(df.loc[idx])\n",
        "\n",
        "    sum = 0\n",
        "    for data in year_dataset:\n",
        "        if key2 is not None:\n",
        "            if data[key2] != 0: # 0이 아닌 경우에만 나눗셈을 하도록 변경\n",
        "                sum += data[key1] / data[key2]\n",
        "            else:\n",
        "                sum += 0\n",
        "        else:\n",
        "            sum += data[key1]\n",
        "    avg = sum / len(idxes)\n",
        "    return avg"
      ],
      "metadata": {
        "id": "isvsMeiqEk3l"
      },
      "execution_count": 16,
      "outputs": []
    },
    {
      "cell_type": "code",
      "source": [
        "print(get_average_status_for_year(2016, \"Dribbles successful\", \"Dribbles\"))"
      ],
      "metadata": {
        "id": "fNBSMWjSEo9S",
        "colab": {
          "base_uri": "https://localhost:8080/"
        },
        "outputId": "91bb023f-83b3-45f5-f8ff-077585ec7d25"
      },
      "execution_count": 17,
      "outputs": [
        {
          "output_type": "stream",
          "name": "stdout",
          "text": [
            "0.3888888888888889\n"
          ]
        }
      ]
    },
    {
      "cell_type": "code",
      "source": [
        "print(get_average_status_for_year(2022, \"Back passes accurate\", \"Back passes\"))"
      ],
      "metadata": {
        "colab": {
          "base_uri": "https://localhost:8080/"
        },
        "id": "89d1rxTzDnEh",
        "outputId": "2564accc-0ab4-4e80-b693-62a0fa14673d"
      },
      "execution_count": 18,
      "outputs": [
        {
          "output_type": "stream",
          "name": "stdout",
          "text": [
            "0.9023407148407148\n"
          ]
        }
      ]
    },
    {
      "cell_type": "markdown",
      "source": [
        "# Plotly 개요\n",
        "\n",
        "Plotly란? 파이썬 라이브러리 중 하나로, 시각화를 돕는 라이브러리입니다.\n",
        "\n",
        "https://plotly.com/\n",
        "\n",
        "익숙해지면 다음과 같은 시각화도 가능합니다.\n",
        "\n",
        "https://dash.gallery/dash-soccer-analytics/\n",
        "\n",
        "이번 시간에는 가장 기초적인 것을 다룰 예정입니다."
      ],
      "metadata": {
        "id": "CPgB5ZlTEQAI"
      }
    },
    {
      "cell_type": "code",
      "source": [
        "# 라이브러리 import\n",
        "import plotly.graph_objects as go\n",
        "import plotly.express as px"
      ],
      "metadata": {
        "id": "slA6dFP-EPV_"
      },
      "execution_count": 19,
      "outputs": []
    },
    {
      "cell_type": "code",
      "source": [
        "# 우리가 시각화하고 싶은 데이터의 예시를 만들어봅시다.\n",
        "categories = [\"경기 시간\", \"어시스트\", \"크로스 정확도\", \"드리블 성공률\", \"롱패스 성공률\", \"쓰루패스 성공률\"]"
      ],
      "metadata": {
        "id": "hyXax5k5E8kv"
      },
      "execution_count": 20,
      "outputs": []
    },
    {
      "cell_type": "code",
      "source": [
        "# 먼저 \"틀\"을 만들어줍니다\n",
        "fig = go.Figure()\n",
        "print(fig)"
      ],
      "metadata": {
        "colab": {
          "base_uri": "https://localhost:8080/"
        },
        "id": "3-Seq7cDFmsj",
        "outputId": "873f9ebf-7329-4182-9925-93eabeaa63ff"
      },
      "execution_count": 21,
      "outputs": [
        {
          "output_type": "stream",
          "name": "stdout",
          "text": [
            "Figure({\n",
            "    'data': [], 'layout': {'template': '...'}\n",
            "})\n"
          ]
        }
      ]
    },
    {
      "cell_type": "code",
      "source": [
        "# 시각화 시키려면, 다음 함수를 사용합니다.\n",
        "fig.show()\n",
        "# 아무런 데이터를 넣지 않았기 때문에, 빈 공간이 나옵니다."
      ],
      "metadata": {
        "colab": {
          "base_uri": "https://localhost:8080/",
          "height": 542
        },
        "id": "mCb8SqWsFsVf",
        "outputId": "37c9e8d6-dd83-4d1f-c955-dafe0fb4866f"
      },
      "execution_count": 22,
      "outputs": [
        {
          "output_type": "display_data",
          "data": {
            "text/html": [
              "<html>\n",
              "<head><meta charset=\"utf-8\" /></head>\n",
              "<body>\n",
              "    <div>            <script src=\"https://cdnjs.cloudflare.com/ajax/libs/mathjax/2.7.5/MathJax.js?config=TeX-AMS-MML_SVG\"></script><script type=\"text/javascript\">if (window.MathJax) {MathJax.Hub.Config({SVG: {font: \"STIX-Web\"}});}</script>                <script type=\"text/javascript\">window.PlotlyConfig = {MathJaxConfig: 'local'};</script>\n",
              "        <script src=\"https://cdn.plot.ly/plotly-2.8.3.min.js\"></script>                <div id=\"f042936c-5942-40bd-b05b-845ed567938d\" class=\"plotly-graph-div\" style=\"height:525px; width:100%;\"></div>            <script type=\"text/javascript\">                                    window.PLOTLYENV=window.PLOTLYENV || {};                                    if (document.getElementById(\"f042936c-5942-40bd-b05b-845ed567938d\")) {                    Plotly.newPlot(                        \"f042936c-5942-40bd-b05b-845ed567938d\",                        [],                        {\"template\":{\"data\":{\"bar\":[{\"error_x\":{\"color\":\"#2a3f5f\"},\"error_y\":{\"color\":\"#2a3f5f\"},\"marker\":{\"line\":{\"color\":\"#E5ECF6\",\"width\":0.5},\"pattern\":{\"fillmode\":\"overlay\",\"size\":10,\"solidity\":0.2}},\"type\":\"bar\"}],\"barpolar\":[{\"marker\":{\"line\":{\"color\":\"#E5ECF6\",\"width\":0.5},\"pattern\":{\"fillmode\":\"overlay\",\"size\":10,\"solidity\":0.2}},\"type\":\"barpolar\"}],\"carpet\":[{\"aaxis\":{\"endlinecolor\":\"#2a3f5f\",\"gridcolor\":\"white\",\"linecolor\":\"white\",\"minorgridcolor\":\"white\",\"startlinecolor\":\"#2a3f5f\"},\"baxis\":{\"endlinecolor\":\"#2a3f5f\",\"gridcolor\":\"white\",\"linecolor\":\"white\",\"minorgridcolor\":\"white\",\"startlinecolor\":\"#2a3f5f\"},\"type\":\"carpet\"}],\"choropleth\":[{\"colorbar\":{\"outlinewidth\":0,\"ticks\":\"\"},\"type\":\"choropleth\"}],\"contour\":[{\"colorbar\":{\"outlinewidth\":0,\"ticks\":\"\"},\"colorscale\":[[0.0,\"#0d0887\"],[0.1111111111111111,\"#46039f\"],[0.2222222222222222,\"#7201a8\"],[0.3333333333333333,\"#9c179e\"],[0.4444444444444444,\"#bd3786\"],[0.5555555555555556,\"#d8576b\"],[0.6666666666666666,\"#ed7953\"],[0.7777777777777778,\"#fb9f3a\"],[0.8888888888888888,\"#fdca26\"],[1.0,\"#f0f921\"]],\"type\":\"contour\"}],\"contourcarpet\":[{\"colorbar\":{\"outlinewidth\":0,\"ticks\":\"\"},\"type\":\"contourcarpet\"}],\"heatmap\":[{\"colorbar\":{\"outlinewidth\":0,\"ticks\":\"\"},\"colorscale\":[[0.0,\"#0d0887\"],[0.1111111111111111,\"#46039f\"],[0.2222222222222222,\"#7201a8\"],[0.3333333333333333,\"#9c179e\"],[0.4444444444444444,\"#bd3786\"],[0.5555555555555556,\"#d8576b\"],[0.6666666666666666,\"#ed7953\"],[0.7777777777777778,\"#fb9f3a\"],[0.8888888888888888,\"#fdca26\"],[1.0,\"#f0f921\"]],\"type\":\"heatmap\"}],\"heatmapgl\":[{\"colorbar\":{\"outlinewidth\":0,\"ticks\":\"\"},\"colorscale\":[[0.0,\"#0d0887\"],[0.1111111111111111,\"#46039f\"],[0.2222222222222222,\"#7201a8\"],[0.3333333333333333,\"#9c179e\"],[0.4444444444444444,\"#bd3786\"],[0.5555555555555556,\"#d8576b\"],[0.6666666666666666,\"#ed7953\"],[0.7777777777777778,\"#fb9f3a\"],[0.8888888888888888,\"#fdca26\"],[1.0,\"#f0f921\"]],\"type\":\"heatmapgl\"}],\"histogram\":[{\"marker\":{\"pattern\":{\"fillmode\":\"overlay\",\"size\":10,\"solidity\":0.2}},\"type\":\"histogram\"}],\"histogram2d\":[{\"colorbar\":{\"outlinewidth\":0,\"ticks\":\"\"},\"colorscale\":[[0.0,\"#0d0887\"],[0.1111111111111111,\"#46039f\"],[0.2222222222222222,\"#7201a8\"],[0.3333333333333333,\"#9c179e\"],[0.4444444444444444,\"#bd3786\"],[0.5555555555555556,\"#d8576b\"],[0.6666666666666666,\"#ed7953\"],[0.7777777777777778,\"#fb9f3a\"],[0.8888888888888888,\"#fdca26\"],[1.0,\"#f0f921\"]],\"type\":\"histogram2d\"}],\"histogram2dcontour\":[{\"colorbar\":{\"outlinewidth\":0,\"ticks\":\"\"},\"colorscale\":[[0.0,\"#0d0887\"],[0.1111111111111111,\"#46039f\"],[0.2222222222222222,\"#7201a8\"],[0.3333333333333333,\"#9c179e\"],[0.4444444444444444,\"#bd3786\"],[0.5555555555555556,\"#d8576b\"],[0.6666666666666666,\"#ed7953\"],[0.7777777777777778,\"#fb9f3a\"],[0.8888888888888888,\"#fdca26\"],[1.0,\"#f0f921\"]],\"type\":\"histogram2dcontour\"}],\"mesh3d\":[{\"colorbar\":{\"outlinewidth\":0,\"ticks\":\"\"},\"type\":\"mesh3d\"}],\"parcoords\":[{\"line\":{\"colorbar\":{\"outlinewidth\":0,\"ticks\":\"\"}},\"type\":\"parcoords\"}],\"pie\":[{\"automargin\":true,\"type\":\"pie\"}],\"scatter\":[{\"marker\":{\"colorbar\":{\"outlinewidth\":0,\"ticks\":\"\"}},\"type\":\"scatter\"}],\"scatter3d\":[{\"line\":{\"colorbar\":{\"outlinewidth\":0,\"ticks\":\"\"}},\"marker\":{\"colorbar\":{\"outlinewidth\":0,\"ticks\":\"\"}},\"type\":\"scatter3d\"}],\"scattercarpet\":[{\"marker\":{\"colorbar\":{\"outlinewidth\":0,\"ticks\":\"\"}},\"type\":\"scattercarpet\"}],\"scattergeo\":[{\"marker\":{\"colorbar\":{\"outlinewidth\":0,\"ticks\":\"\"}},\"type\":\"scattergeo\"}],\"scattergl\":[{\"marker\":{\"colorbar\":{\"outlinewidth\":0,\"ticks\":\"\"}},\"type\":\"scattergl\"}],\"scattermapbox\":[{\"marker\":{\"colorbar\":{\"outlinewidth\":0,\"ticks\":\"\"}},\"type\":\"scattermapbox\"}],\"scatterpolar\":[{\"marker\":{\"colorbar\":{\"outlinewidth\":0,\"ticks\":\"\"}},\"type\":\"scatterpolar\"}],\"scatterpolargl\":[{\"marker\":{\"colorbar\":{\"outlinewidth\":0,\"ticks\":\"\"}},\"type\":\"scatterpolargl\"}],\"scatterternary\":[{\"marker\":{\"colorbar\":{\"outlinewidth\":0,\"ticks\":\"\"}},\"type\":\"scatterternary\"}],\"surface\":[{\"colorbar\":{\"outlinewidth\":0,\"ticks\":\"\"},\"colorscale\":[[0.0,\"#0d0887\"],[0.1111111111111111,\"#46039f\"],[0.2222222222222222,\"#7201a8\"],[0.3333333333333333,\"#9c179e\"],[0.4444444444444444,\"#bd3786\"],[0.5555555555555556,\"#d8576b\"],[0.6666666666666666,\"#ed7953\"],[0.7777777777777778,\"#fb9f3a\"],[0.8888888888888888,\"#fdca26\"],[1.0,\"#f0f921\"]],\"type\":\"surface\"}],\"table\":[{\"cells\":{\"fill\":{\"color\":\"#EBF0F8\"},\"line\":{\"color\":\"white\"}},\"header\":{\"fill\":{\"color\":\"#C8D4E3\"},\"line\":{\"color\":\"white\"}},\"type\":\"table\"}]},\"layout\":{\"annotationdefaults\":{\"arrowcolor\":\"#2a3f5f\",\"arrowhead\":0,\"arrowwidth\":1},\"autotypenumbers\":\"strict\",\"coloraxis\":{\"colorbar\":{\"outlinewidth\":0,\"ticks\":\"\"}},\"colorscale\":{\"diverging\":[[0,\"#8e0152\"],[0.1,\"#c51b7d\"],[0.2,\"#de77ae\"],[0.3,\"#f1b6da\"],[0.4,\"#fde0ef\"],[0.5,\"#f7f7f7\"],[0.6,\"#e6f5d0\"],[0.7,\"#b8e186\"],[0.8,\"#7fbc41\"],[0.9,\"#4d9221\"],[1,\"#276419\"]],\"sequential\":[[0.0,\"#0d0887\"],[0.1111111111111111,\"#46039f\"],[0.2222222222222222,\"#7201a8\"],[0.3333333333333333,\"#9c179e\"],[0.4444444444444444,\"#bd3786\"],[0.5555555555555556,\"#d8576b\"],[0.6666666666666666,\"#ed7953\"],[0.7777777777777778,\"#fb9f3a\"],[0.8888888888888888,\"#fdca26\"],[1.0,\"#f0f921\"]],\"sequentialminus\":[[0.0,\"#0d0887\"],[0.1111111111111111,\"#46039f\"],[0.2222222222222222,\"#7201a8\"],[0.3333333333333333,\"#9c179e\"],[0.4444444444444444,\"#bd3786\"],[0.5555555555555556,\"#d8576b\"],[0.6666666666666666,\"#ed7953\"],[0.7777777777777778,\"#fb9f3a\"],[0.8888888888888888,\"#fdca26\"],[1.0,\"#f0f921\"]]},\"colorway\":[\"#636efa\",\"#EF553B\",\"#00cc96\",\"#ab63fa\",\"#FFA15A\",\"#19d3f3\",\"#FF6692\",\"#B6E880\",\"#FF97FF\",\"#FECB52\"],\"font\":{\"color\":\"#2a3f5f\"},\"geo\":{\"bgcolor\":\"white\",\"lakecolor\":\"white\",\"landcolor\":\"#E5ECF6\",\"showlakes\":true,\"showland\":true,\"subunitcolor\":\"white\"},\"hoverlabel\":{\"align\":\"left\"},\"hovermode\":\"closest\",\"mapbox\":{\"style\":\"light\"},\"paper_bgcolor\":\"white\",\"plot_bgcolor\":\"#E5ECF6\",\"polar\":{\"angularaxis\":{\"gridcolor\":\"white\",\"linecolor\":\"white\",\"ticks\":\"\"},\"bgcolor\":\"#E5ECF6\",\"radialaxis\":{\"gridcolor\":\"white\",\"linecolor\":\"white\",\"ticks\":\"\"}},\"scene\":{\"xaxis\":{\"backgroundcolor\":\"#E5ECF6\",\"gridcolor\":\"white\",\"gridwidth\":2,\"linecolor\":\"white\",\"showbackground\":true,\"ticks\":\"\",\"zerolinecolor\":\"white\"},\"yaxis\":{\"backgroundcolor\":\"#E5ECF6\",\"gridcolor\":\"white\",\"gridwidth\":2,\"linecolor\":\"white\",\"showbackground\":true,\"ticks\":\"\",\"zerolinecolor\":\"white\"},\"zaxis\":{\"backgroundcolor\":\"#E5ECF6\",\"gridcolor\":\"white\",\"gridwidth\":2,\"linecolor\":\"white\",\"showbackground\":true,\"ticks\":\"\",\"zerolinecolor\":\"white\"}},\"shapedefaults\":{\"line\":{\"color\":\"#2a3f5f\"}},\"ternary\":{\"aaxis\":{\"gridcolor\":\"white\",\"linecolor\":\"white\",\"ticks\":\"\"},\"baxis\":{\"gridcolor\":\"white\",\"linecolor\":\"white\",\"ticks\":\"\"},\"bgcolor\":\"#E5ECF6\",\"caxis\":{\"gridcolor\":\"white\",\"linecolor\":\"white\",\"ticks\":\"\"}},\"title\":{\"x\":0.05},\"xaxis\":{\"automargin\":true,\"gridcolor\":\"white\",\"linecolor\":\"white\",\"ticks\":\"\",\"title\":{\"standoff\":15},\"zerolinecolor\":\"white\",\"zerolinewidth\":2},\"yaxis\":{\"automargin\":true,\"gridcolor\":\"white\",\"linecolor\":\"white\",\"ticks\":\"\",\"title\":{\"standoff\":15},\"zerolinecolor\":\"white\",\"zerolinewidth\":2}}}},                        {\"responsive\": true}                    ).then(function(){\n",
              "                            \n",
              "var gd = document.getElementById('f042936c-5942-40bd-b05b-845ed567938d');\n",
              "var x = new MutationObserver(function (mutations, observer) {{\n",
              "        var display = window.getComputedStyle(gd).display;\n",
              "        if (!display || display === 'none') {{\n",
              "            console.log([gd, 'removed!']);\n",
              "            Plotly.purge(gd);\n",
              "            observer.disconnect();\n",
              "        }}\n",
              "}});\n",
              "\n",
              "// Listen for the removal of the full notebook cells\n",
              "var notebookContainer = gd.closest('#notebook-container');\n",
              "if (notebookContainer) {{\n",
              "    x.observe(notebookContainer, {childList: true});\n",
              "}}\n",
              "\n",
              "// Listen for the clearing of the current output cell\n",
              "var outputEl = gd.closest('.output');\n",
              "if (outputEl) {{\n",
              "    x.observe(outputEl, {childList: true});\n",
              "}}\n",
              "\n",
              "                        })                };                            </script>        </div>\n",
              "</body>\n",
              "</html>"
            ]
          },
          "metadata": {}
        }
      ]
    },
    {
      "cell_type": "code",
      "source": [
        "# 우리가 원하는 \"Radar Chart\"를 그리기 위해서는 Scatterpolar라는 것을 사용해야 합니다.\n",
        "data = go.Scatterpolar(\n",
        "      r=[1, 5, 2, 2, 3], # 데이터 값\n",
        "      theta=categories, # 데이터 이름\n",
        "      fill='toself', # 그래프 내부를 채울 것인가?\n",
        "      name='Player Statistics A' # 플롯 이름\n",
        ")"
      ],
      "metadata": {
        "id": "5O4xMZJIF42O"
      },
      "execution_count": 23,
      "outputs": []
    },
    {
      "cell_type": "code",
      "source": [
        "# add_trace 함수로 빈 공간에 위에서 만든 Scatterpolar 데이터를 넣어줍니다.\n",
        "fig.add_trace(data)"
      ],
      "metadata": {
        "colab": {
          "base_uri": "https://localhost:8080/",
          "height": 542
        },
        "id": "6Pg-0QcRGWPy",
        "outputId": "b2d93ee4-41cd-418e-a011-97ba2d2d1708"
      },
      "execution_count": 24,
      "outputs": [
        {
          "output_type": "display_data",
          "data": {
            "text/html": [
              "<html>\n",
              "<head><meta charset=\"utf-8\" /></head>\n",
              "<body>\n",
              "    <div>            <script src=\"https://cdnjs.cloudflare.com/ajax/libs/mathjax/2.7.5/MathJax.js?config=TeX-AMS-MML_SVG\"></script><script type=\"text/javascript\">if (window.MathJax) {MathJax.Hub.Config({SVG: {font: \"STIX-Web\"}});}</script>                <script type=\"text/javascript\">window.PlotlyConfig = {MathJaxConfig: 'local'};</script>\n",
              "        <script src=\"https://cdn.plot.ly/plotly-2.8.3.min.js\"></script>                <div id=\"d0634864-9e12-4f6a-9c67-28b4637f9406\" class=\"plotly-graph-div\" style=\"height:525px; width:100%;\"></div>            <script type=\"text/javascript\">                                    window.PLOTLYENV=window.PLOTLYENV || {};                                    if (document.getElementById(\"d0634864-9e12-4f6a-9c67-28b4637f9406\")) {                    Plotly.newPlot(                        \"d0634864-9e12-4f6a-9c67-28b4637f9406\",                        [{\"fill\":\"toself\",\"name\":\"Player Statistics A\",\"r\":[1,5,2,2,3],\"theta\":[\"\\uacbd\\uae30 \\uc2dc\\uac04\",\"\\uc5b4\\uc2dc\\uc2a4\\ud2b8\",\"\\ud06c\\ub85c\\uc2a4 \\uc815\\ud655\\ub3c4\",\"\\ub4dc\\ub9ac\\ube14 \\uc131\\uacf5\\ub960\",\"\\ub871\\ud328\\uc2a4 \\uc131\\uacf5\\ub960\",\"\\uc4f0\\ub8e8\\ud328\\uc2a4 \\uc131\\uacf5\\ub960\"],\"type\":\"scatterpolar\"}],                        {\"template\":{\"data\":{\"bar\":[{\"error_x\":{\"color\":\"#2a3f5f\"},\"error_y\":{\"color\":\"#2a3f5f\"},\"marker\":{\"line\":{\"color\":\"#E5ECF6\",\"width\":0.5},\"pattern\":{\"fillmode\":\"overlay\",\"size\":10,\"solidity\":0.2}},\"type\":\"bar\"}],\"barpolar\":[{\"marker\":{\"line\":{\"color\":\"#E5ECF6\",\"width\":0.5},\"pattern\":{\"fillmode\":\"overlay\",\"size\":10,\"solidity\":0.2}},\"type\":\"barpolar\"}],\"carpet\":[{\"aaxis\":{\"endlinecolor\":\"#2a3f5f\",\"gridcolor\":\"white\",\"linecolor\":\"white\",\"minorgridcolor\":\"white\",\"startlinecolor\":\"#2a3f5f\"},\"baxis\":{\"endlinecolor\":\"#2a3f5f\",\"gridcolor\":\"white\",\"linecolor\":\"white\",\"minorgridcolor\":\"white\",\"startlinecolor\":\"#2a3f5f\"},\"type\":\"carpet\"}],\"choropleth\":[{\"colorbar\":{\"outlinewidth\":0,\"ticks\":\"\"},\"type\":\"choropleth\"}],\"contour\":[{\"colorbar\":{\"outlinewidth\":0,\"ticks\":\"\"},\"colorscale\":[[0.0,\"#0d0887\"],[0.1111111111111111,\"#46039f\"],[0.2222222222222222,\"#7201a8\"],[0.3333333333333333,\"#9c179e\"],[0.4444444444444444,\"#bd3786\"],[0.5555555555555556,\"#d8576b\"],[0.6666666666666666,\"#ed7953\"],[0.7777777777777778,\"#fb9f3a\"],[0.8888888888888888,\"#fdca26\"],[1.0,\"#f0f921\"]],\"type\":\"contour\"}],\"contourcarpet\":[{\"colorbar\":{\"outlinewidth\":0,\"ticks\":\"\"},\"type\":\"contourcarpet\"}],\"heatmap\":[{\"colorbar\":{\"outlinewidth\":0,\"ticks\":\"\"},\"colorscale\":[[0.0,\"#0d0887\"],[0.1111111111111111,\"#46039f\"],[0.2222222222222222,\"#7201a8\"],[0.3333333333333333,\"#9c179e\"],[0.4444444444444444,\"#bd3786\"],[0.5555555555555556,\"#d8576b\"],[0.6666666666666666,\"#ed7953\"],[0.7777777777777778,\"#fb9f3a\"],[0.8888888888888888,\"#fdca26\"],[1.0,\"#f0f921\"]],\"type\":\"heatmap\"}],\"heatmapgl\":[{\"colorbar\":{\"outlinewidth\":0,\"ticks\":\"\"},\"colorscale\":[[0.0,\"#0d0887\"],[0.1111111111111111,\"#46039f\"],[0.2222222222222222,\"#7201a8\"],[0.3333333333333333,\"#9c179e\"],[0.4444444444444444,\"#bd3786\"],[0.5555555555555556,\"#d8576b\"],[0.6666666666666666,\"#ed7953\"],[0.7777777777777778,\"#fb9f3a\"],[0.8888888888888888,\"#fdca26\"],[1.0,\"#f0f921\"]],\"type\":\"heatmapgl\"}],\"histogram\":[{\"marker\":{\"pattern\":{\"fillmode\":\"overlay\",\"size\":10,\"solidity\":0.2}},\"type\":\"histogram\"}],\"histogram2d\":[{\"colorbar\":{\"outlinewidth\":0,\"ticks\":\"\"},\"colorscale\":[[0.0,\"#0d0887\"],[0.1111111111111111,\"#46039f\"],[0.2222222222222222,\"#7201a8\"],[0.3333333333333333,\"#9c179e\"],[0.4444444444444444,\"#bd3786\"],[0.5555555555555556,\"#d8576b\"],[0.6666666666666666,\"#ed7953\"],[0.7777777777777778,\"#fb9f3a\"],[0.8888888888888888,\"#fdca26\"],[1.0,\"#f0f921\"]],\"type\":\"histogram2d\"}],\"histogram2dcontour\":[{\"colorbar\":{\"outlinewidth\":0,\"ticks\":\"\"},\"colorscale\":[[0.0,\"#0d0887\"],[0.1111111111111111,\"#46039f\"],[0.2222222222222222,\"#7201a8\"],[0.3333333333333333,\"#9c179e\"],[0.4444444444444444,\"#bd3786\"],[0.5555555555555556,\"#d8576b\"],[0.6666666666666666,\"#ed7953\"],[0.7777777777777778,\"#fb9f3a\"],[0.8888888888888888,\"#fdca26\"],[1.0,\"#f0f921\"]],\"type\":\"histogram2dcontour\"}],\"mesh3d\":[{\"colorbar\":{\"outlinewidth\":0,\"ticks\":\"\"},\"type\":\"mesh3d\"}],\"parcoords\":[{\"line\":{\"colorbar\":{\"outlinewidth\":0,\"ticks\":\"\"}},\"type\":\"parcoords\"}],\"pie\":[{\"automargin\":true,\"type\":\"pie\"}],\"scatter\":[{\"marker\":{\"colorbar\":{\"outlinewidth\":0,\"ticks\":\"\"}},\"type\":\"scatter\"}],\"scatter3d\":[{\"line\":{\"colorbar\":{\"outlinewidth\":0,\"ticks\":\"\"}},\"marker\":{\"colorbar\":{\"outlinewidth\":0,\"ticks\":\"\"}},\"type\":\"scatter3d\"}],\"scattercarpet\":[{\"marker\":{\"colorbar\":{\"outlinewidth\":0,\"ticks\":\"\"}},\"type\":\"scattercarpet\"}],\"scattergeo\":[{\"marker\":{\"colorbar\":{\"outlinewidth\":0,\"ticks\":\"\"}},\"type\":\"scattergeo\"}],\"scattergl\":[{\"marker\":{\"colorbar\":{\"outlinewidth\":0,\"ticks\":\"\"}},\"type\":\"scattergl\"}],\"scattermapbox\":[{\"marker\":{\"colorbar\":{\"outlinewidth\":0,\"ticks\":\"\"}},\"type\":\"scattermapbox\"}],\"scatterpolar\":[{\"marker\":{\"colorbar\":{\"outlinewidth\":0,\"ticks\":\"\"}},\"type\":\"scatterpolar\"}],\"scatterpolargl\":[{\"marker\":{\"colorbar\":{\"outlinewidth\":0,\"ticks\":\"\"}},\"type\":\"scatterpolargl\"}],\"scatterternary\":[{\"marker\":{\"colorbar\":{\"outlinewidth\":0,\"ticks\":\"\"}},\"type\":\"scatterternary\"}],\"surface\":[{\"colorbar\":{\"outlinewidth\":0,\"ticks\":\"\"},\"colorscale\":[[0.0,\"#0d0887\"],[0.1111111111111111,\"#46039f\"],[0.2222222222222222,\"#7201a8\"],[0.3333333333333333,\"#9c179e\"],[0.4444444444444444,\"#bd3786\"],[0.5555555555555556,\"#d8576b\"],[0.6666666666666666,\"#ed7953\"],[0.7777777777777778,\"#fb9f3a\"],[0.8888888888888888,\"#fdca26\"],[1.0,\"#f0f921\"]],\"type\":\"surface\"}],\"table\":[{\"cells\":{\"fill\":{\"color\":\"#EBF0F8\"},\"line\":{\"color\":\"white\"}},\"header\":{\"fill\":{\"color\":\"#C8D4E3\"},\"line\":{\"color\":\"white\"}},\"type\":\"table\"}]},\"layout\":{\"annotationdefaults\":{\"arrowcolor\":\"#2a3f5f\",\"arrowhead\":0,\"arrowwidth\":1},\"autotypenumbers\":\"strict\",\"coloraxis\":{\"colorbar\":{\"outlinewidth\":0,\"ticks\":\"\"}},\"colorscale\":{\"diverging\":[[0,\"#8e0152\"],[0.1,\"#c51b7d\"],[0.2,\"#de77ae\"],[0.3,\"#f1b6da\"],[0.4,\"#fde0ef\"],[0.5,\"#f7f7f7\"],[0.6,\"#e6f5d0\"],[0.7,\"#b8e186\"],[0.8,\"#7fbc41\"],[0.9,\"#4d9221\"],[1,\"#276419\"]],\"sequential\":[[0.0,\"#0d0887\"],[0.1111111111111111,\"#46039f\"],[0.2222222222222222,\"#7201a8\"],[0.3333333333333333,\"#9c179e\"],[0.4444444444444444,\"#bd3786\"],[0.5555555555555556,\"#d8576b\"],[0.6666666666666666,\"#ed7953\"],[0.7777777777777778,\"#fb9f3a\"],[0.8888888888888888,\"#fdca26\"],[1.0,\"#f0f921\"]],\"sequentialminus\":[[0.0,\"#0d0887\"],[0.1111111111111111,\"#46039f\"],[0.2222222222222222,\"#7201a8\"],[0.3333333333333333,\"#9c179e\"],[0.4444444444444444,\"#bd3786\"],[0.5555555555555556,\"#d8576b\"],[0.6666666666666666,\"#ed7953\"],[0.7777777777777778,\"#fb9f3a\"],[0.8888888888888888,\"#fdca26\"],[1.0,\"#f0f921\"]]},\"colorway\":[\"#636efa\",\"#EF553B\",\"#00cc96\",\"#ab63fa\",\"#FFA15A\",\"#19d3f3\",\"#FF6692\",\"#B6E880\",\"#FF97FF\",\"#FECB52\"],\"font\":{\"color\":\"#2a3f5f\"},\"geo\":{\"bgcolor\":\"white\",\"lakecolor\":\"white\",\"landcolor\":\"#E5ECF6\",\"showlakes\":true,\"showland\":true,\"subunitcolor\":\"white\"},\"hoverlabel\":{\"align\":\"left\"},\"hovermode\":\"closest\",\"mapbox\":{\"style\":\"light\"},\"paper_bgcolor\":\"white\",\"plot_bgcolor\":\"#E5ECF6\",\"polar\":{\"angularaxis\":{\"gridcolor\":\"white\",\"linecolor\":\"white\",\"ticks\":\"\"},\"bgcolor\":\"#E5ECF6\",\"radialaxis\":{\"gridcolor\":\"white\",\"linecolor\":\"white\",\"ticks\":\"\"}},\"scene\":{\"xaxis\":{\"backgroundcolor\":\"#E5ECF6\",\"gridcolor\":\"white\",\"gridwidth\":2,\"linecolor\":\"white\",\"showbackground\":true,\"ticks\":\"\",\"zerolinecolor\":\"white\"},\"yaxis\":{\"backgroundcolor\":\"#E5ECF6\",\"gridcolor\":\"white\",\"gridwidth\":2,\"linecolor\":\"white\",\"showbackground\":true,\"ticks\":\"\",\"zerolinecolor\":\"white\"},\"zaxis\":{\"backgroundcolor\":\"#E5ECF6\",\"gridcolor\":\"white\",\"gridwidth\":2,\"linecolor\":\"white\",\"showbackground\":true,\"ticks\":\"\",\"zerolinecolor\":\"white\"}},\"shapedefaults\":{\"line\":{\"color\":\"#2a3f5f\"}},\"ternary\":{\"aaxis\":{\"gridcolor\":\"white\",\"linecolor\":\"white\",\"ticks\":\"\"},\"baxis\":{\"gridcolor\":\"white\",\"linecolor\":\"white\",\"ticks\":\"\"},\"bgcolor\":\"#E5ECF6\",\"caxis\":{\"gridcolor\":\"white\",\"linecolor\":\"white\",\"ticks\":\"\"}},\"title\":{\"x\":0.05},\"xaxis\":{\"automargin\":true,\"gridcolor\":\"white\",\"linecolor\":\"white\",\"ticks\":\"\",\"title\":{\"standoff\":15},\"zerolinecolor\":\"white\",\"zerolinewidth\":2},\"yaxis\":{\"automargin\":true,\"gridcolor\":\"white\",\"linecolor\":\"white\",\"ticks\":\"\",\"title\":{\"standoff\":15},\"zerolinecolor\":\"white\",\"zerolinewidth\":2}}}},                        {\"responsive\": true}                    ).then(function(){\n",
              "                            \n",
              "var gd = document.getElementById('d0634864-9e12-4f6a-9c67-28b4637f9406');\n",
              "var x = new MutationObserver(function (mutations, observer) {{\n",
              "        var display = window.getComputedStyle(gd).display;\n",
              "        if (!display || display === 'none') {{\n",
              "            console.log([gd, 'removed!']);\n",
              "            Plotly.purge(gd);\n",
              "            observer.disconnect();\n",
              "        }}\n",
              "}});\n",
              "\n",
              "// Listen for the removal of the full notebook cells\n",
              "var notebookContainer = gd.closest('#notebook-container');\n",
              "if (notebookContainer) {{\n",
              "    x.observe(notebookContainer, {childList: true});\n",
              "}}\n",
              "\n",
              "// Listen for the clearing of the current output cell\n",
              "var outputEl = gd.closest('.output');\n",
              "if (outputEl) {{\n",
              "    x.observe(outputEl, {childList: true});\n",
              "}}\n",
              "\n",
              "                        })                };                            </script>        </div>\n",
              "</body>\n",
              "</html>"
            ]
          },
          "metadata": {}
        }
      ]
    },
    {
      "cell_type": "code",
      "source": [
        "# 다른 데이터도 넣어볼까요?\n",
        "data2 = go.Scatterpolar(\n",
        "      r=[5, 2, 3, 1, 4], # 데이터 값\n",
        "      theta=categories, # 데이터 이름\n",
        "      fill='toself', # 그래프 내부를 채울 것인가?\n",
        "      name='Player Statistics B' # 플롯 이름\n",
        ")\n",
        "fig.add_trace(data2)"
      ],
      "metadata": {
        "colab": {
          "base_uri": "https://localhost:8080/",
          "height": 542
        },
        "id": "UaYyaIvaGh1u",
        "outputId": "c1749d0f-ee17-4f83-ea8f-3d0a1e590ca6"
      },
      "execution_count": 25,
      "outputs": [
        {
          "output_type": "display_data",
          "data": {
            "text/html": [
              "<html>\n",
              "<head><meta charset=\"utf-8\" /></head>\n",
              "<body>\n",
              "    <div>            <script src=\"https://cdnjs.cloudflare.com/ajax/libs/mathjax/2.7.5/MathJax.js?config=TeX-AMS-MML_SVG\"></script><script type=\"text/javascript\">if (window.MathJax) {MathJax.Hub.Config({SVG: {font: \"STIX-Web\"}});}</script>                <script type=\"text/javascript\">window.PlotlyConfig = {MathJaxConfig: 'local'};</script>\n",
              "        <script src=\"https://cdn.plot.ly/plotly-2.8.3.min.js\"></script>                <div id=\"237bb5d5-5bd1-4b01-a614-c44d43319080\" class=\"plotly-graph-div\" style=\"height:525px; width:100%;\"></div>            <script type=\"text/javascript\">                                    window.PLOTLYENV=window.PLOTLYENV || {};                                    if (document.getElementById(\"237bb5d5-5bd1-4b01-a614-c44d43319080\")) {                    Plotly.newPlot(                        \"237bb5d5-5bd1-4b01-a614-c44d43319080\",                        [{\"fill\":\"toself\",\"name\":\"Player Statistics A\",\"r\":[1,5,2,2,3],\"theta\":[\"\\uacbd\\uae30 \\uc2dc\\uac04\",\"\\uc5b4\\uc2dc\\uc2a4\\ud2b8\",\"\\ud06c\\ub85c\\uc2a4 \\uc815\\ud655\\ub3c4\",\"\\ub4dc\\ub9ac\\ube14 \\uc131\\uacf5\\ub960\",\"\\ub871\\ud328\\uc2a4 \\uc131\\uacf5\\ub960\",\"\\uc4f0\\ub8e8\\ud328\\uc2a4 \\uc131\\uacf5\\ub960\"],\"type\":\"scatterpolar\"},{\"fill\":\"toself\",\"name\":\"Player Statistics B\",\"r\":[5,2,3,1,4],\"theta\":[\"\\uacbd\\uae30 \\uc2dc\\uac04\",\"\\uc5b4\\uc2dc\\uc2a4\\ud2b8\",\"\\ud06c\\ub85c\\uc2a4 \\uc815\\ud655\\ub3c4\",\"\\ub4dc\\ub9ac\\ube14 \\uc131\\uacf5\\ub960\",\"\\ub871\\ud328\\uc2a4 \\uc131\\uacf5\\ub960\",\"\\uc4f0\\ub8e8\\ud328\\uc2a4 \\uc131\\uacf5\\ub960\"],\"type\":\"scatterpolar\"}],                        {\"template\":{\"data\":{\"bar\":[{\"error_x\":{\"color\":\"#2a3f5f\"},\"error_y\":{\"color\":\"#2a3f5f\"},\"marker\":{\"line\":{\"color\":\"#E5ECF6\",\"width\":0.5},\"pattern\":{\"fillmode\":\"overlay\",\"size\":10,\"solidity\":0.2}},\"type\":\"bar\"}],\"barpolar\":[{\"marker\":{\"line\":{\"color\":\"#E5ECF6\",\"width\":0.5},\"pattern\":{\"fillmode\":\"overlay\",\"size\":10,\"solidity\":0.2}},\"type\":\"barpolar\"}],\"carpet\":[{\"aaxis\":{\"endlinecolor\":\"#2a3f5f\",\"gridcolor\":\"white\",\"linecolor\":\"white\",\"minorgridcolor\":\"white\",\"startlinecolor\":\"#2a3f5f\"},\"baxis\":{\"endlinecolor\":\"#2a3f5f\",\"gridcolor\":\"white\",\"linecolor\":\"white\",\"minorgridcolor\":\"white\",\"startlinecolor\":\"#2a3f5f\"},\"type\":\"carpet\"}],\"choropleth\":[{\"colorbar\":{\"outlinewidth\":0,\"ticks\":\"\"},\"type\":\"choropleth\"}],\"contour\":[{\"colorbar\":{\"outlinewidth\":0,\"ticks\":\"\"},\"colorscale\":[[0.0,\"#0d0887\"],[0.1111111111111111,\"#46039f\"],[0.2222222222222222,\"#7201a8\"],[0.3333333333333333,\"#9c179e\"],[0.4444444444444444,\"#bd3786\"],[0.5555555555555556,\"#d8576b\"],[0.6666666666666666,\"#ed7953\"],[0.7777777777777778,\"#fb9f3a\"],[0.8888888888888888,\"#fdca26\"],[1.0,\"#f0f921\"]],\"type\":\"contour\"}],\"contourcarpet\":[{\"colorbar\":{\"outlinewidth\":0,\"ticks\":\"\"},\"type\":\"contourcarpet\"}],\"heatmap\":[{\"colorbar\":{\"outlinewidth\":0,\"ticks\":\"\"},\"colorscale\":[[0.0,\"#0d0887\"],[0.1111111111111111,\"#46039f\"],[0.2222222222222222,\"#7201a8\"],[0.3333333333333333,\"#9c179e\"],[0.4444444444444444,\"#bd3786\"],[0.5555555555555556,\"#d8576b\"],[0.6666666666666666,\"#ed7953\"],[0.7777777777777778,\"#fb9f3a\"],[0.8888888888888888,\"#fdca26\"],[1.0,\"#f0f921\"]],\"type\":\"heatmap\"}],\"heatmapgl\":[{\"colorbar\":{\"outlinewidth\":0,\"ticks\":\"\"},\"colorscale\":[[0.0,\"#0d0887\"],[0.1111111111111111,\"#46039f\"],[0.2222222222222222,\"#7201a8\"],[0.3333333333333333,\"#9c179e\"],[0.4444444444444444,\"#bd3786\"],[0.5555555555555556,\"#d8576b\"],[0.6666666666666666,\"#ed7953\"],[0.7777777777777778,\"#fb9f3a\"],[0.8888888888888888,\"#fdca26\"],[1.0,\"#f0f921\"]],\"type\":\"heatmapgl\"}],\"histogram\":[{\"marker\":{\"pattern\":{\"fillmode\":\"overlay\",\"size\":10,\"solidity\":0.2}},\"type\":\"histogram\"}],\"histogram2d\":[{\"colorbar\":{\"outlinewidth\":0,\"ticks\":\"\"},\"colorscale\":[[0.0,\"#0d0887\"],[0.1111111111111111,\"#46039f\"],[0.2222222222222222,\"#7201a8\"],[0.3333333333333333,\"#9c179e\"],[0.4444444444444444,\"#bd3786\"],[0.5555555555555556,\"#d8576b\"],[0.6666666666666666,\"#ed7953\"],[0.7777777777777778,\"#fb9f3a\"],[0.8888888888888888,\"#fdca26\"],[1.0,\"#f0f921\"]],\"type\":\"histogram2d\"}],\"histogram2dcontour\":[{\"colorbar\":{\"outlinewidth\":0,\"ticks\":\"\"},\"colorscale\":[[0.0,\"#0d0887\"],[0.1111111111111111,\"#46039f\"],[0.2222222222222222,\"#7201a8\"],[0.3333333333333333,\"#9c179e\"],[0.4444444444444444,\"#bd3786\"],[0.5555555555555556,\"#d8576b\"],[0.6666666666666666,\"#ed7953\"],[0.7777777777777778,\"#fb9f3a\"],[0.8888888888888888,\"#fdca26\"],[1.0,\"#f0f921\"]],\"type\":\"histogram2dcontour\"}],\"mesh3d\":[{\"colorbar\":{\"outlinewidth\":0,\"ticks\":\"\"},\"type\":\"mesh3d\"}],\"parcoords\":[{\"line\":{\"colorbar\":{\"outlinewidth\":0,\"ticks\":\"\"}},\"type\":\"parcoords\"}],\"pie\":[{\"automargin\":true,\"type\":\"pie\"}],\"scatter\":[{\"marker\":{\"colorbar\":{\"outlinewidth\":0,\"ticks\":\"\"}},\"type\":\"scatter\"}],\"scatter3d\":[{\"line\":{\"colorbar\":{\"outlinewidth\":0,\"ticks\":\"\"}},\"marker\":{\"colorbar\":{\"outlinewidth\":0,\"ticks\":\"\"}},\"type\":\"scatter3d\"}],\"scattercarpet\":[{\"marker\":{\"colorbar\":{\"outlinewidth\":0,\"ticks\":\"\"}},\"type\":\"scattercarpet\"}],\"scattergeo\":[{\"marker\":{\"colorbar\":{\"outlinewidth\":0,\"ticks\":\"\"}},\"type\":\"scattergeo\"}],\"scattergl\":[{\"marker\":{\"colorbar\":{\"outlinewidth\":0,\"ticks\":\"\"}},\"type\":\"scattergl\"}],\"scattermapbox\":[{\"marker\":{\"colorbar\":{\"outlinewidth\":0,\"ticks\":\"\"}},\"type\":\"scattermapbox\"}],\"scatterpolar\":[{\"marker\":{\"colorbar\":{\"outlinewidth\":0,\"ticks\":\"\"}},\"type\":\"scatterpolar\"}],\"scatterpolargl\":[{\"marker\":{\"colorbar\":{\"outlinewidth\":0,\"ticks\":\"\"}},\"type\":\"scatterpolargl\"}],\"scatterternary\":[{\"marker\":{\"colorbar\":{\"outlinewidth\":0,\"ticks\":\"\"}},\"type\":\"scatterternary\"}],\"surface\":[{\"colorbar\":{\"outlinewidth\":0,\"ticks\":\"\"},\"colorscale\":[[0.0,\"#0d0887\"],[0.1111111111111111,\"#46039f\"],[0.2222222222222222,\"#7201a8\"],[0.3333333333333333,\"#9c179e\"],[0.4444444444444444,\"#bd3786\"],[0.5555555555555556,\"#d8576b\"],[0.6666666666666666,\"#ed7953\"],[0.7777777777777778,\"#fb9f3a\"],[0.8888888888888888,\"#fdca26\"],[1.0,\"#f0f921\"]],\"type\":\"surface\"}],\"table\":[{\"cells\":{\"fill\":{\"color\":\"#EBF0F8\"},\"line\":{\"color\":\"white\"}},\"header\":{\"fill\":{\"color\":\"#C8D4E3\"},\"line\":{\"color\":\"white\"}},\"type\":\"table\"}]},\"layout\":{\"annotationdefaults\":{\"arrowcolor\":\"#2a3f5f\",\"arrowhead\":0,\"arrowwidth\":1},\"autotypenumbers\":\"strict\",\"coloraxis\":{\"colorbar\":{\"outlinewidth\":0,\"ticks\":\"\"}},\"colorscale\":{\"diverging\":[[0,\"#8e0152\"],[0.1,\"#c51b7d\"],[0.2,\"#de77ae\"],[0.3,\"#f1b6da\"],[0.4,\"#fde0ef\"],[0.5,\"#f7f7f7\"],[0.6,\"#e6f5d0\"],[0.7,\"#b8e186\"],[0.8,\"#7fbc41\"],[0.9,\"#4d9221\"],[1,\"#276419\"]],\"sequential\":[[0.0,\"#0d0887\"],[0.1111111111111111,\"#46039f\"],[0.2222222222222222,\"#7201a8\"],[0.3333333333333333,\"#9c179e\"],[0.4444444444444444,\"#bd3786\"],[0.5555555555555556,\"#d8576b\"],[0.6666666666666666,\"#ed7953\"],[0.7777777777777778,\"#fb9f3a\"],[0.8888888888888888,\"#fdca26\"],[1.0,\"#f0f921\"]],\"sequentialminus\":[[0.0,\"#0d0887\"],[0.1111111111111111,\"#46039f\"],[0.2222222222222222,\"#7201a8\"],[0.3333333333333333,\"#9c179e\"],[0.4444444444444444,\"#bd3786\"],[0.5555555555555556,\"#d8576b\"],[0.6666666666666666,\"#ed7953\"],[0.7777777777777778,\"#fb9f3a\"],[0.8888888888888888,\"#fdca26\"],[1.0,\"#f0f921\"]]},\"colorway\":[\"#636efa\",\"#EF553B\",\"#00cc96\",\"#ab63fa\",\"#FFA15A\",\"#19d3f3\",\"#FF6692\",\"#B6E880\",\"#FF97FF\",\"#FECB52\"],\"font\":{\"color\":\"#2a3f5f\"},\"geo\":{\"bgcolor\":\"white\",\"lakecolor\":\"white\",\"landcolor\":\"#E5ECF6\",\"showlakes\":true,\"showland\":true,\"subunitcolor\":\"white\"},\"hoverlabel\":{\"align\":\"left\"},\"hovermode\":\"closest\",\"mapbox\":{\"style\":\"light\"},\"paper_bgcolor\":\"white\",\"plot_bgcolor\":\"#E5ECF6\",\"polar\":{\"angularaxis\":{\"gridcolor\":\"white\",\"linecolor\":\"white\",\"ticks\":\"\"},\"bgcolor\":\"#E5ECF6\",\"radialaxis\":{\"gridcolor\":\"white\",\"linecolor\":\"white\",\"ticks\":\"\"}},\"scene\":{\"xaxis\":{\"backgroundcolor\":\"#E5ECF6\",\"gridcolor\":\"white\",\"gridwidth\":2,\"linecolor\":\"white\",\"showbackground\":true,\"ticks\":\"\",\"zerolinecolor\":\"white\"},\"yaxis\":{\"backgroundcolor\":\"#E5ECF6\",\"gridcolor\":\"white\",\"gridwidth\":2,\"linecolor\":\"white\",\"showbackground\":true,\"ticks\":\"\",\"zerolinecolor\":\"white\"},\"zaxis\":{\"backgroundcolor\":\"#E5ECF6\",\"gridcolor\":\"white\",\"gridwidth\":2,\"linecolor\":\"white\",\"showbackground\":true,\"ticks\":\"\",\"zerolinecolor\":\"white\"}},\"shapedefaults\":{\"line\":{\"color\":\"#2a3f5f\"}},\"ternary\":{\"aaxis\":{\"gridcolor\":\"white\",\"linecolor\":\"white\",\"ticks\":\"\"},\"baxis\":{\"gridcolor\":\"white\",\"linecolor\":\"white\",\"ticks\":\"\"},\"bgcolor\":\"#E5ECF6\",\"caxis\":{\"gridcolor\":\"white\",\"linecolor\":\"white\",\"ticks\":\"\"}},\"title\":{\"x\":0.05},\"xaxis\":{\"automargin\":true,\"gridcolor\":\"white\",\"linecolor\":\"white\",\"ticks\":\"\",\"title\":{\"standoff\":15},\"zerolinecolor\":\"white\",\"zerolinewidth\":2},\"yaxis\":{\"automargin\":true,\"gridcolor\":\"white\",\"linecolor\":\"white\",\"ticks\":\"\",\"title\":{\"standoff\":15},\"zerolinecolor\":\"white\",\"zerolinewidth\":2}}}},                        {\"responsive\": true}                    ).then(function(){\n",
              "                            \n",
              "var gd = document.getElementById('237bb5d5-5bd1-4b01-a614-c44d43319080');\n",
              "var x = new MutationObserver(function (mutations, observer) {{\n",
              "        var display = window.getComputedStyle(gd).display;\n",
              "        if (!display || display === 'none') {{\n",
              "            console.log([gd, 'removed!']);\n",
              "            Plotly.purge(gd);\n",
              "            observer.disconnect();\n",
              "        }}\n",
              "}});\n",
              "\n",
              "// Listen for the removal of the full notebook cells\n",
              "var notebookContainer = gd.closest('#notebook-container');\n",
              "if (notebookContainer) {{\n",
              "    x.observe(notebookContainer, {childList: true});\n",
              "}}\n",
              "\n",
              "// Listen for the clearing of the current output cell\n",
              "var outputEl = gd.closest('.output');\n",
              "if (outputEl) {{\n",
              "    x.observe(outputEl, {childList: true});\n",
              "}}\n",
              "\n",
              "                        })                };                            </script>        </div>\n",
              "</body>\n",
              "</html>"
            ]
          },
          "metadata": {}
        }
      ]
    },
    {
      "cell_type": "code",
      "source": [
        "# 그래프를 좀 더 이쁘게 만들기 위해서, 여러가지 변경 사항을 주도록 하겠습니다.\n",
        "# 각 옵션에 대한 자세한 설명은, 공식 사이트에서 직접 찾아야합니다.\n",
        "# https://plotly.com/python/polar-chart/\n",
        "fig.update_layout(\n",
        "    height=400, # 원하는 크기로 height를 지정\n",
        "    margin=dict( # Margin 변경\n",
        "        l=0,\n",
        "        r=0,\n",
        "        t=20,\n",
        "        b=20,\n",
        "    ),\n",
        "    polar=dict(\n",
        "        bgcolor='#eeeeee',\n",
        "        radialaxis=dict( # 방사축 꾸미기\n",
        "            visible=True, # 방사축 시각화 여부\n",
        "            range=[0, 5], # 방사축 범위\n",
        "            color=\"dimgray\", # 방사축 선 색깔\n",
        "            showticklabels=False, # tick 시각화 여부\n",
        "            showline=False, # 실선 시각화 여부\n",
        "            ticklen=0, # tick의 크기\n",
        "        ),\n",
        "        angularaxis=dict( # 축 꾸미기\n",
        "            # rotation=210, # 차트 회전율\n",
        "            color='#eee', # 선 색깔\n",
        "            ticklen=0,\n",
        "            tickfont=dict(\n",
        "                color='#888',\n",
        "                size=13\n",
        "            ),\n",
        "        ),\n",
        "        gridshape='linear',\n",
        "    ),\n",
        "    showlegend=True,\n",
        ")\n",
        "fig.show()"
      ],
      "metadata": {
        "colab": {
          "base_uri": "https://localhost:8080/",
          "height": 417
        },
        "id": "hHlamUGfG3M-",
        "outputId": "01fc5388-fc7e-457b-f5fc-76be54e835f0"
      },
      "execution_count": 26,
      "outputs": [
        {
          "output_type": "display_data",
          "data": {
            "text/html": [
              "<html>\n",
              "<head><meta charset=\"utf-8\" /></head>\n",
              "<body>\n",
              "    <div>            <script src=\"https://cdnjs.cloudflare.com/ajax/libs/mathjax/2.7.5/MathJax.js?config=TeX-AMS-MML_SVG\"></script><script type=\"text/javascript\">if (window.MathJax) {MathJax.Hub.Config({SVG: {font: \"STIX-Web\"}});}</script>                <script type=\"text/javascript\">window.PlotlyConfig = {MathJaxConfig: 'local'};</script>\n",
              "        <script src=\"https://cdn.plot.ly/plotly-2.8.3.min.js\"></script>                <div id=\"646f41ca-b5b2-472a-abd4-fd8ec5d61f44\" class=\"plotly-graph-div\" style=\"height:400px; width:100%;\"></div>            <script type=\"text/javascript\">                                    window.PLOTLYENV=window.PLOTLYENV || {};                                    if (document.getElementById(\"646f41ca-b5b2-472a-abd4-fd8ec5d61f44\")) {                    Plotly.newPlot(                        \"646f41ca-b5b2-472a-abd4-fd8ec5d61f44\",                        [{\"fill\":\"toself\",\"name\":\"Player Statistics A\",\"r\":[1,5,2,2,3],\"theta\":[\"\\uacbd\\uae30 \\uc2dc\\uac04\",\"\\uc5b4\\uc2dc\\uc2a4\\ud2b8\",\"\\ud06c\\ub85c\\uc2a4 \\uc815\\ud655\\ub3c4\",\"\\ub4dc\\ub9ac\\ube14 \\uc131\\uacf5\\ub960\",\"\\ub871\\ud328\\uc2a4 \\uc131\\uacf5\\ub960\",\"\\uc4f0\\ub8e8\\ud328\\uc2a4 \\uc131\\uacf5\\ub960\"],\"type\":\"scatterpolar\"},{\"fill\":\"toself\",\"name\":\"Player Statistics B\",\"r\":[5,2,3,1,4],\"theta\":[\"\\uacbd\\uae30 \\uc2dc\\uac04\",\"\\uc5b4\\uc2dc\\uc2a4\\ud2b8\",\"\\ud06c\\ub85c\\uc2a4 \\uc815\\ud655\\ub3c4\",\"\\ub4dc\\ub9ac\\ube14 \\uc131\\uacf5\\ub960\",\"\\ub871\\ud328\\uc2a4 \\uc131\\uacf5\\ub960\",\"\\uc4f0\\ub8e8\\ud328\\uc2a4 \\uc131\\uacf5\\ub960\"],\"type\":\"scatterpolar\"}],                        {\"template\":{\"data\":{\"bar\":[{\"error_x\":{\"color\":\"#2a3f5f\"},\"error_y\":{\"color\":\"#2a3f5f\"},\"marker\":{\"line\":{\"color\":\"#E5ECF6\",\"width\":0.5},\"pattern\":{\"fillmode\":\"overlay\",\"size\":10,\"solidity\":0.2}},\"type\":\"bar\"}],\"barpolar\":[{\"marker\":{\"line\":{\"color\":\"#E5ECF6\",\"width\":0.5},\"pattern\":{\"fillmode\":\"overlay\",\"size\":10,\"solidity\":0.2}},\"type\":\"barpolar\"}],\"carpet\":[{\"aaxis\":{\"endlinecolor\":\"#2a3f5f\",\"gridcolor\":\"white\",\"linecolor\":\"white\",\"minorgridcolor\":\"white\",\"startlinecolor\":\"#2a3f5f\"},\"baxis\":{\"endlinecolor\":\"#2a3f5f\",\"gridcolor\":\"white\",\"linecolor\":\"white\",\"minorgridcolor\":\"white\",\"startlinecolor\":\"#2a3f5f\"},\"type\":\"carpet\"}],\"choropleth\":[{\"colorbar\":{\"outlinewidth\":0,\"ticks\":\"\"},\"type\":\"choropleth\"}],\"contour\":[{\"colorbar\":{\"outlinewidth\":0,\"ticks\":\"\"},\"colorscale\":[[0.0,\"#0d0887\"],[0.1111111111111111,\"#46039f\"],[0.2222222222222222,\"#7201a8\"],[0.3333333333333333,\"#9c179e\"],[0.4444444444444444,\"#bd3786\"],[0.5555555555555556,\"#d8576b\"],[0.6666666666666666,\"#ed7953\"],[0.7777777777777778,\"#fb9f3a\"],[0.8888888888888888,\"#fdca26\"],[1.0,\"#f0f921\"]],\"type\":\"contour\"}],\"contourcarpet\":[{\"colorbar\":{\"outlinewidth\":0,\"ticks\":\"\"},\"type\":\"contourcarpet\"}],\"heatmap\":[{\"colorbar\":{\"outlinewidth\":0,\"ticks\":\"\"},\"colorscale\":[[0.0,\"#0d0887\"],[0.1111111111111111,\"#46039f\"],[0.2222222222222222,\"#7201a8\"],[0.3333333333333333,\"#9c179e\"],[0.4444444444444444,\"#bd3786\"],[0.5555555555555556,\"#d8576b\"],[0.6666666666666666,\"#ed7953\"],[0.7777777777777778,\"#fb9f3a\"],[0.8888888888888888,\"#fdca26\"],[1.0,\"#f0f921\"]],\"type\":\"heatmap\"}],\"heatmapgl\":[{\"colorbar\":{\"outlinewidth\":0,\"ticks\":\"\"},\"colorscale\":[[0.0,\"#0d0887\"],[0.1111111111111111,\"#46039f\"],[0.2222222222222222,\"#7201a8\"],[0.3333333333333333,\"#9c179e\"],[0.4444444444444444,\"#bd3786\"],[0.5555555555555556,\"#d8576b\"],[0.6666666666666666,\"#ed7953\"],[0.7777777777777778,\"#fb9f3a\"],[0.8888888888888888,\"#fdca26\"],[1.0,\"#f0f921\"]],\"type\":\"heatmapgl\"}],\"histogram\":[{\"marker\":{\"pattern\":{\"fillmode\":\"overlay\",\"size\":10,\"solidity\":0.2}},\"type\":\"histogram\"}],\"histogram2d\":[{\"colorbar\":{\"outlinewidth\":0,\"ticks\":\"\"},\"colorscale\":[[0.0,\"#0d0887\"],[0.1111111111111111,\"#46039f\"],[0.2222222222222222,\"#7201a8\"],[0.3333333333333333,\"#9c179e\"],[0.4444444444444444,\"#bd3786\"],[0.5555555555555556,\"#d8576b\"],[0.6666666666666666,\"#ed7953\"],[0.7777777777777778,\"#fb9f3a\"],[0.8888888888888888,\"#fdca26\"],[1.0,\"#f0f921\"]],\"type\":\"histogram2d\"}],\"histogram2dcontour\":[{\"colorbar\":{\"outlinewidth\":0,\"ticks\":\"\"},\"colorscale\":[[0.0,\"#0d0887\"],[0.1111111111111111,\"#46039f\"],[0.2222222222222222,\"#7201a8\"],[0.3333333333333333,\"#9c179e\"],[0.4444444444444444,\"#bd3786\"],[0.5555555555555556,\"#d8576b\"],[0.6666666666666666,\"#ed7953\"],[0.7777777777777778,\"#fb9f3a\"],[0.8888888888888888,\"#fdca26\"],[1.0,\"#f0f921\"]],\"type\":\"histogram2dcontour\"}],\"mesh3d\":[{\"colorbar\":{\"outlinewidth\":0,\"ticks\":\"\"},\"type\":\"mesh3d\"}],\"parcoords\":[{\"line\":{\"colorbar\":{\"outlinewidth\":0,\"ticks\":\"\"}},\"type\":\"parcoords\"}],\"pie\":[{\"automargin\":true,\"type\":\"pie\"}],\"scatter\":[{\"marker\":{\"colorbar\":{\"outlinewidth\":0,\"ticks\":\"\"}},\"type\":\"scatter\"}],\"scatter3d\":[{\"line\":{\"colorbar\":{\"outlinewidth\":0,\"ticks\":\"\"}},\"marker\":{\"colorbar\":{\"outlinewidth\":0,\"ticks\":\"\"}},\"type\":\"scatter3d\"}],\"scattercarpet\":[{\"marker\":{\"colorbar\":{\"outlinewidth\":0,\"ticks\":\"\"}},\"type\":\"scattercarpet\"}],\"scattergeo\":[{\"marker\":{\"colorbar\":{\"outlinewidth\":0,\"ticks\":\"\"}},\"type\":\"scattergeo\"}],\"scattergl\":[{\"marker\":{\"colorbar\":{\"outlinewidth\":0,\"ticks\":\"\"}},\"type\":\"scattergl\"}],\"scattermapbox\":[{\"marker\":{\"colorbar\":{\"outlinewidth\":0,\"ticks\":\"\"}},\"type\":\"scattermapbox\"}],\"scatterpolar\":[{\"marker\":{\"colorbar\":{\"outlinewidth\":0,\"ticks\":\"\"}},\"type\":\"scatterpolar\"}],\"scatterpolargl\":[{\"marker\":{\"colorbar\":{\"outlinewidth\":0,\"ticks\":\"\"}},\"type\":\"scatterpolargl\"}],\"scatterternary\":[{\"marker\":{\"colorbar\":{\"outlinewidth\":0,\"ticks\":\"\"}},\"type\":\"scatterternary\"}],\"surface\":[{\"colorbar\":{\"outlinewidth\":0,\"ticks\":\"\"},\"colorscale\":[[0.0,\"#0d0887\"],[0.1111111111111111,\"#46039f\"],[0.2222222222222222,\"#7201a8\"],[0.3333333333333333,\"#9c179e\"],[0.4444444444444444,\"#bd3786\"],[0.5555555555555556,\"#d8576b\"],[0.6666666666666666,\"#ed7953\"],[0.7777777777777778,\"#fb9f3a\"],[0.8888888888888888,\"#fdca26\"],[1.0,\"#f0f921\"]],\"type\":\"surface\"}],\"table\":[{\"cells\":{\"fill\":{\"color\":\"#EBF0F8\"},\"line\":{\"color\":\"white\"}},\"header\":{\"fill\":{\"color\":\"#C8D4E3\"},\"line\":{\"color\":\"white\"}},\"type\":\"table\"}]},\"layout\":{\"annotationdefaults\":{\"arrowcolor\":\"#2a3f5f\",\"arrowhead\":0,\"arrowwidth\":1},\"autotypenumbers\":\"strict\",\"coloraxis\":{\"colorbar\":{\"outlinewidth\":0,\"ticks\":\"\"}},\"colorscale\":{\"diverging\":[[0,\"#8e0152\"],[0.1,\"#c51b7d\"],[0.2,\"#de77ae\"],[0.3,\"#f1b6da\"],[0.4,\"#fde0ef\"],[0.5,\"#f7f7f7\"],[0.6,\"#e6f5d0\"],[0.7,\"#b8e186\"],[0.8,\"#7fbc41\"],[0.9,\"#4d9221\"],[1,\"#276419\"]],\"sequential\":[[0.0,\"#0d0887\"],[0.1111111111111111,\"#46039f\"],[0.2222222222222222,\"#7201a8\"],[0.3333333333333333,\"#9c179e\"],[0.4444444444444444,\"#bd3786\"],[0.5555555555555556,\"#d8576b\"],[0.6666666666666666,\"#ed7953\"],[0.7777777777777778,\"#fb9f3a\"],[0.8888888888888888,\"#fdca26\"],[1.0,\"#f0f921\"]],\"sequentialminus\":[[0.0,\"#0d0887\"],[0.1111111111111111,\"#46039f\"],[0.2222222222222222,\"#7201a8\"],[0.3333333333333333,\"#9c179e\"],[0.4444444444444444,\"#bd3786\"],[0.5555555555555556,\"#d8576b\"],[0.6666666666666666,\"#ed7953\"],[0.7777777777777778,\"#fb9f3a\"],[0.8888888888888888,\"#fdca26\"],[1.0,\"#f0f921\"]]},\"colorway\":[\"#636efa\",\"#EF553B\",\"#00cc96\",\"#ab63fa\",\"#FFA15A\",\"#19d3f3\",\"#FF6692\",\"#B6E880\",\"#FF97FF\",\"#FECB52\"],\"font\":{\"color\":\"#2a3f5f\"},\"geo\":{\"bgcolor\":\"white\",\"lakecolor\":\"white\",\"landcolor\":\"#E5ECF6\",\"showlakes\":true,\"showland\":true,\"subunitcolor\":\"white\"},\"hoverlabel\":{\"align\":\"left\"},\"hovermode\":\"closest\",\"mapbox\":{\"style\":\"light\"},\"paper_bgcolor\":\"white\",\"plot_bgcolor\":\"#E5ECF6\",\"polar\":{\"angularaxis\":{\"gridcolor\":\"white\",\"linecolor\":\"white\",\"ticks\":\"\"},\"bgcolor\":\"#E5ECF6\",\"radialaxis\":{\"gridcolor\":\"white\",\"linecolor\":\"white\",\"ticks\":\"\"}},\"scene\":{\"xaxis\":{\"backgroundcolor\":\"#E5ECF6\",\"gridcolor\":\"white\",\"gridwidth\":2,\"linecolor\":\"white\",\"showbackground\":true,\"ticks\":\"\",\"zerolinecolor\":\"white\"},\"yaxis\":{\"backgroundcolor\":\"#E5ECF6\",\"gridcolor\":\"white\",\"gridwidth\":2,\"linecolor\":\"white\",\"showbackground\":true,\"ticks\":\"\",\"zerolinecolor\":\"white\"},\"zaxis\":{\"backgroundcolor\":\"#E5ECF6\",\"gridcolor\":\"white\",\"gridwidth\":2,\"linecolor\":\"white\",\"showbackground\":true,\"ticks\":\"\",\"zerolinecolor\":\"white\"}},\"shapedefaults\":{\"line\":{\"color\":\"#2a3f5f\"}},\"ternary\":{\"aaxis\":{\"gridcolor\":\"white\",\"linecolor\":\"white\",\"ticks\":\"\"},\"baxis\":{\"gridcolor\":\"white\",\"linecolor\":\"white\",\"ticks\":\"\"},\"bgcolor\":\"#E5ECF6\",\"caxis\":{\"gridcolor\":\"white\",\"linecolor\":\"white\",\"ticks\":\"\"}},\"title\":{\"x\":0.05},\"xaxis\":{\"automargin\":true,\"gridcolor\":\"white\",\"linecolor\":\"white\",\"ticks\":\"\",\"title\":{\"standoff\":15},\"zerolinecolor\":\"white\",\"zerolinewidth\":2},\"yaxis\":{\"automargin\":true,\"gridcolor\":\"white\",\"linecolor\":\"white\",\"ticks\":\"\",\"title\":{\"standoff\":15},\"zerolinecolor\":\"white\",\"zerolinewidth\":2}}},\"margin\":{\"l\":0,\"r\":0,\"t\":20,\"b\":20},\"polar\":{\"radialaxis\":{\"visible\":true,\"range\":[0,5],\"color\":\"dimgray\",\"showticklabels\":false,\"showline\":false,\"ticklen\":0},\"angularaxis\":{\"tickfont\":{\"color\":\"#888\",\"size\":13},\"color\":\"#eee\",\"ticklen\":0},\"bgcolor\":\"#eeeeee\",\"gridshape\":\"linear\"},\"height\":400,\"showlegend\":true},                        {\"responsive\": true}                    ).then(function(){\n",
              "                            \n",
              "var gd = document.getElementById('646f41ca-b5b2-472a-abd4-fd8ec5d61f44');\n",
              "var x = new MutationObserver(function (mutations, observer) {{\n",
              "        var display = window.getComputedStyle(gd).display;\n",
              "        if (!display || display === 'none') {{\n",
              "            console.log([gd, 'removed!']);\n",
              "            Plotly.purge(gd);\n",
              "            observer.disconnect();\n",
              "        }}\n",
              "}});\n",
              "\n",
              "// Listen for the removal of the full notebook cells\n",
              "var notebookContainer = gd.closest('#notebook-container');\n",
              "if (notebookContainer) {{\n",
              "    x.observe(notebookContainer, {childList: true});\n",
              "}}\n",
              "\n",
              "// Listen for the clearing of the current output cell\n",
              "var outputEl = gd.closest('.output');\n",
              "if (outputEl) {{\n",
              "    x.observe(outputEl, {childList: true});\n",
              "}}\n",
              "\n",
              "                        })                };                            </script>        </div>\n",
              "</body>\n",
              "</html>"
            ]
          },
          "metadata": {}
        }
      ]
    },
    {
      "cell_type": "markdown",
      "source": [
        "# 시각화 실습\n",
        "\n",
        "get_average_status_for_year 함수와 위에서 배운 시각화 방법을 통해 직접 시각화를 해봅시다.\n",
        "\n",
        "### 준비 단계\n",
        "\n",
        "가장 우선적으로, 편한 사용을 위해서 자연어 \"Key\"를 주면 실제 데이터에 접근할 수 있는 값을 주는 \"Value\"를 가지는 dictionary를 만들어봅시다."
      ],
      "metadata": {
        "id": "nsPlxQY5IZx6"
      }
    },
    {
      "cell_type": "code",
      "source": [
        "korean_to_key = {\n",
        "    \"경기 시간\": (\"Minutes played\", None),\n",
        "    \"어시스트\": (\"Assists\", None),\n",
        "    \"Shot 어시스트\": (\"Shot assists\", None),\n",
        "    \"크로스 정확도\": (\"Crosses accurate\", \"Crosses\"),\n",
        "    \"드리블 성공률\": (\"Dribbles successful\", \"Dribbles\"),\n",
        "    \"Offensive Duels 승률\": (\"Offensive duels won\", \"Offensive duels\"),\n",
        "    \"Defensive Duels 승률\": (\"Defensive duels won\", \"Defensive duels\"),\n",
        "    \"Penalty area 패스 성공률\": (\"Passes to penalty area accurate\", \"Passes to penalty area\"),\n",
        "    \"패스 성공률\": (\"Passes\", \"Passes accurate\"),\n",
        "    \"롱패스 성공률\": (\"Long passes\", \"Long passes accurate\"),\n",
        "    \"쓰루패스 성공률\": (\"Through passes\", \"Through passes accurate\"),\n",
        "    \"백패스 성공률\": (\"Back passes accurate\", \"Back passes\"),\n",
        "    \"공중경합 성공률\": (\"Aerial duels won\", \"Aerial duels\"), # 이하 실습용\n",
        "    \"Loose Ball 경합 성공률\": (\"Loose ball duels won\", \"Loose ball duels\"),\n",
        "    \"오프사이드 횟수\": (\"Offsides\", None),\n",
        "    \"슬라이딩 태클 성공률\": (\"Sliding tackles successful\", \"Sliding tackles\"),\n",
        "    \"옐로우 카드\": (\"Yellow cards\", None),\n",
        "}"
      ],
      "metadata": {
        "id": "XaHVfcMvJ3Yf"
      },
      "execution_count": 27,
      "outputs": []
    },
    {
      "cell_type": "markdown",
      "source": [
        "이를 이용하면 다음과 같은 함수 get_average_status_for_year_by_name 를 만들 수가 있습니다."
      ],
      "metadata": {
        "id": "ho6yCcAsKmLW"
      }
    },
    {
      "cell_type": "code",
      "source": [
        "def get_average_status_for_year_by_name(year, name):\n",
        "    keys = korean_to_key[name]\n",
        "    key1 = keys[0]\n",
        "    key2 = keys[1]\n",
        "\n",
        "    return get_average_status_for_year(year, key1, key2)"
      ],
      "metadata": {
        "id": "n4aOusdQKkhU"
      },
      "execution_count": 28,
      "outputs": []
    },
    {
      "cell_type": "code",
      "source": [
        "# 활용해봅시다\n",
        "print(get_average_status_for_year_by_name(2022, \"백패스 성공률\"))"
      ],
      "metadata": {
        "colab": {
          "base_uri": "https://localhost:8080/"
        },
        "id": "Rxr9nlhJK033",
        "outputId": "54b4455d-4211-4476-b633-a7e6030443f3"
      },
      "execution_count": 29,
      "outputs": [
        {
          "output_type": "stream",
          "name": "stdout",
          "text": [
            "0.9023407148407148\n"
          ]
        }
      ]
    },
    {
      "cell_type": "markdown",
      "source": [
        "시각화 또한 편한 활용을 위하여, 함수로 만들어줍시다."
      ],
      "metadata": {
        "id": "38GkuHzALYSe"
      }
    },
    {
      "cell_type": "code",
      "source": [
        "def draw_fig(fig, radial_range=[-0.2, 1.2]):\n",
        "    fig.update_layout(\n",
        "        height=400, # 원하는 크기로 height를 지정\n",
        "        margin=dict( # Margin 변경\n",
        "            l=0,\n",
        "            r=0,\n",
        "            t=20,\n",
        "            b=20,\n",
        "        ),\n",
        "        polar=dict(\n",
        "            bgcolor='#eeeeee',\n",
        "            radialaxis=dict( # 방사축 꾸미기\n",
        "                visible=True,\n",
        "                range=radial_range,\n",
        "                color=\"dimgray\", # 방사축 선 색깔\n",
        "                showticklabels=False,\n",
        "                showline=False,\n",
        "                ticklen=0,\n",
        "            ),\n",
        "            angularaxis=dict( # 축 꾸미기\n",
        "                # rotation=210, # 차트 회전율\n",
        "                color='#eee', # 선 색깔\n",
        "                ticklen=0,\n",
        "                tickfont=dict(\n",
        "                    color='#888',\n",
        "                    size=13\n",
        "                ),\n",
        "            ),\n",
        "            gridshape='linear',\n",
        "        ),\n",
        "        showlegend=True,\n",
        "    )\n",
        "    fig.show()"
      ],
      "metadata": {
        "id": "MElVcQWFLa5u"
      },
      "execution_count": 30,
      "outputs": []
    },
    {
      "cell_type": "markdown",
      "source": [
        "### 실제 시각화 함수 만들기\n",
        "\n",
        "우리가 만들고 싶은 함수는 다음과 같습니다.\n",
        "\n",
        "1. 유저가 원하는 년도와 시각화 하고 싶은 수치의 리스트를 넣는다.\n",
        "2. 해당 년도들에서 시각화 하고 싶은 수치들을 모은다.\n",
        "3. 모은 정보를 바탕으로 시각화해준다."
      ],
      "metadata": {
        "id": "3KqBpOuxLeJz"
      }
    },
    {
      "cell_type": "code",
      "source": [
        "def visualize(years, keys):\n",
        "    fig = go.Figure() # 빈 공간 만들기\n",
        "\n",
        "    for year in list(years): # 주어진 연도별로 radar chart 생성\n",
        "        categories = [] # 시각화 하고 싶은 수치의 이름\n",
        "        values = [] # 해당 수치의 값\n",
        "        for key in keys:\n",
        "            status = get_average_status_for_year_by_name(year, key)\n",
        "            categories.append(key)\n",
        "            values.append(status)\n",
        "\n",
        "        fig.add_trace(go.Scatterpolar(\n",
        "            r=values,\n",
        "            theta=categories,\n",
        "            fill='toself',\n",
        "            name=year,\n",
        "            mode='lines',\n",
        "        ))\n",
        "    draw_fig(fig)"
      ],
      "metadata": {
        "id": "FvEH-8eLL3_u"
      },
      "execution_count": 31,
      "outputs": []
    },
    {
      "cell_type": "code",
      "source": [
        "# 시험해봅시다\n",
        "visualize([2021, 2022], [\"경기 시간\", \"어시스트\", \"크로스 정확도\", \"드리블 성공률\", \"롱패스 성공률\", \"쓰루패스 성공률\"])"
      ],
      "metadata": {
        "colab": {
          "base_uri": "https://localhost:8080/",
          "height": 417
        },
        "id": "-7GvxvpFMWBR",
        "outputId": "0cdb1c6b-eba9-44a2-ed95-c4463f61815e"
      },
      "execution_count": 32,
      "outputs": [
        {
          "output_type": "display_data",
          "data": {
            "text/html": [
              "<html>\n",
              "<head><meta charset=\"utf-8\" /></head>\n",
              "<body>\n",
              "    <div>            <script src=\"https://cdnjs.cloudflare.com/ajax/libs/mathjax/2.7.5/MathJax.js?config=TeX-AMS-MML_SVG\"></script><script type=\"text/javascript\">if (window.MathJax) {MathJax.Hub.Config({SVG: {font: \"STIX-Web\"}});}</script>                <script type=\"text/javascript\">window.PlotlyConfig = {MathJaxConfig: 'local'};</script>\n",
              "        <script src=\"https://cdn.plot.ly/plotly-2.8.3.min.js\"></script>                <div id=\"69b82698-c326-48b6-aba2-3b2b2d47629d\" class=\"plotly-graph-div\" style=\"height:400px; width:100%;\"></div>            <script type=\"text/javascript\">                                    window.PLOTLYENV=window.PLOTLYENV || {};                                    if (document.getElementById(\"69b82698-c326-48b6-aba2-3b2b2d47629d\")) {                    Plotly.newPlot(                        \"69b82698-c326-48b6-aba2-3b2b2d47629d\",                        [{\"fill\":\"toself\",\"mode\":\"lines\",\"name\":\"2021\",\"r\":[90.95348837209302,0.0,0.2094130675526024,0.29069767441860467,1.6970653377630118,0.47286821705426363],\"theta\":[\"\\uacbd\\uae30 \\uc2dc\\uac04\",\"\\uc5b4\\uc2dc\\uc2a4\\ud2b8\",\"\\ud06c\\ub85c\\uc2a4 \\uc815\\ud655\\ub3c4\",\"\\ub4dc\\ub9ac\\ube14 \\uc131\\uacf5\\ub960\",\"\\ub871\\ud328\\uc2a4 \\uc131\\uacf5\\ub960\",\"\\uc4f0\\ub8e8\\ud328\\uc2a4 \\uc131\\uacf5\\ub960\"],\"type\":\"scatterpolar\"},{\"fill\":\"toself\",\"mode\":\"lines\",\"name\":\"2022\",\"r\":[79.51515151515152,0.09090909090909091,0.2287878787878788,0.2919191919191919,1.3491341991341992,0.2878787878787879],\"theta\":[\"\\uacbd\\uae30 \\uc2dc\\uac04\",\"\\uc5b4\\uc2dc\\uc2a4\\ud2b8\",\"\\ud06c\\ub85c\\uc2a4 \\uc815\\ud655\\ub3c4\",\"\\ub4dc\\ub9ac\\ube14 \\uc131\\uacf5\\ub960\",\"\\ub871\\ud328\\uc2a4 \\uc131\\uacf5\\ub960\",\"\\uc4f0\\ub8e8\\ud328\\uc2a4 \\uc131\\uacf5\\ub960\"],\"type\":\"scatterpolar\"}],                        {\"template\":{\"data\":{\"bar\":[{\"error_x\":{\"color\":\"#2a3f5f\"},\"error_y\":{\"color\":\"#2a3f5f\"},\"marker\":{\"line\":{\"color\":\"#E5ECF6\",\"width\":0.5},\"pattern\":{\"fillmode\":\"overlay\",\"size\":10,\"solidity\":0.2}},\"type\":\"bar\"}],\"barpolar\":[{\"marker\":{\"line\":{\"color\":\"#E5ECF6\",\"width\":0.5},\"pattern\":{\"fillmode\":\"overlay\",\"size\":10,\"solidity\":0.2}},\"type\":\"barpolar\"}],\"carpet\":[{\"aaxis\":{\"endlinecolor\":\"#2a3f5f\",\"gridcolor\":\"white\",\"linecolor\":\"white\",\"minorgridcolor\":\"white\",\"startlinecolor\":\"#2a3f5f\"},\"baxis\":{\"endlinecolor\":\"#2a3f5f\",\"gridcolor\":\"white\",\"linecolor\":\"white\",\"minorgridcolor\":\"white\",\"startlinecolor\":\"#2a3f5f\"},\"type\":\"carpet\"}],\"choropleth\":[{\"colorbar\":{\"outlinewidth\":0,\"ticks\":\"\"},\"type\":\"choropleth\"}],\"contour\":[{\"colorbar\":{\"outlinewidth\":0,\"ticks\":\"\"},\"colorscale\":[[0.0,\"#0d0887\"],[0.1111111111111111,\"#46039f\"],[0.2222222222222222,\"#7201a8\"],[0.3333333333333333,\"#9c179e\"],[0.4444444444444444,\"#bd3786\"],[0.5555555555555556,\"#d8576b\"],[0.6666666666666666,\"#ed7953\"],[0.7777777777777778,\"#fb9f3a\"],[0.8888888888888888,\"#fdca26\"],[1.0,\"#f0f921\"]],\"type\":\"contour\"}],\"contourcarpet\":[{\"colorbar\":{\"outlinewidth\":0,\"ticks\":\"\"},\"type\":\"contourcarpet\"}],\"heatmap\":[{\"colorbar\":{\"outlinewidth\":0,\"ticks\":\"\"},\"colorscale\":[[0.0,\"#0d0887\"],[0.1111111111111111,\"#46039f\"],[0.2222222222222222,\"#7201a8\"],[0.3333333333333333,\"#9c179e\"],[0.4444444444444444,\"#bd3786\"],[0.5555555555555556,\"#d8576b\"],[0.6666666666666666,\"#ed7953\"],[0.7777777777777778,\"#fb9f3a\"],[0.8888888888888888,\"#fdca26\"],[1.0,\"#f0f921\"]],\"type\":\"heatmap\"}],\"heatmapgl\":[{\"colorbar\":{\"outlinewidth\":0,\"ticks\":\"\"},\"colorscale\":[[0.0,\"#0d0887\"],[0.1111111111111111,\"#46039f\"],[0.2222222222222222,\"#7201a8\"],[0.3333333333333333,\"#9c179e\"],[0.4444444444444444,\"#bd3786\"],[0.5555555555555556,\"#d8576b\"],[0.6666666666666666,\"#ed7953\"],[0.7777777777777778,\"#fb9f3a\"],[0.8888888888888888,\"#fdca26\"],[1.0,\"#f0f921\"]],\"type\":\"heatmapgl\"}],\"histogram\":[{\"marker\":{\"pattern\":{\"fillmode\":\"overlay\",\"size\":10,\"solidity\":0.2}},\"type\":\"histogram\"}],\"histogram2d\":[{\"colorbar\":{\"outlinewidth\":0,\"ticks\":\"\"},\"colorscale\":[[0.0,\"#0d0887\"],[0.1111111111111111,\"#46039f\"],[0.2222222222222222,\"#7201a8\"],[0.3333333333333333,\"#9c179e\"],[0.4444444444444444,\"#bd3786\"],[0.5555555555555556,\"#d8576b\"],[0.6666666666666666,\"#ed7953\"],[0.7777777777777778,\"#fb9f3a\"],[0.8888888888888888,\"#fdca26\"],[1.0,\"#f0f921\"]],\"type\":\"histogram2d\"}],\"histogram2dcontour\":[{\"colorbar\":{\"outlinewidth\":0,\"ticks\":\"\"},\"colorscale\":[[0.0,\"#0d0887\"],[0.1111111111111111,\"#46039f\"],[0.2222222222222222,\"#7201a8\"],[0.3333333333333333,\"#9c179e\"],[0.4444444444444444,\"#bd3786\"],[0.5555555555555556,\"#d8576b\"],[0.6666666666666666,\"#ed7953\"],[0.7777777777777778,\"#fb9f3a\"],[0.8888888888888888,\"#fdca26\"],[1.0,\"#f0f921\"]],\"type\":\"histogram2dcontour\"}],\"mesh3d\":[{\"colorbar\":{\"outlinewidth\":0,\"ticks\":\"\"},\"type\":\"mesh3d\"}],\"parcoords\":[{\"line\":{\"colorbar\":{\"outlinewidth\":0,\"ticks\":\"\"}},\"type\":\"parcoords\"}],\"pie\":[{\"automargin\":true,\"type\":\"pie\"}],\"scatter\":[{\"marker\":{\"colorbar\":{\"outlinewidth\":0,\"ticks\":\"\"}},\"type\":\"scatter\"}],\"scatter3d\":[{\"line\":{\"colorbar\":{\"outlinewidth\":0,\"ticks\":\"\"}},\"marker\":{\"colorbar\":{\"outlinewidth\":0,\"ticks\":\"\"}},\"type\":\"scatter3d\"}],\"scattercarpet\":[{\"marker\":{\"colorbar\":{\"outlinewidth\":0,\"ticks\":\"\"}},\"type\":\"scattercarpet\"}],\"scattergeo\":[{\"marker\":{\"colorbar\":{\"outlinewidth\":0,\"ticks\":\"\"}},\"type\":\"scattergeo\"}],\"scattergl\":[{\"marker\":{\"colorbar\":{\"outlinewidth\":0,\"ticks\":\"\"}},\"type\":\"scattergl\"}],\"scattermapbox\":[{\"marker\":{\"colorbar\":{\"outlinewidth\":0,\"ticks\":\"\"}},\"type\":\"scattermapbox\"}],\"scatterpolar\":[{\"marker\":{\"colorbar\":{\"outlinewidth\":0,\"ticks\":\"\"}},\"type\":\"scatterpolar\"}],\"scatterpolargl\":[{\"marker\":{\"colorbar\":{\"outlinewidth\":0,\"ticks\":\"\"}},\"type\":\"scatterpolargl\"}],\"scatterternary\":[{\"marker\":{\"colorbar\":{\"outlinewidth\":0,\"ticks\":\"\"}},\"type\":\"scatterternary\"}],\"surface\":[{\"colorbar\":{\"outlinewidth\":0,\"ticks\":\"\"},\"colorscale\":[[0.0,\"#0d0887\"],[0.1111111111111111,\"#46039f\"],[0.2222222222222222,\"#7201a8\"],[0.3333333333333333,\"#9c179e\"],[0.4444444444444444,\"#bd3786\"],[0.5555555555555556,\"#d8576b\"],[0.6666666666666666,\"#ed7953\"],[0.7777777777777778,\"#fb9f3a\"],[0.8888888888888888,\"#fdca26\"],[1.0,\"#f0f921\"]],\"type\":\"surface\"}],\"table\":[{\"cells\":{\"fill\":{\"color\":\"#EBF0F8\"},\"line\":{\"color\":\"white\"}},\"header\":{\"fill\":{\"color\":\"#C8D4E3\"},\"line\":{\"color\":\"white\"}},\"type\":\"table\"}]},\"layout\":{\"annotationdefaults\":{\"arrowcolor\":\"#2a3f5f\",\"arrowhead\":0,\"arrowwidth\":1},\"autotypenumbers\":\"strict\",\"coloraxis\":{\"colorbar\":{\"outlinewidth\":0,\"ticks\":\"\"}},\"colorscale\":{\"diverging\":[[0,\"#8e0152\"],[0.1,\"#c51b7d\"],[0.2,\"#de77ae\"],[0.3,\"#f1b6da\"],[0.4,\"#fde0ef\"],[0.5,\"#f7f7f7\"],[0.6,\"#e6f5d0\"],[0.7,\"#b8e186\"],[0.8,\"#7fbc41\"],[0.9,\"#4d9221\"],[1,\"#276419\"]],\"sequential\":[[0.0,\"#0d0887\"],[0.1111111111111111,\"#46039f\"],[0.2222222222222222,\"#7201a8\"],[0.3333333333333333,\"#9c179e\"],[0.4444444444444444,\"#bd3786\"],[0.5555555555555556,\"#d8576b\"],[0.6666666666666666,\"#ed7953\"],[0.7777777777777778,\"#fb9f3a\"],[0.8888888888888888,\"#fdca26\"],[1.0,\"#f0f921\"]],\"sequentialminus\":[[0.0,\"#0d0887\"],[0.1111111111111111,\"#46039f\"],[0.2222222222222222,\"#7201a8\"],[0.3333333333333333,\"#9c179e\"],[0.4444444444444444,\"#bd3786\"],[0.5555555555555556,\"#d8576b\"],[0.6666666666666666,\"#ed7953\"],[0.7777777777777778,\"#fb9f3a\"],[0.8888888888888888,\"#fdca26\"],[1.0,\"#f0f921\"]]},\"colorway\":[\"#636efa\",\"#EF553B\",\"#00cc96\",\"#ab63fa\",\"#FFA15A\",\"#19d3f3\",\"#FF6692\",\"#B6E880\",\"#FF97FF\",\"#FECB52\"],\"font\":{\"color\":\"#2a3f5f\"},\"geo\":{\"bgcolor\":\"white\",\"lakecolor\":\"white\",\"landcolor\":\"#E5ECF6\",\"showlakes\":true,\"showland\":true,\"subunitcolor\":\"white\"},\"hoverlabel\":{\"align\":\"left\"},\"hovermode\":\"closest\",\"mapbox\":{\"style\":\"light\"},\"paper_bgcolor\":\"white\",\"plot_bgcolor\":\"#E5ECF6\",\"polar\":{\"angularaxis\":{\"gridcolor\":\"white\",\"linecolor\":\"white\",\"ticks\":\"\"},\"bgcolor\":\"#E5ECF6\",\"radialaxis\":{\"gridcolor\":\"white\",\"linecolor\":\"white\",\"ticks\":\"\"}},\"scene\":{\"xaxis\":{\"backgroundcolor\":\"#E5ECF6\",\"gridcolor\":\"white\",\"gridwidth\":2,\"linecolor\":\"white\",\"showbackground\":true,\"ticks\":\"\",\"zerolinecolor\":\"white\"},\"yaxis\":{\"backgroundcolor\":\"#E5ECF6\",\"gridcolor\":\"white\",\"gridwidth\":2,\"linecolor\":\"white\",\"showbackground\":true,\"ticks\":\"\",\"zerolinecolor\":\"white\"},\"zaxis\":{\"backgroundcolor\":\"#E5ECF6\",\"gridcolor\":\"white\",\"gridwidth\":2,\"linecolor\":\"white\",\"showbackground\":true,\"ticks\":\"\",\"zerolinecolor\":\"white\"}},\"shapedefaults\":{\"line\":{\"color\":\"#2a3f5f\"}},\"ternary\":{\"aaxis\":{\"gridcolor\":\"white\",\"linecolor\":\"white\",\"ticks\":\"\"},\"baxis\":{\"gridcolor\":\"white\",\"linecolor\":\"white\",\"ticks\":\"\"},\"bgcolor\":\"#E5ECF6\",\"caxis\":{\"gridcolor\":\"white\",\"linecolor\":\"white\",\"ticks\":\"\"}},\"title\":{\"x\":0.05},\"xaxis\":{\"automargin\":true,\"gridcolor\":\"white\",\"linecolor\":\"white\",\"ticks\":\"\",\"title\":{\"standoff\":15},\"zerolinecolor\":\"white\",\"zerolinewidth\":2},\"yaxis\":{\"automargin\":true,\"gridcolor\":\"white\",\"linecolor\":\"white\",\"ticks\":\"\",\"title\":{\"standoff\":15},\"zerolinecolor\":\"white\",\"zerolinewidth\":2}}},\"margin\":{\"l\":0,\"r\":0,\"t\":20,\"b\":20},\"polar\":{\"radialaxis\":{\"visible\":true,\"range\":[-0.2,1.2],\"color\":\"dimgray\",\"showticklabels\":false,\"showline\":false,\"ticklen\":0},\"angularaxis\":{\"tickfont\":{\"color\":\"#888\",\"size\":13},\"color\":\"#eee\",\"ticklen\":0},\"bgcolor\":\"#eeeeee\",\"gridshape\":\"linear\"},\"height\":400,\"showlegend\":true},                        {\"responsive\": true}                    ).then(function(){\n",
              "                            \n",
              "var gd = document.getElementById('69b82698-c326-48b6-aba2-3b2b2d47629d');\n",
              "var x = new MutationObserver(function (mutations, observer) {{\n",
              "        var display = window.getComputedStyle(gd).display;\n",
              "        if (!display || display === 'none') {{\n",
              "            console.log([gd, 'removed!']);\n",
              "            Plotly.purge(gd);\n",
              "            observer.disconnect();\n",
              "        }}\n",
              "}});\n",
              "\n",
              "// Listen for the removal of the full notebook cells\n",
              "var notebookContainer = gd.closest('#notebook-container');\n",
              "if (notebookContainer) {{\n",
              "    x.observe(notebookContainer, {childList: true});\n",
              "}}\n",
              "\n",
              "// Listen for the clearing of the current output cell\n",
              "var outputEl = gd.closest('.output');\n",
              "if (outputEl) {{\n",
              "    x.observe(outputEl, {childList: true});\n",
              "}}\n",
              "\n",
              "                        })                };                            </script>        </div>\n",
              "</body>\n",
              "</html>"
            ]
          },
          "metadata": {}
        }
      ]
    },
    {
      "cell_type": "markdown",
      "source": [
        "원하는대로 나왔나요...?\n",
        "\n",
        "왜 이런 결과가 나올까요? 각 수치의 값의 \"범위\"가 제각각이기 때문입니다.\n",
        "\n",
        "visualize 함수를 수정하여 각 수치를 볼 수 있도록 해봅시다."
      ],
      "metadata": {
        "id": "YaS0Zzg2M2vh"
      }
    },
    {
      "cell_type": "code",
      "source": [
        "def visualize(years, keys):\n",
        "    fig = go.Figure() # 빈 공간 만들기\n",
        "\n",
        "    for year in list(years): # 주어진 연도별로 radar chart 생성\n",
        "        print(year)\n",
        "        categories = [] # 시각화 하고 싶은 수치의 이름\n",
        "        values = [] # 해당 수치의 값\n",
        "        for key in keys:\n",
        "            status = get_average_status_for_year_by_name(year, key)\n",
        "            categories.append(key)\n",
        "            values.append(status)\n",
        "            print(f\"{key}: {status}\")\n",
        "\n",
        "        fig.add_trace(go.Scatterpolar(\n",
        "            r=values,\n",
        "            theta=categories,\n",
        "            fill='toself',\n",
        "            name=year,\n",
        "            mode='lines',\n",
        "        ))\n",
        "    draw_fig(fig)\n",
        "visualize([2021, 2022], [\"경기 시간\", \"어시스트\", \"크로스 정확도\", \"드리블 성공률\", \"롱패스 성공률\", \"쓰루패스 성공률\"])"
      ],
      "metadata": {
        "colab": {
          "base_uri": "https://localhost:8080/",
          "height": 679
        },
        "id": "iRlkl7s-NR_u",
        "outputId": "12668d12-1b7e-414c-bfe4-5797151242d1"
      },
      "execution_count": 33,
      "outputs": [
        {
          "output_type": "stream",
          "name": "stdout",
          "text": [
            "2021\n",
            "경기 시간: 90.95348837209302\n",
            "어시스트: 0.0\n",
            "크로스 정확도: 0.2094130675526024\n",
            "드리블 성공률: 0.29069767441860467\n",
            "롱패스 성공률: 1.6970653377630118\n",
            "쓰루패스 성공률: 0.47286821705426363\n",
            "2022\n",
            "경기 시간: 79.51515151515152\n",
            "어시스트: 0.09090909090909091\n",
            "크로스 정확도: 0.2287878787878788\n",
            "드리블 성공률: 0.2919191919191919\n",
            "롱패스 성공률: 1.3491341991341992\n",
            "쓰루패스 성공률: 0.2878787878787879\n"
          ]
        },
        {
          "output_type": "display_data",
          "data": {
            "text/html": [
              "<html>\n",
              "<head><meta charset=\"utf-8\" /></head>\n",
              "<body>\n",
              "    <div>            <script src=\"https://cdnjs.cloudflare.com/ajax/libs/mathjax/2.7.5/MathJax.js?config=TeX-AMS-MML_SVG\"></script><script type=\"text/javascript\">if (window.MathJax) {MathJax.Hub.Config({SVG: {font: \"STIX-Web\"}});}</script>                <script type=\"text/javascript\">window.PlotlyConfig = {MathJaxConfig: 'local'};</script>\n",
              "        <script src=\"https://cdn.plot.ly/plotly-2.8.3.min.js\"></script>                <div id=\"402d7e9f-c939-4525-8277-e7f176914518\" class=\"plotly-graph-div\" style=\"height:400px; width:100%;\"></div>            <script type=\"text/javascript\">                                    window.PLOTLYENV=window.PLOTLYENV || {};                                    if (document.getElementById(\"402d7e9f-c939-4525-8277-e7f176914518\")) {                    Plotly.newPlot(                        \"402d7e9f-c939-4525-8277-e7f176914518\",                        [{\"fill\":\"toself\",\"mode\":\"lines\",\"name\":\"2021\",\"r\":[90.95348837209302,0.0,0.2094130675526024,0.29069767441860467,1.6970653377630118,0.47286821705426363],\"theta\":[\"\\uacbd\\uae30 \\uc2dc\\uac04\",\"\\uc5b4\\uc2dc\\uc2a4\\ud2b8\",\"\\ud06c\\ub85c\\uc2a4 \\uc815\\ud655\\ub3c4\",\"\\ub4dc\\ub9ac\\ube14 \\uc131\\uacf5\\ub960\",\"\\ub871\\ud328\\uc2a4 \\uc131\\uacf5\\ub960\",\"\\uc4f0\\ub8e8\\ud328\\uc2a4 \\uc131\\uacf5\\ub960\"],\"type\":\"scatterpolar\"},{\"fill\":\"toself\",\"mode\":\"lines\",\"name\":\"2022\",\"r\":[79.51515151515152,0.09090909090909091,0.2287878787878788,0.2919191919191919,1.3491341991341992,0.2878787878787879],\"theta\":[\"\\uacbd\\uae30 \\uc2dc\\uac04\",\"\\uc5b4\\uc2dc\\uc2a4\\ud2b8\",\"\\ud06c\\ub85c\\uc2a4 \\uc815\\ud655\\ub3c4\",\"\\ub4dc\\ub9ac\\ube14 \\uc131\\uacf5\\ub960\",\"\\ub871\\ud328\\uc2a4 \\uc131\\uacf5\\ub960\",\"\\uc4f0\\ub8e8\\ud328\\uc2a4 \\uc131\\uacf5\\ub960\"],\"type\":\"scatterpolar\"}],                        {\"template\":{\"data\":{\"bar\":[{\"error_x\":{\"color\":\"#2a3f5f\"},\"error_y\":{\"color\":\"#2a3f5f\"},\"marker\":{\"line\":{\"color\":\"#E5ECF6\",\"width\":0.5},\"pattern\":{\"fillmode\":\"overlay\",\"size\":10,\"solidity\":0.2}},\"type\":\"bar\"}],\"barpolar\":[{\"marker\":{\"line\":{\"color\":\"#E5ECF6\",\"width\":0.5},\"pattern\":{\"fillmode\":\"overlay\",\"size\":10,\"solidity\":0.2}},\"type\":\"barpolar\"}],\"carpet\":[{\"aaxis\":{\"endlinecolor\":\"#2a3f5f\",\"gridcolor\":\"white\",\"linecolor\":\"white\",\"minorgridcolor\":\"white\",\"startlinecolor\":\"#2a3f5f\"},\"baxis\":{\"endlinecolor\":\"#2a3f5f\",\"gridcolor\":\"white\",\"linecolor\":\"white\",\"minorgridcolor\":\"white\",\"startlinecolor\":\"#2a3f5f\"},\"type\":\"carpet\"}],\"choropleth\":[{\"colorbar\":{\"outlinewidth\":0,\"ticks\":\"\"},\"type\":\"choropleth\"}],\"contour\":[{\"colorbar\":{\"outlinewidth\":0,\"ticks\":\"\"},\"colorscale\":[[0.0,\"#0d0887\"],[0.1111111111111111,\"#46039f\"],[0.2222222222222222,\"#7201a8\"],[0.3333333333333333,\"#9c179e\"],[0.4444444444444444,\"#bd3786\"],[0.5555555555555556,\"#d8576b\"],[0.6666666666666666,\"#ed7953\"],[0.7777777777777778,\"#fb9f3a\"],[0.8888888888888888,\"#fdca26\"],[1.0,\"#f0f921\"]],\"type\":\"contour\"}],\"contourcarpet\":[{\"colorbar\":{\"outlinewidth\":0,\"ticks\":\"\"},\"type\":\"contourcarpet\"}],\"heatmap\":[{\"colorbar\":{\"outlinewidth\":0,\"ticks\":\"\"},\"colorscale\":[[0.0,\"#0d0887\"],[0.1111111111111111,\"#46039f\"],[0.2222222222222222,\"#7201a8\"],[0.3333333333333333,\"#9c179e\"],[0.4444444444444444,\"#bd3786\"],[0.5555555555555556,\"#d8576b\"],[0.6666666666666666,\"#ed7953\"],[0.7777777777777778,\"#fb9f3a\"],[0.8888888888888888,\"#fdca26\"],[1.0,\"#f0f921\"]],\"type\":\"heatmap\"}],\"heatmapgl\":[{\"colorbar\":{\"outlinewidth\":0,\"ticks\":\"\"},\"colorscale\":[[0.0,\"#0d0887\"],[0.1111111111111111,\"#46039f\"],[0.2222222222222222,\"#7201a8\"],[0.3333333333333333,\"#9c179e\"],[0.4444444444444444,\"#bd3786\"],[0.5555555555555556,\"#d8576b\"],[0.6666666666666666,\"#ed7953\"],[0.7777777777777778,\"#fb9f3a\"],[0.8888888888888888,\"#fdca26\"],[1.0,\"#f0f921\"]],\"type\":\"heatmapgl\"}],\"histogram\":[{\"marker\":{\"pattern\":{\"fillmode\":\"overlay\",\"size\":10,\"solidity\":0.2}},\"type\":\"histogram\"}],\"histogram2d\":[{\"colorbar\":{\"outlinewidth\":0,\"ticks\":\"\"},\"colorscale\":[[0.0,\"#0d0887\"],[0.1111111111111111,\"#46039f\"],[0.2222222222222222,\"#7201a8\"],[0.3333333333333333,\"#9c179e\"],[0.4444444444444444,\"#bd3786\"],[0.5555555555555556,\"#d8576b\"],[0.6666666666666666,\"#ed7953\"],[0.7777777777777778,\"#fb9f3a\"],[0.8888888888888888,\"#fdca26\"],[1.0,\"#f0f921\"]],\"type\":\"histogram2d\"}],\"histogram2dcontour\":[{\"colorbar\":{\"outlinewidth\":0,\"ticks\":\"\"},\"colorscale\":[[0.0,\"#0d0887\"],[0.1111111111111111,\"#46039f\"],[0.2222222222222222,\"#7201a8\"],[0.3333333333333333,\"#9c179e\"],[0.4444444444444444,\"#bd3786\"],[0.5555555555555556,\"#d8576b\"],[0.6666666666666666,\"#ed7953\"],[0.7777777777777778,\"#fb9f3a\"],[0.8888888888888888,\"#fdca26\"],[1.0,\"#f0f921\"]],\"type\":\"histogram2dcontour\"}],\"mesh3d\":[{\"colorbar\":{\"outlinewidth\":0,\"ticks\":\"\"},\"type\":\"mesh3d\"}],\"parcoords\":[{\"line\":{\"colorbar\":{\"outlinewidth\":0,\"ticks\":\"\"}},\"type\":\"parcoords\"}],\"pie\":[{\"automargin\":true,\"type\":\"pie\"}],\"scatter\":[{\"marker\":{\"colorbar\":{\"outlinewidth\":0,\"ticks\":\"\"}},\"type\":\"scatter\"}],\"scatter3d\":[{\"line\":{\"colorbar\":{\"outlinewidth\":0,\"ticks\":\"\"}},\"marker\":{\"colorbar\":{\"outlinewidth\":0,\"ticks\":\"\"}},\"type\":\"scatter3d\"}],\"scattercarpet\":[{\"marker\":{\"colorbar\":{\"outlinewidth\":0,\"ticks\":\"\"}},\"type\":\"scattercarpet\"}],\"scattergeo\":[{\"marker\":{\"colorbar\":{\"outlinewidth\":0,\"ticks\":\"\"}},\"type\":\"scattergeo\"}],\"scattergl\":[{\"marker\":{\"colorbar\":{\"outlinewidth\":0,\"ticks\":\"\"}},\"type\":\"scattergl\"}],\"scattermapbox\":[{\"marker\":{\"colorbar\":{\"outlinewidth\":0,\"ticks\":\"\"}},\"type\":\"scattermapbox\"}],\"scatterpolar\":[{\"marker\":{\"colorbar\":{\"outlinewidth\":0,\"ticks\":\"\"}},\"type\":\"scatterpolar\"}],\"scatterpolargl\":[{\"marker\":{\"colorbar\":{\"outlinewidth\":0,\"ticks\":\"\"}},\"type\":\"scatterpolargl\"}],\"scatterternary\":[{\"marker\":{\"colorbar\":{\"outlinewidth\":0,\"ticks\":\"\"}},\"type\":\"scatterternary\"}],\"surface\":[{\"colorbar\":{\"outlinewidth\":0,\"ticks\":\"\"},\"colorscale\":[[0.0,\"#0d0887\"],[0.1111111111111111,\"#46039f\"],[0.2222222222222222,\"#7201a8\"],[0.3333333333333333,\"#9c179e\"],[0.4444444444444444,\"#bd3786\"],[0.5555555555555556,\"#d8576b\"],[0.6666666666666666,\"#ed7953\"],[0.7777777777777778,\"#fb9f3a\"],[0.8888888888888888,\"#fdca26\"],[1.0,\"#f0f921\"]],\"type\":\"surface\"}],\"table\":[{\"cells\":{\"fill\":{\"color\":\"#EBF0F8\"},\"line\":{\"color\":\"white\"}},\"header\":{\"fill\":{\"color\":\"#C8D4E3\"},\"line\":{\"color\":\"white\"}},\"type\":\"table\"}]},\"layout\":{\"annotationdefaults\":{\"arrowcolor\":\"#2a3f5f\",\"arrowhead\":0,\"arrowwidth\":1},\"autotypenumbers\":\"strict\",\"coloraxis\":{\"colorbar\":{\"outlinewidth\":0,\"ticks\":\"\"}},\"colorscale\":{\"diverging\":[[0,\"#8e0152\"],[0.1,\"#c51b7d\"],[0.2,\"#de77ae\"],[0.3,\"#f1b6da\"],[0.4,\"#fde0ef\"],[0.5,\"#f7f7f7\"],[0.6,\"#e6f5d0\"],[0.7,\"#b8e186\"],[0.8,\"#7fbc41\"],[0.9,\"#4d9221\"],[1,\"#276419\"]],\"sequential\":[[0.0,\"#0d0887\"],[0.1111111111111111,\"#46039f\"],[0.2222222222222222,\"#7201a8\"],[0.3333333333333333,\"#9c179e\"],[0.4444444444444444,\"#bd3786\"],[0.5555555555555556,\"#d8576b\"],[0.6666666666666666,\"#ed7953\"],[0.7777777777777778,\"#fb9f3a\"],[0.8888888888888888,\"#fdca26\"],[1.0,\"#f0f921\"]],\"sequentialminus\":[[0.0,\"#0d0887\"],[0.1111111111111111,\"#46039f\"],[0.2222222222222222,\"#7201a8\"],[0.3333333333333333,\"#9c179e\"],[0.4444444444444444,\"#bd3786\"],[0.5555555555555556,\"#d8576b\"],[0.6666666666666666,\"#ed7953\"],[0.7777777777777778,\"#fb9f3a\"],[0.8888888888888888,\"#fdca26\"],[1.0,\"#f0f921\"]]},\"colorway\":[\"#636efa\",\"#EF553B\",\"#00cc96\",\"#ab63fa\",\"#FFA15A\",\"#19d3f3\",\"#FF6692\",\"#B6E880\",\"#FF97FF\",\"#FECB52\"],\"font\":{\"color\":\"#2a3f5f\"},\"geo\":{\"bgcolor\":\"white\",\"lakecolor\":\"white\",\"landcolor\":\"#E5ECF6\",\"showlakes\":true,\"showland\":true,\"subunitcolor\":\"white\"},\"hoverlabel\":{\"align\":\"left\"},\"hovermode\":\"closest\",\"mapbox\":{\"style\":\"light\"},\"paper_bgcolor\":\"white\",\"plot_bgcolor\":\"#E5ECF6\",\"polar\":{\"angularaxis\":{\"gridcolor\":\"white\",\"linecolor\":\"white\",\"ticks\":\"\"},\"bgcolor\":\"#E5ECF6\",\"radialaxis\":{\"gridcolor\":\"white\",\"linecolor\":\"white\",\"ticks\":\"\"}},\"scene\":{\"xaxis\":{\"backgroundcolor\":\"#E5ECF6\",\"gridcolor\":\"white\",\"gridwidth\":2,\"linecolor\":\"white\",\"showbackground\":true,\"ticks\":\"\",\"zerolinecolor\":\"white\"},\"yaxis\":{\"backgroundcolor\":\"#E5ECF6\",\"gridcolor\":\"white\",\"gridwidth\":2,\"linecolor\":\"white\",\"showbackground\":true,\"ticks\":\"\",\"zerolinecolor\":\"white\"},\"zaxis\":{\"backgroundcolor\":\"#E5ECF6\",\"gridcolor\":\"white\",\"gridwidth\":2,\"linecolor\":\"white\",\"showbackground\":true,\"ticks\":\"\",\"zerolinecolor\":\"white\"}},\"shapedefaults\":{\"line\":{\"color\":\"#2a3f5f\"}},\"ternary\":{\"aaxis\":{\"gridcolor\":\"white\",\"linecolor\":\"white\",\"ticks\":\"\"},\"baxis\":{\"gridcolor\":\"white\",\"linecolor\":\"white\",\"ticks\":\"\"},\"bgcolor\":\"#E5ECF6\",\"caxis\":{\"gridcolor\":\"white\",\"linecolor\":\"white\",\"ticks\":\"\"}},\"title\":{\"x\":0.05},\"xaxis\":{\"automargin\":true,\"gridcolor\":\"white\",\"linecolor\":\"white\",\"ticks\":\"\",\"title\":{\"standoff\":15},\"zerolinecolor\":\"white\",\"zerolinewidth\":2},\"yaxis\":{\"automargin\":true,\"gridcolor\":\"white\",\"linecolor\":\"white\",\"ticks\":\"\",\"title\":{\"standoff\":15},\"zerolinecolor\":\"white\",\"zerolinewidth\":2}}},\"margin\":{\"l\":0,\"r\":0,\"t\":20,\"b\":20},\"polar\":{\"radialaxis\":{\"visible\":true,\"range\":[-0.2,1.2],\"color\":\"dimgray\",\"showticklabels\":false,\"showline\":false,\"ticklen\":0},\"angularaxis\":{\"tickfont\":{\"color\":\"#888\",\"size\":13},\"color\":\"#eee\",\"ticklen\":0},\"bgcolor\":\"#eeeeee\",\"gridshape\":\"linear\"},\"height\":400,\"showlegend\":true},                        {\"responsive\": true}                    ).then(function(){\n",
              "                            \n",
              "var gd = document.getElementById('402d7e9f-c939-4525-8277-e7f176914518');\n",
              "var x = new MutationObserver(function (mutations, observer) {{\n",
              "        var display = window.getComputedStyle(gd).display;\n",
              "        if (!display || display === 'none') {{\n",
              "            console.log([gd, 'removed!']);\n",
              "            Plotly.purge(gd);\n",
              "            observer.disconnect();\n",
              "        }}\n",
              "}});\n",
              "\n",
              "// Listen for the removal of the full notebook cells\n",
              "var notebookContainer = gd.closest('#notebook-container');\n",
              "if (notebookContainer) {{\n",
              "    x.observe(notebookContainer, {childList: true});\n",
              "}}\n",
              "\n",
              "// Listen for the clearing of the current output cell\n",
              "var outputEl = gd.closest('.output');\n",
              "if (outputEl) {{\n",
              "    x.observe(outputEl, {childList: true});\n",
              "}}\n",
              "\n",
              "                        })                };                            </script>        </div>\n",
              "</body>\n",
              "</html>"
            ]
          },
          "metadata": {}
        }
      ]
    },
    {
      "cell_type": "markdown",
      "source": [
        "0~1 사이에 값이 없는 경우 (경기 시간, 롱패스 성공률)의 경우 극단적으로 튀어나가는 값이 나오는 것을 볼 수 있습니다. 이를 해소해주기 위해서 \"Standardization (표준화)\"를 통해 값을 정제해봅시다.\n"
      ],
      "metadata": {
        "id": "QJUg3vINNbs_"
      }
    },
    {
      "cell_type": "code",
      "source": [
        "def standardize(values):\n",
        "    min_value = min(values)\n",
        "    max_value = max(values)\n",
        "\n",
        "    new_values = []\n",
        "    for value in values:\n",
        "        new_value = (value - min_value) / (max_value - min_value)\n",
        "        new_values.append(new_value)\n",
        "    return new_values"
      ],
      "metadata": {
        "id": "eLghVeTBNqUs"
      },
      "execution_count": 34,
      "outputs": []
    },
    {
      "cell_type": "markdown",
      "source": [
        "위 함수를 이용해 시각화 함수를 수정해줍시다."
      ],
      "metadata": {
        "id": "88YbrBWGOAXe"
      }
    },
    {
      "cell_type": "code",
      "source": [
        "# 뒤의 시각화 부분을 구현하기 전에, 표준화가 잘 되는지부터 확인해봅시다.\n",
        "# 먼저 모든 년도를 가져옵니다.\n",
        "date_list = df[\"Date\"].tolist()\n",
        "all_years = []\n",
        "for date in date_list:\n",
        "    split_data = date.split('-') # 연, 월, 일로 분리됨\n",
        "    all_years.append(int(split_data[0]))\n",
        "all_years = list(set(all_years))\n",
        "\n",
        "print(all_years)\n",
        "\n",
        "def visualize(years, keys):\n",
        "    fig = go.Figure() # 빈 공간 만들기\n",
        "\n",
        "    # 표준화된 값을 담을 공간을 만들어줍니다.\n",
        "\n",
        "    stand_values = {\n",
        "        key: {} for key in keys # 안의 값도 dictionary로, 각 년도의 값을 지정해서 저장할 수 있게 해줍시다.\n",
        "    }\n",
        "\n",
        "    # 먼저 각 key 별로 연도별 값을 모아서 표준화를 해줍시다.\n",
        "    for key in keys:\n",
        "        values = []\n",
        "        for year in all_years:\n",
        "            status = get_average_status_for_year_by_name(year, key)\n",
        "            values.append(status)\n",
        "        values = standardize(values)\n",
        "        for i in range(len(all_years)):\n",
        "            stand_values[key][all_years[i]] = values[i]\n",
        "\n",
        "    # 표준화가 잘 됐는지 확인해봅시다.\n",
        "    for year in years:\n",
        "        print(year)\n",
        "        for key in keys:\n",
        "            print(f\"{key}: {stand_values[key][year]}\")\n",
        "        \n",
        "visualize([2020, 2021, 2022], [\"경기 시간\", \"어시스트\", \"크로스 정확도\", \"드리블 성공률\", \"롱패스 성공률\", \"쓰루패스 성공률\"])"
      ],
      "metadata": {
        "colab": {
          "base_uri": "https://localhost:8080/"
        },
        "id": "KYPuWLcFOCrP",
        "outputId": "7ab1d0ef-5712-46c5-a205-0996e4f6addc"
      },
      "execution_count": 35,
      "outputs": [
        {
          "output_type": "stream",
          "name": "stdout",
          "text": [
            "[2016, 2017, 2018, 2019, 2020, 2021, 2022]\n",
            "2020\n",
            "경기 시간: 0.9752728457403482\n",
            "어시스트: 0.8571428571428571\n",
            "크로스 정확도: 0.0\n",
            "드리블 성공률: 0.6911593276426127\n",
            "롱패스 성공률: 0.7604320667012958\n",
            "쓰루패스 성공률: 1.0\n",
            "2021\n",
            "경기 시간: 0.6886478746254406\n",
            "어시스트: 0.0\n",
            "크로스 정확도: 0.17096007587158937\n",
            "드리블 성공률: 0.0\n",
            "롱패스 성공률: 0.38536984707678457\n",
            "쓰루패스 성공률: 0.29970184853905785\n",
            "2022\n",
            "경기 시간: 0.0\n",
            "어시스트: 0.8181818181818182\n",
            "크로스 정확도: 0.23246160232461602\n",
            "드리블 성공률: 0.004977386393548442\n",
            "롱패스 성공률: 0.0\n",
            "쓰루패스 성공률: 0.14032634032634034\n"
          ]
        }
      ]
    },
    {
      "cell_type": "code",
      "source": [
        "# 이제 시각화 부분을 넣어줍시다\n",
        "def visualize(years, keys):\n",
        "    fig = go.Figure() # 빈 공간 만들기\n",
        "\n",
        "    # 표준화된 값을 담을 공간을 만들어줍니다.\n",
        "\n",
        "    stand_values = {\n",
        "        key: {} for key in keys # 안의 값도 dictionary로, 각 년도의 값을 지정해서 저장할 수 있게 해줍시다.\n",
        "    }\n",
        "\n",
        "    # 먼저 각 key 별로 연도별 값을 모아서 표준화를 해줍시다.\n",
        "    for key in keys:\n",
        "        values = []\n",
        "        for year in all_years:\n",
        "            status = get_average_status_for_year_by_name(year, key)\n",
        "            values.append(status)\n",
        "        values = standardize(values)\n",
        "        for i in range(len(all_years)):\n",
        "            stand_values[key][all_years[i]] = values[i]\n",
        "\n",
        "    for year in years: # 주어진 연도별로 radar chart 생성\n",
        "        categories = [] # 시각화 하고 싶은 수치의 이름\n",
        "        values = [] # 해당 수치의 값\n",
        "        for key in keys:\n",
        "            value = stand_values[key][year]\n",
        "            categories.append(key)\n",
        "            values.append(value)\n",
        "\n",
        "        # 빈 공간 메우기\n",
        "        values.append(values[0])\n",
        "        categories.append(categories[0])\n",
        "\n",
        "        fig.add_trace(go.Scatterpolar(\n",
        "            r=values,\n",
        "            theta=categories,\n",
        "            fill='toself',\n",
        "            name=year,\n",
        "            mode='lines',\n",
        "        ))\n",
        "    draw_fig(fig)\n",
        "\n",
        "visualize([2016, 2018, 2020, 2022], [\"경기 시간\", \"어시스트\", \"Shot 어시스트\", \"크로스 정확도\", \"드리블 성공률\", \"Offensive Duels 승률\"])\n",
        "visualize([2020, 2021, 2022], [\"경기 시간\", \"어시스트\", \"크로스 정확도\", \"드리블 성공률\", \"롱패스 성공률\", \"쓰루패스 성공률\"])"
      ],
      "metadata": {
        "colab": {
          "base_uri": "https://localhost:8080/",
          "height": 817
        },
        "id": "e6SwBZxfPO-D",
        "outputId": "40c81cab-3249-4806-98bd-573c8d65bc53"
      },
      "execution_count": 36,
      "outputs": [
        {
          "output_type": "display_data",
          "data": {
            "text/html": [
              "<html>\n",
              "<head><meta charset=\"utf-8\" /></head>\n",
              "<body>\n",
              "    <div>            <script src=\"https://cdnjs.cloudflare.com/ajax/libs/mathjax/2.7.5/MathJax.js?config=TeX-AMS-MML_SVG\"></script><script type=\"text/javascript\">if (window.MathJax) {MathJax.Hub.Config({SVG: {font: \"STIX-Web\"}});}</script>                <script type=\"text/javascript\">window.PlotlyConfig = {MathJaxConfig: 'local'};</script>\n",
              "        <script src=\"https://cdn.plot.ly/plotly-2.8.3.min.js\"></script>                <div id=\"ae6bfe38-b37b-4b72-b73c-8335b8fdee9e\" class=\"plotly-graph-div\" style=\"height:400px; width:100%;\"></div>            <script type=\"text/javascript\">                                    window.PLOTLYENV=window.PLOTLYENV || {};                                    if (document.getElementById(\"ae6bfe38-b37b-4b72-b73c-8335b8fdee9e\")) {                    Plotly.newPlot(                        \"ae6bfe38-b37b-4b72-b73c-8335b8fdee9e\",                        [{\"fill\":\"toself\",\"mode\":\"lines\",\"name\":\"2016\",\"r\":[0.5911060433295322,0.0,1.0,0.8949771689497719,0.40010529086601737,0.0,0.5911060433295322],\"theta\":[\"\\uacbd\\uae30 \\uc2dc\\uac04\",\"\\uc5b4\\uc2dc\\uc2a4\\ud2b8\",\"Shot \\uc5b4\\uc2dc\\uc2a4\\ud2b8\",\"\\ud06c\\ub85c\\uc2a4 \\uc815\\ud655\\ub3c4\",\"\\ub4dc\\ub9ac\\ube14 \\uc131\\uacf5\\ub960\",\"Offensive Duels \\uc2b9\\ub960\",\"\\uacbd\\uae30 \\uc2dc\\uac04\"],\"type\":\"scatterpolar\"},{\"fill\":\"toself\",\"mode\":\"lines\",\"name\":\"2018\",\"r\":[0.8720638540478906,1.0,0.440677966101695,0.8288458510470793,0.3812406773712382,0.778475957186218,0.8720638540478906],\"theta\":[\"\\uacbd\\uae30 \\uc2dc\\uac04\",\"\\uc5b4\\uc2dc\\uc2a4\\ud2b8\",\"Shot \\uc5b4\\uc2dc\\uc2a4\\ud2b8\",\"\\ud06c\\ub85c\\uc2a4 \\uc815\\ud655\\ub3c4\",\"\\ub4dc\\ub9ac\\ube14 \\uc131\\uacf5\\ub960\",\"Offensive Duels \\uc2b9\\ub960\",\"\\uacbd\\uae30 \\uc2dc\\uac04\"],\"type\":\"scatterpolar\"},{\"fill\":\"toself\",\"mode\":\"lines\",\"name\":\"2020\",\"r\":[0.9752728457403482,0.8571428571428571,0.17433414043583523,0.0,0.6911593276426127,0.8332635999178409,0.9752728457403482],\"theta\":[\"\\uacbd\\uae30 \\uc2dc\\uac04\",\"\\uc5b4\\uc2dc\\uc2a4\\ud2b8\",\"Shot \\uc5b4\\uc2dc\\uc2a4\\ud2b8\",\"\\ud06c\\ub85c\\uc2a4 \\uc815\\ud655\\ub3c4\",\"\\ub4dc\\ub9ac\\ube14 \\uc131\\uacf5\\ub960\",\"Offensive Duels \\uc2b9\\ub960\",\"\\uacbd\\uae30 \\uc2dc\\uac04\"],\"type\":\"scatterpolar\"},{\"fill\":\"toself\",\"mode\":\"lines\",\"name\":\"2022\",\"r\":[0.0,0.8181818181818182,0.0,0.23246160232461602,0.004977386393548442,1.0,0.0],\"theta\":[\"\\uacbd\\uae30 \\uc2dc\\uac04\",\"\\uc5b4\\uc2dc\\uc2a4\\ud2b8\",\"Shot \\uc5b4\\uc2dc\\uc2a4\\ud2b8\",\"\\ud06c\\ub85c\\uc2a4 \\uc815\\ud655\\ub3c4\",\"\\ub4dc\\ub9ac\\ube14 \\uc131\\uacf5\\ub960\",\"Offensive Duels \\uc2b9\\ub960\",\"\\uacbd\\uae30 \\uc2dc\\uac04\"],\"type\":\"scatterpolar\"}],                        {\"template\":{\"data\":{\"bar\":[{\"error_x\":{\"color\":\"#2a3f5f\"},\"error_y\":{\"color\":\"#2a3f5f\"},\"marker\":{\"line\":{\"color\":\"#E5ECF6\",\"width\":0.5},\"pattern\":{\"fillmode\":\"overlay\",\"size\":10,\"solidity\":0.2}},\"type\":\"bar\"}],\"barpolar\":[{\"marker\":{\"line\":{\"color\":\"#E5ECF6\",\"width\":0.5},\"pattern\":{\"fillmode\":\"overlay\",\"size\":10,\"solidity\":0.2}},\"type\":\"barpolar\"}],\"carpet\":[{\"aaxis\":{\"endlinecolor\":\"#2a3f5f\",\"gridcolor\":\"white\",\"linecolor\":\"white\",\"minorgridcolor\":\"white\",\"startlinecolor\":\"#2a3f5f\"},\"baxis\":{\"endlinecolor\":\"#2a3f5f\",\"gridcolor\":\"white\",\"linecolor\":\"white\",\"minorgridcolor\":\"white\",\"startlinecolor\":\"#2a3f5f\"},\"type\":\"carpet\"}],\"choropleth\":[{\"colorbar\":{\"outlinewidth\":0,\"ticks\":\"\"},\"type\":\"choropleth\"}],\"contour\":[{\"colorbar\":{\"outlinewidth\":0,\"ticks\":\"\"},\"colorscale\":[[0.0,\"#0d0887\"],[0.1111111111111111,\"#46039f\"],[0.2222222222222222,\"#7201a8\"],[0.3333333333333333,\"#9c179e\"],[0.4444444444444444,\"#bd3786\"],[0.5555555555555556,\"#d8576b\"],[0.6666666666666666,\"#ed7953\"],[0.7777777777777778,\"#fb9f3a\"],[0.8888888888888888,\"#fdca26\"],[1.0,\"#f0f921\"]],\"type\":\"contour\"}],\"contourcarpet\":[{\"colorbar\":{\"outlinewidth\":0,\"ticks\":\"\"},\"type\":\"contourcarpet\"}],\"heatmap\":[{\"colorbar\":{\"outlinewidth\":0,\"ticks\":\"\"},\"colorscale\":[[0.0,\"#0d0887\"],[0.1111111111111111,\"#46039f\"],[0.2222222222222222,\"#7201a8\"],[0.3333333333333333,\"#9c179e\"],[0.4444444444444444,\"#bd3786\"],[0.5555555555555556,\"#d8576b\"],[0.6666666666666666,\"#ed7953\"],[0.7777777777777778,\"#fb9f3a\"],[0.8888888888888888,\"#fdca26\"],[1.0,\"#f0f921\"]],\"type\":\"heatmap\"}],\"heatmapgl\":[{\"colorbar\":{\"outlinewidth\":0,\"ticks\":\"\"},\"colorscale\":[[0.0,\"#0d0887\"],[0.1111111111111111,\"#46039f\"],[0.2222222222222222,\"#7201a8\"],[0.3333333333333333,\"#9c179e\"],[0.4444444444444444,\"#bd3786\"],[0.5555555555555556,\"#d8576b\"],[0.6666666666666666,\"#ed7953\"],[0.7777777777777778,\"#fb9f3a\"],[0.8888888888888888,\"#fdca26\"],[1.0,\"#f0f921\"]],\"type\":\"heatmapgl\"}],\"histogram\":[{\"marker\":{\"pattern\":{\"fillmode\":\"overlay\",\"size\":10,\"solidity\":0.2}},\"type\":\"histogram\"}],\"histogram2d\":[{\"colorbar\":{\"outlinewidth\":0,\"ticks\":\"\"},\"colorscale\":[[0.0,\"#0d0887\"],[0.1111111111111111,\"#46039f\"],[0.2222222222222222,\"#7201a8\"],[0.3333333333333333,\"#9c179e\"],[0.4444444444444444,\"#bd3786\"],[0.5555555555555556,\"#d8576b\"],[0.6666666666666666,\"#ed7953\"],[0.7777777777777778,\"#fb9f3a\"],[0.8888888888888888,\"#fdca26\"],[1.0,\"#f0f921\"]],\"type\":\"histogram2d\"}],\"histogram2dcontour\":[{\"colorbar\":{\"outlinewidth\":0,\"ticks\":\"\"},\"colorscale\":[[0.0,\"#0d0887\"],[0.1111111111111111,\"#46039f\"],[0.2222222222222222,\"#7201a8\"],[0.3333333333333333,\"#9c179e\"],[0.4444444444444444,\"#bd3786\"],[0.5555555555555556,\"#d8576b\"],[0.6666666666666666,\"#ed7953\"],[0.7777777777777778,\"#fb9f3a\"],[0.8888888888888888,\"#fdca26\"],[1.0,\"#f0f921\"]],\"type\":\"histogram2dcontour\"}],\"mesh3d\":[{\"colorbar\":{\"outlinewidth\":0,\"ticks\":\"\"},\"type\":\"mesh3d\"}],\"parcoords\":[{\"line\":{\"colorbar\":{\"outlinewidth\":0,\"ticks\":\"\"}},\"type\":\"parcoords\"}],\"pie\":[{\"automargin\":true,\"type\":\"pie\"}],\"scatter\":[{\"marker\":{\"colorbar\":{\"outlinewidth\":0,\"ticks\":\"\"}},\"type\":\"scatter\"}],\"scatter3d\":[{\"line\":{\"colorbar\":{\"outlinewidth\":0,\"ticks\":\"\"}},\"marker\":{\"colorbar\":{\"outlinewidth\":0,\"ticks\":\"\"}},\"type\":\"scatter3d\"}],\"scattercarpet\":[{\"marker\":{\"colorbar\":{\"outlinewidth\":0,\"ticks\":\"\"}},\"type\":\"scattercarpet\"}],\"scattergeo\":[{\"marker\":{\"colorbar\":{\"outlinewidth\":0,\"ticks\":\"\"}},\"type\":\"scattergeo\"}],\"scattergl\":[{\"marker\":{\"colorbar\":{\"outlinewidth\":0,\"ticks\":\"\"}},\"type\":\"scattergl\"}],\"scattermapbox\":[{\"marker\":{\"colorbar\":{\"outlinewidth\":0,\"ticks\":\"\"}},\"type\":\"scattermapbox\"}],\"scatterpolar\":[{\"marker\":{\"colorbar\":{\"outlinewidth\":0,\"ticks\":\"\"}},\"type\":\"scatterpolar\"}],\"scatterpolargl\":[{\"marker\":{\"colorbar\":{\"outlinewidth\":0,\"ticks\":\"\"}},\"type\":\"scatterpolargl\"}],\"scatterternary\":[{\"marker\":{\"colorbar\":{\"outlinewidth\":0,\"ticks\":\"\"}},\"type\":\"scatterternary\"}],\"surface\":[{\"colorbar\":{\"outlinewidth\":0,\"ticks\":\"\"},\"colorscale\":[[0.0,\"#0d0887\"],[0.1111111111111111,\"#46039f\"],[0.2222222222222222,\"#7201a8\"],[0.3333333333333333,\"#9c179e\"],[0.4444444444444444,\"#bd3786\"],[0.5555555555555556,\"#d8576b\"],[0.6666666666666666,\"#ed7953\"],[0.7777777777777778,\"#fb9f3a\"],[0.8888888888888888,\"#fdca26\"],[1.0,\"#f0f921\"]],\"type\":\"surface\"}],\"table\":[{\"cells\":{\"fill\":{\"color\":\"#EBF0F8\"},\"line\":{\"color\":\"white\"}},\"header\":{\"fill\":{\"color\":\"#C8D4E3\"},\"line\":{\"color\":\"white\"}},\"type\":\"table\"}]},\"layout\":{\"annotationdefaults\":{\"arrowcolor\":\"#2a3f5f\",\"arrowhead\":0,\"arrowwidth\":1},\"autotypenumbers\":\"strict\",\"coloraxis\":{\"colorbar\":{\"outlinewidth\":0,\"ticks\":\"\"}},\"colorscale\":{\"diverging\":[[0,\"#8e0152\"],[0.1,\"#c51b7d\"],[0.2,\"#de77ae\"],[0.3,\"#f1b6da\"],[0.4,\"#fde0ef\"],[0.5,\"#f7f7f7\"],[0.6,\"#e6f5d0\"],[0.7,\"#b8e186\"],[0.8,\"#7fbc41\"],[0.9,\"#4d9221\"],[1,\"#276419\"]],\"sequential\":[[0.0,\"#0d0887\"],[0.1111111111111111,\"#46039f\"],[0.2222222222222222,\"#7201a8\"],[0.3333333333333333,\"#9c179e\"],[0.4444444444444444,\"#bd3786\"],[0.5555555555555556,\"#d8576b\"],[0.6666666666666666,\"#ed7953\"],[0.7777777777777778,\"#fb9f3a\"],[0.8888888888888888,\"#fdca26\"],[1.0,\"#f0f921\"]],\"sequentialminus\":[[0.0,\"#0d0887\"],[0.1111111111111111,\"#46039f\"],[0.2222222222222222,\"#7201a8\"],[0.3333333333333333,\"#9c179e\"],[0.4444444444444444,\"#bd3786\"],[0.5555555555555556,\"#d8576b\"],[0.6666666666666666,\"#ed7953\"],[0.7777777777777778,\"#fb9f3a\"],[0.8888888888888888,\"#fdca26\"],[1.0,\"#f0f921\"]]},\"colorway\":[\"#636efa\",\"#EF553B\",\"#00cc96\",\"#ab63fa\",\"#FFA15A\",\"#19d3f3\",\"#FF6692\",\"#B6E880\",\"#FF97FF\",\"#FECB52\"],\"font\":{\"color\":\"#2a3f5f\"},\"geo\":{\"bgcolor\":\"white\",\"lakecolor\":\"white\",\"landcolor\":\"#E5ECF6\",\"showlakes\":true,\"showland\":true,\"subunitcolor\":\"white\"},\"hoverlabel\":{\"align\":\"left\"},\"hovermode\":\"closest\",\"mapbox\":{\"style\":\"light\"},\"paper_bgcolor\":\"white\",\"plot_bgcolor\":\"#E5ECF6\",\"polar\":{\"angularaxis\":{\"gridcolor\":\"white\",\"linecolor\":\"white\",\"ticks\":\"\"},\"bgcolor\":\"#E5ECF6\",\"radialaxis\":{\"gridcolor\":\"white\",\"linecolor\":\"white\",\"ticks\":\"\"}},\"scene\":{\"xaxis\":{\"backgroundcolor\":\"#E5ECF6\",\"gridcolor\":\"white\",\"gridwidth\":2,\"linecolor\":\"white\",\"showbackground\":true,\"ticks\":\"\",\"zerolinecolor\":\"white\"},\"yaxis\":{\"backgroundcolor\":\"#E5ECF6\",\"gridcolor\":\"white\",\"gridwidth\":2,\"linecolor\":\"white\",\"showbackground\":true,\"ticks\":\"\",\"zerolinecolor\":\"white\"},\"zaxis\":{\"backgroundcolor\":\"#E5ECF6\",\"gridcolor\":\"white\",\"gridwidth\":2,\"linecolor\":\"white\",\"showbackground\":true,\"ticks\":\"\",\"zerolinecolor\":\"white\"}},\"shapedefaults\":{\"line\":{\"color\":\"#2a3f5f\"}},\"ternary\":{\"aaxis\":{\"gridcolor\":\"white\",\"linecolor\":\"white\",\"ticks\":\"\"},\"baxis\":{\"gridcolor\":\"white\",\"linecolor\":\"white\",\"ticks\":\"\"},\"bgcolor\":\"#E5ECF6\",\"caxis\":{\"gridcolor\":\"white\",\"linecolor\":\"white\",\"ticks\":\"\"}},\"title\":{\"x\":0.05},\"xaxis\":{\"automargin\":true,\"gridcolor\":\"white\",\"linecolor\":\"white\",\"ticks\":\"\",\"title\":{\"standoff\":15},\"zerolinecolor\":\"white\",\"zerolinewidth\":2},\"yaxis\":{\"automargin\":true,\"gridcolor\":\"white\",\"linecolor\":\"white\",\"ticks\":\"\",\"title\":{\"standoff\":15},\"zerolinecolor\":\"white\",\"zerolinewidth\":2}}},\"margin\":{\"l\":0,\"r\":0,\"t\":20,\"b\":20},\"polar\":{\"radialaxis\":{\"visible\":true,\"range\":[-0.2,1.2],\"color\":\"dimgray\",\"showticklabels\":false,\"showline\":false,\"ticklen\":0},\"angularaxis\":{\"tickfont\":{\"color\":\"#888\",\"size\":13},\"color\":\"#eee\",\"ticklen\":0},\"bgcolor\":\"#eeeeee\",\"gridshape\":\"linear\"},\"height\":400,\"showlegend\":true},                        {\"responsive\": true}                    ).then(function(){\n",
              "                            \n",
              "var gd = document.getElementById('ae6bfe38-b37b-4b72-b73c-8335b8fdee9e');\n",
              "var x = new MutationObserver(function (mutations, observer) {{\n",
              "        var display = window.getComputedStyle(gd).display;\n",
              "        if (!display || display === 'none') {{\n",
              "            console.log([gd, 'removed!']);\n",
              "            Plotly.purge(gd);\n",
              "            observer.disconnect();\n",
              "        }}\n",
              "}});\n",
              "\n",
              "// Listen for the removal of the full notebook cells\n",
              "var notebookContainer = gd.closest('#notebook-container');\n",
              "if (notebookContainer) {{\n",
              "    x.observe(notebookContainer, {childList: true});\n",
              "}}\n",
              "\n",
              "// Listen for the clearing of the current output cell\n",
              "var outputEl = gd.closest('.output');\n",
              "if (outputEl) {{\n",
              "    x.observe(outputEl, {childList: true});\n",
              "}}\n",
              "\n",
              "                        })                };                            </script>        </div>\n",
              "</body>\n",
              "</html>"
            ]
          },
          "metadata": {}
        },
        {
          "output_type": "display_data",
          "data": {
            "text/html": [
              "<html>\n",
              "<head><meta charset=\"utf-8\" /></head>\n",
              "<body>\n",
              "    <div>            <script src=\"https://cdnjs.cloudflare.com/ajax/libs/mathjax/2.7.5/MathJax.js?config=TeX-AMS-MML_SVG\"></script><script type=\"text/javascript\">if (window.MathJax) {MathJax.Hub.Config({SVG: {font: \"STIX-Web\"}});}</script>                <script type=\"text/javascript\">window.PlotlyConfig = {MathJaxConfig: 'local'};</script>\n",
              "        <script src=\"https://cdn.plot.ly/plotly-2.8.3.min.js\"></script>                <div id=\"831fbf90-5f07-4012-9ec3-51ca1814c8ce\" class=\"plotly-graph-div\" style=\"height:400px; width:100%;\"></div>            <script type=\"text/javascript\">                                    window.PLOTLYENV=window.PLOTLYENV || {};                                    if (document.getElementById(\"831fbf90-5f07-4012-9ec3-51ca1814c8ce\")) {                    Plotly.newPlot(                        \"831fbf90-5f07-4012-9ec3-51ca1814c8ce\",                        [{\"fill\":\"toself\",\"mode\":\"lines\",\"name\":\"2020\",\"r\":[0.9752728457403482,0.8571428571428571,0.0,0.6911593276426127,0.7604320667012958,1.0,0.9752728457403482],\"theta\":[\"\\uacbd\\uae30 \\uc2dc\\uac04\",\"\\uc5b4\\uc2dc\\uc2a4\\ud2b8\",\"\\ud06c\\ub85c\\uc2a4 \\uc815\\ud655\\ub3c4\",\"\\ub4dc\\ub9ac\\ube14 \\uc131\\uacf5\\ub960\",\"\\ub871\\ud328\\uc2a4 \\uc131\\uacf5\\ub960\",\"\\uc4f0\\ub8e8\\ud328\\uc2a4 \\uc131\\uacf5\\ub960\",\"\\uacbd\\uae30 \\uc2dc\\uac04\"],\"type\":\"scatterpolar\"},{\"fill\":\"toself\",\"mode\":\"lines\",\"name\":\"2021\",\"r\":[0.6886478746254406,0.0,0.17096007587158937,0.0,0.38536984707678457,0.29970184853905785,0.6886478746254406],\"theta\":[\"\\uacbd\\uae30 \\uc2dc\\uac04\",\"\\uc5b4\\uc2dc\\uc2a4\\ud2b8\",\"\\ud06c\\ub85c\\uc2a4 \\uc815\\ud655\\ub3c4\",\"\\ub4dc\\ub9ac\\ube14 \\uc131\\uacf5\\ub960\",\"\\ub871\\ud328\\uc2a4 \\uc131\\uacf5\\ub960\",\"\\uc4f0\\ub8e8\\ud328\\uc2a4 \\uc131\\uacf5\\ub960\",\"\\uacbd\\uae30 \\uc2dc\\uac04\"],\"type\":\"scatterpolar\"},{\"fill\":\"toself\",\"mode\":\"lines\",\"name\":\"2022\",\"r\":[0.0,0.8181818181818182,0.23246160232461602,0.004977386393548442,0.0,0.14032634032634034,0.0],\"theta\":[\"\\uacbd\\uae30 \\uc2dc\\uac04\",\"\\uc5b4\\uc2dc\\uc2a4\\ud2b8\",\"\\ud06c\\ub85c\\uc2a4 \\uc815\\ud655\\ub3c4\",\"\\ub4dc\\ub9ac\\ube14 \\uc131\\uacf5\\ub960\",\"\\ub871\\ud328\\uc2a4 \\uc131\\uacf5\\ub960\",\"\\uc4f0\\ub8e8\\ud328\\uc2a4 \\uc131\\uacf5\\ub960\",\"\\uacbd\\uae30 \\uc2dc\\uac04\"],\"type\":\"scatterpolar\"}],                        {\"template\":{\"data\":{\"bar\":[{\"error_x\":{\"color\":\"#2a3f5f\"},\"error_y\":{\"color\":\"#2a3f5f\"},\"marker\":{\"line\":{\"color\":\"#E5ECF6\",\"width\":0.5},\"pattern\":{\"fillmode\":\"overlay\",\"size\":10,\"solidity\":0.2}},\"type\":\"bar\"}],\"barpolar\":[{\"marker\":{\"line\":{\"color\":\"#E5ECF6\",\"width\":0.5},\"pattern\":{\"fillmode\":\"overlay\",\"size\":10,\"solidity\":0.2}},\"type\":\"barpolar\"}],\"carpet\":[{\"aaxis\":{\"endlinecolor\":\"#2a3f5f\",\"gridcolor\":\"white\",\"linecolor\":\"white\",\"minorgridcolor\":\"white\",\"startlinecolor\":\"#2a3f5f\"},\"baxis\":{\"endlinecolor\":\"#2a3f5f\",\"gridcolor\":\"white\",\"linecolor\":\"white\",\"minorgridcolor\":\"white\",\"startlinecolor\":\"#2a3f5f\"},\"type\":\"carpet\"}],\"choropleth\":[{\"colorbar\":{\"outlinewidth\":0,\"ticks\":\"\"},\"type\":\"choropleth\"}],\"contour\":[{\"colorbar\":{\"outlinewidth\":0,\"ticks\":\"\"},\"colorscale\":[[0.0,\"#0d0887\"],[0.1111111111111111,\"#46039f\"],[0.2222222222222222,\"#7201a8\"],[0.3333333333333333,\"#9c179e\"],[0.4444444444444444,\"#bd3786\"],[0.5555555555555556,\"#d8576b\"],[0.6666666666666666,\"#ed7953\"],[0.7777777777777778,\"#fb9f3a\"],[0.8888888888888888,\"#fdca26\"],[1.0,\"#f0f921\"]],\"type\":\"contour\"}],\"contourcarpet\":[{\"colorbar\":{\"outlinewidth\":0,\"ticks\":\"\"},\"type\":\"contourcarpet\"}],\"heatmap\":[{\"colorbar\":{\"outlinewidth\":0,\"ticks\":\"\"},\"colorscale\":[[0.0,\"#0d0887\"],[0.1111111111111111,\"#46039f\"],[0.2222222222222222,\"#7201a8\"],[0.3333333333333333,\"#9c179e\"],[0.4444444444444444,\"#bd3786\"],[0.5555555555555556,\"#d8576b\"],[0.6666666666666666,\"#ed7953\"],[0.7777777777777778,\"#fb9f3a\"],[0.8888888888888888,\"#fdca26\"],[1.0,\"#f0f921\"]],\"type\":\"heatmap\"}],\"heatmapgl\":[{\"colorbar\":{\"outlinewidth\":0,\"ticks\":\"\"},\"colorscale\":[[0.0,\"#0d0887\"],[0.1111111111111111,\"#46039f\"],[0.2222222222222222,\"#7201a8\"],[0.3333333333333333,\"#9c179e\"],[0.4444444444444444,\"#bd3786\"],[0.5555555555555556,\"#d8576b\"],[0.6666666666666666,\"#ed7953\"],[0.7777777777777778,\"#fb9f3a\"],[0.8888888888888888,\"#fdca26\"],[1.0,\"#f0f921\"]],\"type\":\"heatmapgl\"}],\"histogram\":[{\"marker\":{\"pattern\":{\"fillmode\":\"overlay\",\"size\":10,\"solidity\":0.2}},\"type\":\"histogram\"}],\"histogram2d\":[{\"colorbar\":{\"outlinewidth\":0,\"ticks\":\"\"},\"colorscale\":[[0.0,\"#0d0887\"],[0.1111111111111111,\"#46039f\"],[0.2222222222222222,\"#7201a8\"],[0.3333333333333333,\"#9c179e\"],[0.4444444444444444,\"#bd3786\"],[0.5555555555555556,\"#d8576b\"],[0.6666666666666666,\"#ed7953\"],[0.7777777777777778,\"#fb9f3a\"],[0.8888888888888888,\"#fdca26\"],[1.0,\"#f0f921\"]],\"type\":\"histogram2d\"}],\"histogram2dcontour\":[{\"colorbar\":{\"outlinewidth\":0,\"ticks\":\"\"},\"colorscale\":[[0.0,\"#0d0887\"],[0.1111111111111111,\"#46039f\"],[0.2222222222222222,\"#7201a8\"],[0.3333333333333333,\"#9c179e\"],[0.4444444444444444,\"#bd3786\"],[0.5555555555555556,\"#d8576b\"],[0.6666666666666666,\"#ed7953\"],[0.7777777777777778,\"#fb9f3a\"],[0.8888888888888888,\"#fdca26\"],[1.0,\"#f0f921\"]],\"type\":\"histogram2dcontour\"}],\"mesh3d\":[{\"colorbar\":{\"outlinewidth\":0,\"ticks\":\"\"},\"type\":\"mesh3d\"}],\"parcoords\":[{\"line\":{\"colorbar\":{\"outlinewidth\":0,\"ticks\":\"\"}},\"type\":\"parcoords\"}],\"pie\":[{\"automargin\":true,\"type\":\"pie\"}],\"scatter\":[{\"marker\":{\"colorbar\":{\"outlinewidth\":0,\"ticks\":\"\"}},\"type\":\"scatter\"}],\"scatter3d\":[{\"line\":{\"colorbar\":{\"outlinewidth\":0,\"ticks\":\"\"}},\"marker\":{\"colorbar\":{\"outlinewidth\":0,\"ticks\":\"\"}},\"type\":\"scatter3d\"}],\"scattercarpet\":[{\"marker\":{\"colorbar\":{\"outlinewidth\":0,\"ticks\":\"\"}},\"type\":\"scattercarpet\"}],\"scattergeo\":[{\"marker\":{\"colorbar\":{\"outlinewidth\":0,\"ticks\":\"\"}},\"type\":\"scattergeo\"}],\"scattergl\":[{\"marker\":{\"colorbar\":{\"outlinewidth\":0,\"ticks\":\"\"}},\"type\":\"scattergl\"}],\"scattermapbox\":[{\"marker\":{\"colorbar\":{\"outlinewidth\":0,\"ticks\":\"\"}},\"type\":\"scattermapbox\"}],\"scatterpolar\":[{\"marker\":{\"colorbar\":{\"outlinewidth\":0,\"ticks\":\"\"}},\"type\":\"scatterpolar\"}],\"scatterpolargl\":[{\"marker\":{\"colorbar\":{\"outlinewidth\":0,\"ticks\":\"\"}},\"type\":\"scatterpolargl\"}],\"scatterternary\":[{\"marker\":{\"colorbar\":{\"outlinewidth\":0,\"ticks\":\"\"}},\"type\":\"scatterternary\"}],\"surface\":[{\"colorbar\":{\"outlinewidth\":0,\"ticks\":\"\"},\"colorscale\":[[0.0,\"#0d0887\"],[0.1111111111111111,\"#46039f\"],[0.2222222222222222,\"#7201a8\"],[0.3333333333333333,\"#9c179e\"],[0.4444444444444444,\"#bd3786\"],[0.5555555555555556,\"#d8576b\"],[0.6666666666666666,\"#ed7953\"],[0.7777777777777778,\"#fb9f3a\"],[0.8888888888888888,\"#fdca26\"],[1.0,\"#f0f921\"]],\"type\":\"surface\"}],\"table\":[{\"cells\":{\"fill\":{\"color\":\"#EBF0F8\"},\"line\":{\"color\":\"white\"}},\"header\":{\"fill\":{\"color\":\"#C8D4E3\"},\"line\":{\"color\":\"white\"}},\"type\":\"table\"}]},\"layout\":{\"annotationdefaults\":{\"arrowcolor\":\"#2a3f5f\",\"arrowhead\":0,\"arrowwidth\":1},\"autotypenumbers\":\"strict\",\"coloraxis\":{\"colorbar\":{\"outlinewidth\":0,\"ticks\":\"\"}},\"colorscale\":{\"diverging\":[[0,\"#8e0152\"],[0.1,\"#c51b7d\"],[0.2,\"#de77ae\"],[0.3,\"#f1b6da\"],[0.4,\"#fde0ef\"],[0.5,\"#f7f7f7\"],[0.6,\"#e6f5d0\"],[0.7,\"#b8e186\"],[0.8,\"#7fbc41\"],[0.9,\"#4d9221\"],[1,\"#276419\"]],\"sequential\":[[0.0,\"#0d0887\"],[0.1111111111111111,\"#46039f\"],[0.2222222222222222,\"#7201a8\"],[0.3333333333333333,\"#9c179e\"],[0.4444444444444444,\"#bd3786\"],[0.5555555555555556,\"#d8576b\"],[0.6666666666666666,\"#ed7953\"],[0.7777777777777778,\"#fb9f3a\"],[0.8888888888888888,\"#fdca26\"],[1.0,\"#f0f921\"]],\"sequentialminus\":[[0.0,\"#0d0887\"],[0.1111111111111111,\"#46039f\"],[0.2222222222222222,\"#7201a8\"],[0.3333333333333333,\"#9c179e\"],[0.4444444444444444,\"#bd3786\"],[0.5555555555555556,\"#d8576b\"],[0.6666666666666666,\"#ed7953\"],[0.7777777777777778,\"#fb9f3a\"],[0.8888888888888888,\"#fdca26\"],[1.0,\"#f0f921\"]]},\"colorway\":[\"#636efa\",\"#EF553B\",\"#00cc96\",\"#ab63fa\",\"#FFA15A\",\"#19d3f3\",\"#FF6692\",\"#B6E880\",\"#FF97FF\",\"#FECB52\"],\"font\":{\"color\":\"#2a3f5f\"},\"geo\":{\"bgcolor\":\"white\",\"lakecolor\":\"white\",\"landcolor\":\"#E5ECF6\",\"showlakes\":true,\"showland\":true,\"subunitcolor\":\"white\"},\"hoverlabel\":{\"align\":\"left\"},\"hovermode\":\"closest\",\"mapbox\":{\"style\":\"light\"},\"paper_bgcolor\":\"white\",\"plot_bgcolor\":\"#E5ECF6\",\"polar\":{\"angularaxis\":{\"gridcolor\":\"white\",\"linecolor\":\"white\",\"ticks\":\"\"},\"bgcolor\":\"#E5ECF6\",\"radialaxis\":{\"gridcolor\":\"white\",\"linecolor\":\"white\",\"ticks\":\"\"}},\"scene\":{\"xaxis\":{\"backgroundcolor\":\"#E5ECF6\",\"gridcolor\":\"white\",\"gridwidth\":2,\"linecolor\":\"white\",\"showbackground\":true,\"ticks\":\"\",\"zerolinecolor\":\"white\"},\"yaxis\":{\"backgroundcolor\":\"#E5ECF6\",\"gridcolor\":\"white\",\"gridwidth\":2,\"linecolor\":\"white\",\"showbackground\":true,\"ticks\":\"\",\"zerolinecolor\":\"white\"},\"zaxis\":{\"backgroundcolor\":\"#E5ECF6\",\"gridcolor\":\"white\",\"gridwidth\":2,\"linecolor\":\"white\",\"showbackground\":true,\"ticks\":\"\",\"zerolinecolor\":\"white\"}},\"shapedefaults\":{\"line\":{\"color\":\"#2a3f5f\"}},\"ternary\":{\"aaxis\":{\"gridcolor\":\"white\",\"linecolor\":\"white\",\"ticks\":\"\"},\"baxis\":{\"gridcolor\":\"white\",\"linecolor\":\"white\",\"ticks\":\"\"},\"bgcolor\":\"#E5ECF6\",\"caxis\":{\"gridcolor\":\"white\",\"linecolor\":\"white\",\"ticks\":\"\"}},\"title\":{\"x\":0.05},\"xaxis\":{\"automargin\":true,\"gridcolor\":\"white\",\"linecolor\":\"white\",\"ticks\":\"\",\"title\":{\"standoff\":15},\"zerolinecolor\":\"white\",\"zerolinewidth\":2},\"yaxis\":{\"automargin\":true,\"gridcolor\":\"white\",\"linecolor\":\"white\",\"ticks\":\"\",\"title\":{\"standoff\":15},\"zerolinecolor\":\"white\",\"zerolinewidth\":2}}},\"margin\":{\"l\":0,\"r\":0,\"t\":20,\"b\":20},\"polar\":{\"radialaxis\":{\"visible\":true,\"range\":[-0.2,1.2],\"color\":\"dimgray\",\"showticklabels\":false,\"showline\":false,\"ticklen\":0},\"angularaxis\":{\"tickfont\":{\"color\":\"#888\",\"size\":13},\"color\":\"#eee\",\"ticklen\":0},\"bgcolor\":\"#eeeeee\",\"gridshape\":\"linear\"},\"height\":400,\"showlegend\":true},                        {\"responsive\": true}                    ).then(function(){\n",
              "                            \n",
              "var gd = document.getElementById('831fbf90-5f07-4012-9ec3-51ca1814c8ce');\n",
              "var x = new MutationObserver(function (mutations, observer) {{\n",
              "        var display = window.getComputedStyle(gd).display;\n",
              "        if (!display || display === 'none') {{\n",
              "            console.log([gd, 'removed!']);\n",
              "            Plotly.purge(gd);\n",
              "            observer.disconnect();\n",
              "        }}\n",
              "}});\n",
              "\n",
              "// Listen for the removal of the full notebook cells\n",
              "var notebookContainer = gd.closest('#notebook-container');\n",
              "if (notebookContainer) {{\n",
              "    x.observe(notebookContainer, {childList: true});\n",
              "}}\n",
              "\n",
              "// Listen for the clearing of the current output cell\n",
              "var outputEl = gd.closest('.output');\n",
              "if (outputEl) {{\n",
              "    x.observe(outputEl, {childList: true});\n",
              "}}\n",
              "\n",
              "                        })                };                            </script>        </div>\n",
              "</body>\n",
              "</html>"
            ]
          },
          "metadata": {}
        }
      ]
    },
    {
      "cell_type": "markdown",
      "source": [
        "# 심화과제\n",
        "\n",
        "인천 유나이티드 데이터를 이용해서 직접 시각화를 해봅시다.\n",
        "\n",
        "이번에는 바 그래프를 그려볼 것입니다."
      ],
      "metadata": {
        "id": "Cy95YBV9gZhP"
      }
    },
    {
      "cell_type": "code",
      "source": [
        "# 라이브러리 import\n",
        "import plotly.graph_objects as go\n",
        "import plotly.express as px\n",
        "import pandas as pd"
      ],
      "metadata": {
        "id": "DguYNC_8kDhx"
      },
      "execution_count": 8,
      "outputs": []
    },
    {
      "cell_type": "code",
      "source": [
        "df1 = pd.read_csv(\"incheon_2021_stats.csv\")\n",
        "df2 = pd.read_csv(\"incheon_2022_stats.csv\")"
      ],
      "metadata": {
        "id": "jNe2Mi5ygdF1"
      },
      "execution_count": 5,
      "outputs": []
    },
    {
      "cell_type": "code",
      "source": [
        "df1"
      ],
      "metadata": {
        "colab": {
          "base_uri": "https://localhost:8080/",
          "height": 1000
        },
        "id": "mqAy28XJgsmE",
        "outputId": "25a61b1d-84a1-4069-c64e-b5dca7af6392"
      },
      "execution_count": 6,
      "outputs": [
        {
          "output_type": "execute_result",
          "data": {
            "text/plain": [
              "               날짜         VS 결과    점수  평균 평점  슈팅  유효슈팅   점유율  패스성공률  인터셉트  \\\n",
              "0    2021년 12월 4일       광주FC  D  1:01    6.7   8     5  34.8   74.2    28   \n",
              "1   2021년 11월 28일    포항 스틸러스  D  0:00    6.7  11     3  46.2   67.3    30   \n",
              "2    2021년 11월 7일       강원FC  D  1:01    6.6  12     4  36.2   73.2    24   \n",
              "3    2021년 11월 3일       성남FC  D  1:01    6.5   6     3  43.1   68.3    26   \n",
              "4   2021년 10월 30일       FC서울  W  2:00    7.0  10     6  60.2   81.8    21   \n",
              "5   2021년 10월 24일    포항 스틸러스  W  1:00    6.8   9     5  27.4   69.8    29   \n",
              "6    2021년 10월 6일       강원FC  L  0:01    6.3   6     0  38.5   79.0    14   \n",
              "7    2021년 10월 2일  수원삼성 블루윙즈  L  0:01    6.3   9     4  53.1   81.1    19   \n",
              "8    2021년 9월 25일  전북 현대 모터스  L  0:02    6.3   8     2  60.7   84.3    15   \n",
              "9    2021년 9월 22일       FC서울  D  0:00    6.4   4     3  31.5   67.0     9   \n",
              "10   2021년 9월 19일       성남FC  L  0:01    6.4   9     2  48.0   73.7    24   \n",
              "11   2021년 9월 11일   제주 유나이티드  L  1:02    6.5   7     1  52.0   75.6    12   \n",
              "12   2021년 8월 29일    울산현대축구단  L  2:03    6.5  11     4  32.0   76.2     9   \n",
              "13   2021년 8월 25일       대구FC  W  2:00    7.0  10     4  41.6   80.0     7   \n",
              "14   2021년 8월 18일       성남FC  W  1:00    6.7   8     2  40.9   77.0    15   \n",
              "15   2021년 8월 15일       광주FC  L  0:01    6.3  14     0  53.4   77.9    13   \n",
              "16    2021년 8월 8일       수원FC  D  0:00    6.4   8     3  47.8   77.1    19   \n",
              "17   2021년 7월 31일   제주 유나이티드  W  4:01    7.2  13     6  41.1   78.3    12   \n",
              "18   2021년 7월 23일  수원삼성 블루윙즈  W  2:01    6.7  13     2  38.3   77.9    24   \n",
              "19   2021년 7월 14일       FC서울  W  1:00    6.7   6     6  41.3   81.6     8   \n",
              "20   2021년 5월 29일  전북 현대 모터스  D  1:01    6.6  12     5  39.1   73.4    25   \n",
              "21   2021년 5월 21일       수원FC  D  2:02    6.5  20     8  67.1   81.4    23   \n",
              "22   2021년 5월 15일       광주FC  W  2:01    6.8  16     5  58.2   80.0    10   \n",
              "23   2021년 5월 11일    포항 스틸러스  D  1:01    6.6   9     4  33.3   71.6    21   \n",
              "24    2021년 5월 8일       대구FC  L  0:03    6.1   6     2  68.7   85.8    23   \n",
              "25    2021년 5월 2일       강원FC  W  1:00    6.9   5     1  36.1   77.7    16   \n",
              "26   2021년 4월 25일    울산현대축구단  D  0:00    6.6   9     3  37.4   79.3    15   \n",
              "27   2021년 4월 21일       성남FC  W  3:01    7.0   7     4  45.4   71.7    23   \n",
              "28   2021년 4월 17일   제주 유나이티드  L  0:03    6.2   7     0  52.1   70.8    19   \n",
              "29   2021년 4월 11일  전북 현대 모터스  L  0:05    5.9   8     3  46.0   78.0    22   \n",
              "30    2021년 4월 7일  수원삼성 블루윙즈  D  0:00    6.4  11     3  42.9   71.8    11   \n",
              "31    2021년 4월 4일       광주FC  L  1:02    6.6  10     2  28.0   65.1    19   \n",
              "32   2021년 3월 21일       강원FC  L  0:02    6.2   7     2  54.8   77.0    13   \n",
              "33   2021년 3월 17일       수원FC  W  4:01    7.0  17     6  54.5   78.1    18   \n",
              "34   2021년 3월 13일       FC서울  L  0:01    6.5  11     1  35.3   66.7    26   \n",
              "35    2021년 3월 9일    울산현대축구단  L  1:03    6.3  10     4  38.2   77.0    28   \n",
              "36    2021년 3월 6일       대구FC  W  2:01    6.9  12     5  53.2   78.0    21   \n",
              "37   2021년 2월 28일    포항 스틸러스  L  1:02    6.4   4     1  40.2   76.6    25   \n",
              "\n",
              "    태클 성공  공중볼 경합 성공률  세이브  프리킥  코너킥  파울  경고  퇴장  \n",
              "0      19        53.8    3   10    2  20   0   0  \n",
              "1      13        71.6    4   18    9  23   1   0  \n",
              "2       6        72.9    4   10    7  12   1   0  \n",
              "3       4        53.6    1   16    4  19   3   0  \n",
              "4       4        57.8    2    7    6  17   4   0  \n",
              "5       8        58.2    2   14    3  14   1   0  \n",
              "6       9        52.1    3   12    1   7   1   1  \n",
              "7       8        42.6    0    9    4  18   4   0  \n",
              "8       5        46.7    3   24    4  13   2   0  \n",
              "9      16        38.5    3   12    2  17   3   0  \n",
              "10      9        61.0    2   13    2  18   1   0  \n",
              "11      9        62.7    2   18    3  15   1   0  \n",
              "12      9        64.7    5   16    3  12   4   0  \n",
              "13      9        44.9    5   24    0  11   1   0  \n",
              "14      3        51.9    4   19    2  10   0   0  \n",
              "15     12        37.7    5   17    5  17   1   0  \n",
              "16      6        47.2    5   17    4   7   1   0  \n",
              "17     15        43.8    5   12    1  13   2   0  \n",
              "18      4        52.5    4    9    4  12   1   0  \n",
              "19     13        41.9    1    7    2  14   1   0  \n",
              "20     13        44.6    3   12    3  15   2   0  \n",
              "21      9        42.9    4   16    4   5   0   0  \n",
              "22     10        52.7    5   12    4  13   3   0  \n",
              "23     12        51.0    3   19    4   7   2   0  \n",
              "24      6        63.9    1   17    4  15   2   0  \n",
              "25     13        58.2    5    7    2   9   3   0  \n",
              "26     15        53.4    2   14    2   6   0   0  \n",
              "27      8        51.6    3   15    0  17   1   0  \n",
              "28     13        61.1    6   27    2  13   1   0  \n",
              "29     10        53.6    2   18    1  12   0   0  \n",
              "30     12        53.3    3   16    3  20   2   0  \n",
              "31     25        45.5    6   14    0   9   3   1  \n",
              "32      7        59.1    2   14    3  16   1   0  \n",
              "33      7        46.2    3   14    3   8   1   0  \n",
              "34      6        58.6    4   13    5   9   0   1  \n",
              "35     12        51.4    5   19    3  10   2   0  \n",
              "36     15        52.4    1   14    3  23   3   0  \n",
              "37     15        43.8    5   16    2  13   3   0  "
            ],
            "text/html": [
              "\n",
              "  <div id=\"df-85de4cdf-0fd0-4fa9-9f2a-241e2044710d\">\n",
              "    <div class=\"colab-df-container\">\n",
              "      <div>\n",
              "<style scoped>\n",
              "    .dataframe tbody tr th:only-of-type {\n",
              "        vertical-align: middle;\n",
              "    }\n",
              "\n",
              "    .dataframe tbody tr th {\n",
              "        vertical-align: top;\n",
              "    }\n",
              "\n",
              "    .dataframe thead th {\n",
              "        text-align: right;\n",
              "    }\n",
              "</style>\n",
              "<table border=\"1\" class=\"dataframe\">\n",
              "  <thead>\n",
              "    <tr style=\"text-align: right;\">\n",
              "      <th></th>\n",
              "      <th>날짜</th>\n",
              "      <th>VS</th>\n",
              "      <th>결과</th>\n",
              "      <th>점수</th>\n",
              "      <th>평균 평점</th>\n",
              "      <th>슈팅</th>\n",
              "      <th>유효슈팅</th>\n",
              "      <th>점유율</th>\n",
              "      <th>패스성공률</th>\n",
              "      <th>인터셉트</th>\n",
              "      <th>태클 성공</th>\n",
              "      <th>공중볼 경합 성공률</th>\n",
              "      <th>세이브</th>\n",
              "      <th>프리킥</th>\n",
              "      <th>코너킥</th>\n",
              "      <th>파울</th>\n",
              "      <th>경고</th>\n",
              "      <th>퇴장</th>\n",
              "    </tr>\n",
              "  </thead>\n",
              "  <tbody>\n",
              "    <tr>\n",
              "      <th>0</th>\n",
              "      <td>2021년 12월 4일</td>\n",
              "      <td>광주FC</td>\n",
              "      <td>D</td>\n",
              "      <td>1:01</td>\n",
              "      <td>6.7</td>\n",
              "      <td>8</td>\n",
              "      <td>5</td>\n",
              "      <td>34.8</td>\n",
              "      <td>74.2</td>\n",
              "      <td>28</td>\n",
              "      <td>19</td>\n",
              "      <td>53.8</td>\n",
              "      <td>3</td>\n",
              "      <td>10</td>\n",
              "      <td>2</td>\n",
              "      <td>20</td>\n",
              "      <td>0</td>\n",
              "      <td>0</td>\n",
              "    </tr>\n",
              "    <tr>\n",
              "      <th>1</th>\n",
              "      <td>2021년 11월 28일</td>\n",
              "      <td>포항 스틸러스</td>\n",
              "      <td>D</td>\n",
              "      <td>0:00</td>\n",
              "      <td>6.7</td>\n",
              "      <td>11</td>\n",
              "      <td>3</td>\n",
              "      <td>46.2</td>\n",
              "      <td>67.3</td>\n",
              "      <td>30</td>\n",
              "      <td>13</td>\n",
              "      <td>71.6</td>\n",
              "      <td>4</td>\n",
              "      <td>18</td>\n",
              "      <td>9</td>\n",
              "      <td>23</td>\n",
              "      <td>1</td>\n",
              "      <td>0</td>\n",
              "    </tr>\n",
              "    <tr>\n",
              "      <th>2</th>\n",
              "      <td>2021년 11월 7일</td>\n",
              "      <td>강원FC</td>\n",
              "      <td>D</td>\n",
              "      <td>1:01</td>\n",
              "      <td>6.6</td>\n",
              "      <td>12</td>\n",
              "      <td>4</td>\n",
              "      <td>36.2</td>\n",
              "      <td>73.2</td>\n",
              "      <td>24</td>\n",
              "      <td>6</td>\n",
              "      <td>72.9</td>\n",
              "      <td>4</td>\n",
              "      <td>10</td>\n",
              "      <td>7</td>\n",
              "      <td>12</td>\n",
              "      <td>1</td>\n",
              "      <td>0</td>\n",
              "    </tr>\n",
              "    <tr>\n",
              "      <th>3</th>\n",
              "      <td>2021년 11월 3일</td>\n",
              "      <td>성남FC</td>\n",
              "      <td>D</td>\n",
              "      <td>1:01</td>\n",
              "      <td>6.5</td>\n",
              "      <td>6</td>\n",
              "      <td>3</td>\n",
              "      <td>43.1</td>\n",
              "      <td>68.3</td>\n",
              "      <td>26</td>\n",
              "      <td>4</td>\n",
              "      <td>53.6</td>\n",
              "      <td>1</td>\n",
              "      <td>16</td>\n",
              "      <td>4</td>\n",
              "      <td>19</td>\n",
              "      <td>3</td>\n",
              "      <td>0</td>\n",
              "    </tr>\n",
              "    <tr>\n",
              "      <th>4</th>\n",
              "      <td>2021년 10월 30일</td>\n",
              "      <td>FC서울</td>\n",
              "      <td>W</td>\n",
              "      <td>2:00</td>\n",
              "      <td>7.0</td>\n",
              "      <td>10</td>\n",
              "      <td>6</td>\n",
              "      <td>60.2</td>\n",
              "      <td>81.8</td>\n",
              "      <td>21</td>\n",
              "      <td>4</td>\n",
              "      <td>57.8</td>\n",
              "      <td>2</td>\n",
              "      <td>7</td>\n",
              "      <td>6</td>\n",
              "      <td>17</td>\n",
              "      <td>4</td>\n",
              "      <td>0</td>\n",
              "    </tr>\n",
              "    <tr>\n",
              "      <th>5</th>\n",
              "      <td>2021년 10월 24일</td>\n",
              "      <td>포항 스틸러스</td>\n",
              "      <td>W</td>\n",
              "      <td>1:00</td>\n",
              "      <td>6.8</td>\n",
              "      <td>9</td>\n",
              "      <td>5</td>\n",
              "      <td>27.4</td>\n",
              "      <td>69.8</td>\n",
              "      <td>29</td>\n",
              "      <td>8</td>\n",
              "      <td>58.2</td>\n",
              "      <td>2</td>\n",
              "      <td>14</td>\n",
              "      <td>3</td>\n",
              "      <td>14</td>\n",
              "      <td>1</td>\n",
              "      <td>0</td>\n",
              "    </tr>\n",
              "    <tr>\n",
              "      <th>6</th>\n",
              "      <td>2021년 10월 6일</td>\n",
              "      <td>강원FC</td>\n",
              "      <td>L</td>\n",
              "      <td>0:01</td>\n",
              "      <td>6.3</td>\n",
              "      <td>6</td>\n",
              "      <td>0</td>\n",
              "      <td>38.5</td>\n",
              "      <td>79.0</td>\n",
              "      <td>14</td>\n",
              "      <td>9</td>\n",
              "      <td>52.1</td>\n",
              "      <td>3</td>\n",
              "      <td>12</td>\n",
              "      <td>1</td>\n",
              "      <td>7</td>\n",
              "      <td>1</td>\n",
              "      <td>1</td>\n",
              "    </tr>\n",
              "    <tr>\n",
              "      <th>7</th>\n",
              "      <td>2021년 10월 2일</td>\n",
              "      <td>수원삼성 블루윙즈</td>\n",
              "      <td>L</td>\n",
              "      <td>0:01</td>\n",
              "      <td>6.3</td>\n",
              "      <td>9</td>\n",
              "      <td>4</td>\n",
              "      <td>53.1</td>\n",
              "      <td>81.1</td>\n",
              "      <td>19</td>\n",
              "      <td>8</td>\n",
              "      <td>42.6</td>\n",
              "      <td>0</td>\n",
              "      <td>9</td>\n",
              "      <td>4</td>\n",
              "      <td>18</td>\n",
              "      <td>4</td>\n",
              "      <td>0</td>\n",
              "    </tr>\n",
              "    <tr>\n",
              "      <th>8</th>\n",
              "      <td>2021년 9월 25일</td>\n",
              "      <td>전북 현대 모터스</td>\n",
              "      <td>L</td>\n",
              "      <td>0:02</td>\n",
              "      <td>6.3</td>\n",
              "      <td>8</td>\n",
              "      <td>2</td>\n",
              "      <td>60.7</td>\n",
              "      <td>84.3</td>\n",
              "      <td>15</td>\n",
              "      <td>5</td>\n",
              "      <td>46.7</td>\n",
              "      <td>3</td>\n",
              "      <td>24</td>\n",
              "      <td>4</td>\n",
              "      <td>13</td>\n",
              "      <td>2</td>\n",
              "      <td>0</td>\n",
              "    </tr>\n",
              "    <tr>\n",
              "      <th>9</th>\n",
              "      <td>2021년 9월 22일</td>\n",
              "      <td>FC서울</td>\n",
              "      <td>D</td>\n",
              "      <td>0:00</td>\n",
              "      <td>6.4</td>\n",
              "      <td>4</td>\n",
              "      <td>3</td>\n",
              "      <td>31.5</td>\n",
              "      <td>67.0</td>\n",
              "      <td>9</td>\n",
              "      <td>16</td>\n",
              "      <td>38.5</td>\n",
              "      <td>3</td>\n",
              "      <td>12</td>\n",
              "      <td>2</td>\n",
              "      <td>17</td>\n",
              "      <td>3</td>\n",
              "      <td>0</td>\n",
              "    </tr>\n",
              "    <tr>\n",
              "      <th>10</th>\n",
              "      <td>2021년 9월 19일</td>\n",
              "      <td>성남FC</td>\n",
              "      <td>L</td>\n",
              "      <td>0:01</td>\n",
              "      <td>6.4</td>\n",
              "      <td>9</td>\n",
              "      <td>2</td>\n",
              "      <td>48.0</td>\n",
              "      <td>73.7</td>\n",
              "      <td>24</td>\n",
              "      <td>9</td>\n",
              "      <td>61.0</td>\n",
              "      <td>2</td>\n",
              "      <td>13</td>\n",
              "      <td>2</td>\n",
              "      <td>18</td>\n",
              "      <td>1</td>\n",
              "      <td>0</td>\n",
              "    </tr>\n",
              "    <tr>\n",
              "      <th>11</th>\n",
              "      <td>2021년 9월 11일</td>\n",
              "      <td>제주 유나이티드</td>\n",
              "      <td>L</td>\n",
              "      <td>1:02</td>\n",
              "      <td>6.5</td>\n",
              "      <td>7</td>\n",
              "      <td>1</td>\n",
              "      <td>52.0</td>\n",
              "      <td>75.6</td>\n",
              "      <td>12</td>\n",
              "      <td>9</td>\n",
              "      <td>62.7</td>\n",
              "      <td>2</td>\n",
              "      <td>18</td>\n",
              "      <td>3</td>\n",
              "      <td>15</td>\n",
              "      <td>1</td>\n",
              "      <td>0</td>\n",
              "    </tr>\n",
              "    <tr>\n",
              "      <th>12</th>\n",
              "      <td>2021년 8월 29일</td>\n",
              "      <td>울산현대축구단</td>\n",
              "      <td>L</td>\n",
              "      <td>2:03</td>\n",
              "      <td>6.5</td>\n",
              "      <td>11</td>\n",
              "      <td>4</td>\n",
              "      <td>32.0</td>\n",
              "      <td>76.2</td>\n",
              "      <td>9</td>\n",
              "      <td>9</td>\n",
              "      <td>64.7</td>\n",
              "      <td>5</td>\n",
              "      <td>16</td>\n",
              "      <td>3</td>\n",
              "      <td>12</td>\n",
              "      <td>4</td>\n",
              "      <td>0</td>\n",
              "    </tr>\n",
              "    <tr>\n",
              "      <th>13</th>\n",
              "      <td>2021년 8월 25일</td>\n",
              "      <td>대구FC</td>\n",
              "      <td>W</td>\n",
              "      <td>2:00</td>\n",
              "      <td>7.0</td>\n",
              "      <td>10</td>\n",
              "      <td>4</td>\n",
              "      <td>41.6</td>\n",
              "      <td>80.0</td>\n",
              "      <td>7</td>\n",
              "      <td>9</td>\n",
              "      <td>44.9</td>\n",
              "      <td>5</td>\n",
              "      <td>24</td>\n",
              "      <td>0</td>\n",
              "      <td>11</td>\n",
              "      <td>1</td>\n",
              "      <td>0</td>\n",
              "    </tr>\n",
              "    <tr>\n",
              "      <th>14</th>\n",
              "      <td>2021년 8월 18일</td>\n",
              "      <td>성남FC</td>\n",
              "      <td>W</td>\n",
              "      <td>1:00</td>\n",
              "      <td>6.7</td>\n",
              "      <td>8</td>\n",
              "      <td>2</td>\n",
              "      <td>40.9</td>\n",
              "      <td>77.0</td>\n",
              "      <td>15</td>\n",
              "      <td>3</td>\n",
              "      <td>51.9</td>\n",
              "      <td>4</td>\n",
              "      <td>19</td>\n",
              "      <td>2</td>\n",
              "      <td>10</td>\n",
              "      <td>0</td>\n",
              "      <td>0</td>\n",
              "    </tr>\n",
              "    <tr>\n",
              "      <th>15</th>\n",
              "      <td>2021년 8월 15일</td>\n",
              "      <td>광주FC</td>\n",
              "      <td>L</td>\n",
              "      <td>0:01</td>\n",
              "      <td>6.3</td>\n",
              "      <td>14</td>\n",
              "      <td>0</td>\n",
              "      <td>53.4</td>\n",
              "      <td>77.9</td>\n",
              "      <td>13</td>\n",
              "      <td>12</td>\n",
              "      <td>37.7</td>\n",
              "      <td>5</td>\n",
              "      <td>17</td>\n",
              "      <td>5</td>\n",
              "      <td>17</td>\n",
              "      <td>1</td>\n",
              "      <td>0</td>\n",
              "    </tr>\n",
              "    <tr>\n",
              "      <th>16</th>\n",
              "      <td>2021년 8월 8일</td>\n",
              "      <td>수원FC</td>\n",
              "      <td>D</td>\n",
              "      <td>0:00</td>\n",
              "      <td>6.4</td>\n",
              "      <td>8</td>\n",
              "      <td>3</td>\n",
              "      <td>47.8</td>\n",
              "      <td>77.1</td>\n",
              "      <td>19</td>\n",
              "      <td>6</td>\n",
              "      <td>47.2</td>\n",
              "      <td>5</td>\n",
              "      <td>17</td>\n",
              "      <td>4</td>\n",
              "      <td>7</td>\n",
              "      <td>1</td>\n",
              "      <td>0</td>\n",
              "    </tr>\n",
              "    <tr>\n",
              "      <th>17</th>\n",
              "      <td>2021년 7월 31일</td>\n",
              "      <td>제주 유나이티드</td>\n",
              "      <td>W</td>\n",
              "      <td>4:01</td>\n",
              "      <td>7.2</td>\n",
              "      <td>13</td>\n",
              "      <td>6</td>\n",
              "      <td>41.1</td>\n",
              "      <td>78.3</td>\n",
              "      <td>12</td>\n",
              "      <td>15</td>\n",
              "      <td>43.8</td>\n",
              "      <td>5</td>\n",
              "      <td>12</td>\n",
              "      <td>1</td>\n",
              "      <td>13</td>\n",
              "      <td>2</td>\n",
              "      <td>0</td>\n",
              "    </tr>\n",
              "    <tr>\n",
              "      <th>18</th>\n",
              "      <td>2021년 7월 23일</td>\n",
              "      <td>수원삼성 블루윙즈</td>\n",
              "      <td>W</td>\n",
              "      <td>2:01</td>\n",
              "      <td>6.7</td>\n",
              "      <td>13</td>\n",
              "      <td>2</td>\n",
              "      <td>38.3</td>\n",
              "      <td>77.9</td>\n",
              "      <td>24</td>\n",
              "      <td>4</td>\n",
              "      <td>52.5</td>\n",
              "      <td>4</td>\n",
              "      <td>9</td>\n",
              "      <td>4</td>\n",
              "      <td>12</td>\n",
              "      <td>1</td>\n",
              "      <td>0</td>\n",
              "    </tr>\n",
              "    <tr>\n",
              "      <th>19</th>\n",
              "      <td>2021년 7월 14일</td>\n",
              "      <td>FC서울</td>\n",
              "      <td>W</td>\n",
              "      <td>1:00</td>\n",
              "      <td>6.7</td>\n",
              "      <td>6</td>\n",
              "      <td>6</td>\n",
              "      <td>41.3</td>\n",
              "      <td>81.6</td>\n",
              "      <td>8</td>\n",
              "      <td>13</td>\n",
              "      <td>41.9</td>\n",
              "      <td>1</td>\n",
              "      <td>7</td>\n",
              "      <td>2</td>\n",
              "      <td>14</td>\n",
              "      <td>1</td>\n",
              "      <td>0</td>\n",
              "    </tr>\n",
              "    <tr>\n",
              "      <th>20</th>\n",
              "      <td>2021년 5월 29일</td>\n",
              "      <td>전북 현대 모터스</td>\n",
              "      <td>D</td>\n",
              "      <td>1:01</td>\n",
              "      <td>6.6</td>\n",
              "      <td>12</td>\n",
              "      <td>5</td>\n",
              "      <td>39.1</td>\n",
              "      <td>73.4</td>\n",
              "      <td>25</td>\n",
              "      <td>13</td>\n",
              "      <td>44.6</td>\n",
              "      <td>3</td>\n",
              "      <td>12</td>\n",
              "      <td>3</td>\n",
              "      <td>15</td>\n",
              "      <td>2</td>\n",
              "      <td>0</td>\n",
              "    </tr>\n",
              "    <tr>\n",
              "      <th>21</th>\n",
              "      <td>2021년 5월 21일</td>\n",
              "      <td>수원FC</td>\n",
              "      <td>D</td>\n",
              "      <td>2:02</td>\n",
              "      <td>6.5</td>\n",
              "      <td>20</td>\n",
              "      <td>8</td>\n",
              "      <td>67.1</td>\n",
              "      <td>81.4</td>\n",
              "      <td>23</td>\n",
              "      <td>9</td>\n",
              "      <td>42.9</td>\n",
              "      <td>4</td>\n",
              "      <td>16</td>\n",
              "      <td>4</td>\n",
              "      <td>5</td>\n",
              "      <td>0</td>\n",
              "      <td>0</td>\n",
              "    </tr>\n",
              "    <tr>\n",
              "      <th>22</th>\n",
              "      <td>2021년 5월 15일</td>\n",
              "      <td>광주FC</td>\n",
              "      <td>W</td>\n",
              "      <td>2:01</td>\n",
              "      <td>6.8</td>\n",
              "      <td>16</td>\n",
              "      <td>5</td>\n",
              "      <td>58.2</td>\n",
              "      <td>80.0</td>\n",
              "      <td>10</td>\n",
              "      <td>10</td>\n",
              "      <td>52.7</td>\n",
              "      <td>5</td>\n",
              "      <td>12</td>\n",
              "      <td>4</td>\n",
              "      <td>13</td>\n",
              "      <td>3</td>\n",
              "      <td>0</td>\n",
              "    </tr>\n",
              "    <tr>\n",
              "      <th>23</th>\n",
              "      <td>2021년 5월 11일</td>\n",
              "      <td>포항 스틸러스</td>\n",
              "      <td>D</td>\n",
              "      <td>1:01</td>\n",
              "      <td>6.6</td>\n",
              "      <td>9</td>\n",
              "      <td>4</td>\n",
              "      <td>33.3</td>\n",
              "      <td>71.6</td>\n",
              "      <td>21</td>\n",
              "      <td>12</td>\n",
              "      <td>51.0</td>\n",
              "      <td>3</td>\n",
              "      <td>19</td>\n",
              "      <td>4</td>\n",
              "      <td>7</td>\n",
              "      <td>2</td>\n",
              "      <td>0</td>\n",
              "    </tr>\n",
              "    <tr>\n",
              "      <th>24</th>\n",
              "      <td>2021년 5월 8일</td>\n",
              "      <td>대구FC</td>\n",
              "      <td>L</td>\n",
              "      <td>0:03</td>\n",
              "      <td>6.1</td>\n",
              "      <td>6</td>\n",
              "      <td>2</td>\n",
              "      <td>68.7</td>\n",
              "      <td>85.8</td>\n",
              "      <td>23</td>\n",
              "      <td>6</td>\n",
              "      <td>63.9</td>\n",
              "      <td>1</td>\n",
              "      <td>17</td>\n",
              "      <td>4</td>\n",
              "      <td>15</td>\n",
              "      <td>2</td>\n",
              "      <td>0</td>\n",
              "    </tr>\n",
              "    <tr>\n",
              "      <th>25</th>\n",
              "      <td>2021년 5월 2일</td>\n",
              "      <td>강원FC</td>\n",
              "      <td>W</td>\n",
              "      <td>1:00</td>\n",
              "      <td>6.9</td>\n",
              "      <td>5</td>\n",
              "      <td>1</td>\n",
              "      <td>36.1</td>\n",
              "      <td>77.7</td>\n",
              "      <td>16</td>\n",
              "      <td>13</td>\n",
              "      <td>58.2</td>\n",
              "      <td>5</td>\n",
              "      <td>7</td>\n",
              "      <td>2</td>\n",
              "      <td>9</td>\n",
              "      <td>3</td>\n",
              "      <td>0</td>\n",
              "    </tr>\n",
              "    <tr>\n",
              "      <th>26</th>\n",
              "      <td>2021년 4월 25일</td>\n",
              "      <td>울산현대축구단</td>\n",
              "      <td>D</td>\n",
              "      <td>0:00</td>\n",
              "      <td>6.6</td>\n",
              "      <td>9</td>\n",
              "      <td>3</td>\n",
              "      <td>37.4</td>\n",
              "      <td>79.3</td>\n",
              "      <td>15</td>\n",
              "      <td>15</td>\n",
              "      <td>53.4</td>\n",
              "      <td>2</td>\n",
              "      <td>14</td>\n",
              "      <td>2</td>\n",
              "      <td>6</td>\n",
              "      <td>0</td>\n",
              "      <td>0</td>\n",
              "    </tr>\n",
              "    <tr>\n",
              "      <th>27</th>\n",
              "      <td>2021년 4월 21일</td>\n",
              "      <td>성남FC</td>\n",
              "      <td>W</td>\n",
              "      <td>3:01</td>\n",
              "      <td>7.0</td>\n",
              "      <td>7</td>\n",
              "      <td>4</td>\n",
              "      <td>45.4</td>\n",
              "      <td>71.7</td>\n",
              "      <td>23</td>\n",
              "      <td>8</td>\n",
              "      <td>51.6</td>\n",
              "      <td>3</td>\n",
              "      <td>15</td>\n",
              "      <td>0</td>\n",
              "      <td>17</td>\n",
              "      <td>1</td>\n",
              "      <td>0</td>\n",
              "    </tr>\n",
              "    <tr>\n",
              "      <th>28</th>\n",
              "      <td>2021년 4월 17일</td>\n",
              "      <td>제주 유나이티드</td>\n",
              "      <td>L</td>\n",
              "      <td>0:03</td>\n",
              "      <td>6.2</td>\n",
              "      <td>7</td>\n",
              "      <td>0</td>\n",
              "      <td>52.1</td>\n",
              "      <td>70.8</td>\n",
              "      <td>19</td>\n",
              "      <td>13</td>\n",
              "      <td>61.1</td>\n",
              "      <td>6</td>\n",
              "      <td>27</td>\n",
              "      <td>2</td>\n",
              "      <td>13</td>\n",
              "      <td>1</td>\n",
              "      <td>0</td>\n",
              "    </tr>\n",
              "    <tr>\n",
              "      <th>29</th>\n",
              "      <td>2021년 4월 11일</td>\n",
              "      <td>전북 현대 모터스</td>\n",
              "      <td>L</td>\n",
              "      <td>0:05</td>\n",
              "      <td>5.9</td>\n",
              "      <td>8</td>\n",
              "      <td>3</td>\n",
              "      <td>46.0</td>\n",
              "      <td>78.0</td>\n",
              "      <td>22</td>\n",
              "      <td>10</td>\n",
              "      <td>53.6</td>\n",
              "      <td>2</td>\n",
              "      <td>18</td>\n",
              "      <td>1</td>\n",
              "      <td>12</td>\n",
              "      <td>0</td>\n",
              "      <td>0</td>\n",
              "    </tr>\n",
              "    <tr>\n",
              "      <th>30</th>\n",
              "      <td>2021년 4월 7일</td>\n",
              "      <td>수원삼성 블루윙즈</td>\n",
              "      <td>D</td>\n",
              "      <td>0:00</td>\n",
              "      <td>6.4</td>\n",
              "      <td>11</td>\n",
              "      <td>3</td>\n",
              "      <td>42.9</td>\n",
              "      <td>71.8</td>\n",
              "      <td>11</td>\n",
              "      <td>12</td>\n",
              "      <td>53.3</td>\n",
              "      <td>3</td>\n",
              "      <td>16</td>\n",
              "      <td>3</td>\n",
              "      <td>20</td>\n",
              "      <td>2</td>\n",
              "      <td>0</td>\n",
              "    </tr>\n",
              "    <tr>\n",
              "      <th>31</th>\n",
              "      <td>2021년 4월 4일</td>\n",
              "      <td>광주FC</td>\n",
              "      <td>L</td>\n",
              "      <td>1:02</td>\n",
              "      <td>6.6</td>\n",
              "      <td>10</td>\n",
              "      <td>2</td>\n",
              "      <td>28.0</td>\n",
              "      <td>65.1</td>\n",
              "      <td>19</td>\n",
              "      <td>25</td>\n",
              "      <td>45.5</td>\n",
              "      <td>6</td>\n",
              "      <td>14</td>\n",
              "      <td>0</td>\n",
              "      <td>9</td>\n",
              "      <td>3</td>\n",
              "      <td>1</td>\n",
              "    </tr>\n",
              "    <tr>\n",
              "      <th>32</th>\n",
              "      <td>2021년 3월 21일</td>\n",
              "      <td>강원FC</td>\n",
              "      <td>L</td>\n",
              "      <td>0:02</td>\n",
              "      <td>6.2</td>\n",
              "      <td>7</td>\n",
              "      <td>2</td>\n",
              "      <td>54.8</td>\n",
              "      <td>77.0</td>\n",
              "      <td>13</td>\n",
              "      <td>7</td>\n",
              "      <td>59.1</td>\n",
              "      <td>2</td>\n",
              "      <td>14</td>\n",
              "      <td>3</td>\n",
              "      <td>16</td>\n",
              "      <td>1</td>\n",
              "      <td>0</td>\n",
              "    </tr>\n",
              "    <tr>\n",
              "      <th>33</th>\n",
              "      <td>2021년 3월 17일</td>\n",
              "      <td>수원FC</td>\n",
              "      <td>W</td>\n",
              "      <td>4:01</td>\n",
              "      <td>7.0</td>\n",
              "      <td>17</td>\n",
              "      <td>6</td>\n",
              "      <td>54.5</td>\n",
              "      <td>78.1</td>\n",
              "      <td>18</td>\n",
              "      <td>7</td>\n",
              "      <td>46.2</td>\n",
              "      <td>3</td>\n",
              "      <td>14</td>\n",
              "      <td>3</td>\n",
              "      <td>8</td>\n",
              "      <td>1</td>\n",
              "      <td>0</td>\n",
              "    </tr>\n",
              "    <tr>\n",
              "      <th>34</th>\n",
              "      <td>2021년 3월 13일</td>\n",
              "      <td>FC서울</td>\n",
              "      <td>L</td>\n",
              "      <td>0:01</td>\n",
              "      <td>6.5</td>\n",
              "      <td>11</td>\n",
              "      <td>1</td>\n",
              "      <td>35.3</td>\n",
              "      <td>66.7</td>\n",
              "      <td>26</td>\n",
              "      <td>6</td>\n",
              "      <td>58.6</td>\n",
              "      <td>4</td>\n",
              "      <td>13</td>\n",
              "      <td>5</td>\n",
              "      <td>9</td>\n",
              "      <td>0</td>\n",
              "      <td>1</td>\n",
              "    </tr>\n",
              "    <tr>\n",
              "      <th>35</th>\n",
              "      <td>2021년 3월 9일</td>\n",
              "      <td>울산현대축구단</td>\n",
              "      <td>L</td>\n",
              "      <td>1:03</td>\n",
              "      <td>6.3</td>\n",
              "      <td>10</td>\n",
              "      <td>4</td>\n",
              "      <td>38.2</td>\n",
              "      <td>77.0</td>\n",
              "      <td>28</td>\n",
              "      <td>12</td>\n",
              "      <td>51.4</td>\n",
              "      <td>5</td>\n",
              "      <td>19</td>\n",
              "      <td>3</td>\n",
              "      <td>10</td>\n",
              "      <td>2</td>\n",
              "      <td>0</td>\n",
              "    </tr>\n",
              "    <tr>\n",
              "      <th>36</th>\n",
              "      <td>2021년 3월 6일</td>\n",
              "      <td>대구FC</td>\n",
              "      <td>W</td>\n",
              "      <td>2:01</td>\n",
              "      <td>6.9</td>\n",
              "      <td>12</td>\n",
              "      <td>5</td>\n",
              "      <td>53.2</td>\n",
              "      <td>78.0</td>\n",
              "      <td>21</td>\n",
              "      <td>15</td>\n",
              "      <td>52.4</td>\n",
              "      <td>1</td>\n",
              "      <td>14</td>\n",
              "      <td>3</td>\n",
              "      <td>23</td>\n",
              "      <td>3</td>\n",
              "      <td>0</td>\n",
              "    </tr>\n",
              "    <tr>\n",
              "      <th>37</th>\n",
              "      <td>2021년 2월 28일</td>\n",
              "      <td>포항 스틸러스</td>\n",
              "      <td>L</td>\n",
              "      <td>1:02</td>\n",
              "      <td>6.4</td>\n",
              "      <td>4</td>\n",
              "      <td>1</td>\n",
              "      <td>40.2</td>\n",
              "      <td>76.6</td>\n",
              "      <td>25</td>\n",
              "      <td>15</td>\n",
              "      <td>43.8</td>\n",
              "      <td>5</td>\n",
              "      <td>16</td>\n",
              "      <td>2</td>\n",
              "      <td>13</td>\n",
              "      <td>3</td>\n",
              "      <td>0</td>\n",
              "    </tr>\n",
              "  </tbody>\n",
              "</table>\n",
              "</div>\n",
              "      <button class=\"colab-df-convert\" onclick=\"convertToInteractive('df-85de4cdf-0fd0-4fa9-9f2a-241e2044710d')\"\n",
              "              title=\"Convert this dataframe to an interactive table.\"\n",
              "              style=\"display:none;\">\n",
              "        \n",
              "  <svg xmlns=\"http://www.w3.org/2000/svg\" height=\"24px\"viewBox=\"0 0 24 24\"\n",
              "       width=\"24px\">\n",
              "    <path d=\"M0 0h24v24H0V0z\" fill=\"none\"/>\n",
              "    <path d=\"M18.56 5.44l.94 2.06.94-2.06 2.06-.94-2.06-.94-.94-2.06-.94 2.06-2.06.94zm-11 1L8.5 8.5l.94-2.06 2.06-.94-2.06-.94L8.5 2.5l-.94 2.06-2.06.94zm10 10l.94 2.06.94-2.06 2.06-.94-2.06-.94-.94-2.06-.94 2.06-2.06.94z\"/><path d=\"M17.41 7.96l-1.37-1.37c-.4-.4-.92-.59-1.43-.59-.52 0-1.04.2-1.43.59L10.3 9.45l-7.72 7.72c-.78.78-.78 2.05 0 2.83L4 21.41c.39.39.9.59 1.41.59.51 0 1.02-.2 1.41-.59l7.78-7.78 2.81-2.81c.8-.78.8-2.07 0-2.86zM5.41 20L4 18.59l7.72-7.72 1.47 1.35L5.41 20z\"/>\n",
              "  </svg>\n",
              "      </button>\n",
              "      \n",
              "  <style>\n",
              "    .colab-df-container {\n",
              "      display:flex;\n",
              "      flex-wrap:wrap;\n",
              "      gap: 12px;\n",
              "    }\n",
              "\n",
              "    .colab-df-convert {\n",
              "      background-color: #E8F0FE;\n",
              "      border: none;\n",
              "      border-radius: 50%;\n",
              "      cursor: pointer;\n",
              "      display: none;\n",
              "      fill: #1967D2;\n",
              "      height: 32px;\n",
              "      padding: 0 0 0 0;\n",
              "      width: 32px;\n",
              "    }\n",
              "\n",
              "    .colab-df-convert:hover {\n",
              "      background-color: #E2EBFA;\n",
              "      box-shadow: 0px 1px 2px rgba(60, 64, 67, 0.3), 0px 1px 3px 1px rgba(60, 64, 67, 0.15);\n",
              "      fill: #174EA6;\n",
              "    }\n",
              "\n",
              "    [theme=dark] .colab-df-convert {\n",
              "      background-color: #3B4455;\n",
              "      fill: #D2E3FC;\n",
              "    }\n",
              "\n",
              "    [theme=dark] .colab-df-convert:hover {\n",
              "      background-color: #434B5C;\n",
              "      box-shadow: 0px 1px 3px 1px rgba(0, 0, 0, 0.15);\n",
              "      filter: drop-shadow(0px 1px 2px rgba(0, 0, 0, 0.3));\n",
              "      fill: #FFFFFF;\n",
              "    }\n",
              "  </style>\n",
              "\n",
              "      <script>\n",
              "        const buttonEl =\n",
              "          document.querySelector('#df-85de4cdf-0fd0-4fa9-9f2a-241e2044710d button.colab-df-convert');\n",
              "        buttonEl.style.display =\n",
              "          google.colab.kernel.accessAllowed ? 'block' : 'none';\n",
              "\n",
              "        async function convertToInteractive(key) {\n",
              "          const element = document.querySelector('#df-85de4cdf-0fd0-4fa9-9f2a-241e2044710d');\n",
              "          const dataTable =\n",
              "            await google.colab.kernel.invokeFunction('convertToInteractive',\n",
              "                                                     [key], {});\n",
              "          if (!dataTable) return;\n",
              "\n",
              "          const docLinkHtml = 'Like what you see? Visit the ' +\n",
              "            '<a target=\"_blank\" href=https://colab.research.google.com/notebooks/data_table.ipynb>data table notebook</a>'\n",
              "            + ' to learn more about interactive tables.';\n",
              "          element.innerHTML = '';\n",
              "          dataTable['output_type'] = 'display_data';\n",
              "          await google.colab.output.renderOutput(dataTable, element);\n",
              "          const docLink = document.createElement('div');\n",
              "          docLink.innerHTML = docLinkHtml;\n",
              "          element.appendChild(docLink);\n",
              "        }\n",
              "      </script>\n",
              "    </div>\n",
              "  </div>\n",
              "  "
            ]
          },
          "metadata": {},
          "execution_count": 6
        }
      ]
    },
    {
      "cell_type": "code",
      "source": [
        "data1 = go.Bar(x=df1[\"날짜\"], y=df1[\"슈팅\"], name=\"2021\")\n",
        "data2 = go.Bar(x=df2[\"날짜\"], y=df2[\"슈팅\"], name=\"2022\")\n",
        "layout = go.Layout(title='슈팅')\n",
        "fig = go.Figure(data=[data1, data2], layout=layout)\n",
        "fig.show()"
      ],
      "metadata": {
        "colab": {
          "base_uri": "https://localhost:8080/",
          "height": 542
        },
        "id": "6YLUEfqFhRTF",
        "outputId": "486ad147-19ea-4057-ea1e-32cb73591bcb"
      },
      "execution_count": 9,
      "outputs": [
        {
          "output_type": "display_data",
          "data": {
            "text/html": [
              "<html>\n",
              "<head><meta charset=\"utf-8\" /></head>\n",
              "<body>\n",
              "    <div>            <script src=\"https://cdnjs.cloudflare.com/ajax/libs/mathjax/2.7.5/MathJax.js?config=TeX-AMS-MML_SVG\"></script><script type=\"text/javascript\">if (window.MathJax) {MathJax.Hub.Config({SVG: {font: \"STIX-Web\"}});}</script>                <script type=\"text/javascript\">window.PlotlyConfig = {MathJaxConfig: 'local'};</script>\n",
              "        <script src=\"https://cdn.plot.ly/plotly-2.8.3.min.js\"></script>                <div id=\"28878529-90a5-4443-af62-7925743cd8a2\" class=\"plotly-graph-div\" style=\"height:525px; width:100%;\"></div>            <script type=\"text/javascript\">                                    window.PLOTLYENV=window.PLOTLYENV || {};                                    if (document.getElementById(\"28878529-90a5-4443-af62-7925743cd8a2\")) {                    Plotly.newPlot(                        \"28878529-90a5-4443-af62-7925743cd8a2\",                        [{\"name\":\"2021\",\"x\":[\"2021\\ub144 12\\uc6d4 4\\uc77c\",\"2021\\ub144 11\\uc6d4 28\\uc77c\",\"2021\\ub144 11\\uc6d4 7\\uc77c\",\"2021\\ub144 11\\uc6d4 3\\uc77c\",\"2021\\ub144 10\\uc6d4 30\\uc77c\",\"2021\\ub144 10\\uc6d4 24\\uc77c\",\"2021\\ub144 10\\uc6d4 6\\uc77c\",\"2021\\ub144 10\\uc6d4 2\\uc77c\",\"2021\\ub144 9\\uc6d4 25\\uc77c\",\"2021\\ub144 9\\uc6d4 22\\uc77c\",\"2021\\ub144 9\\uc6d4 19\\uc77c\",\"2021\\ub144 9\\uc6d4 11\\uc77c\",\"2021\\ub144 8\\uc6d4 29\\uc77c\",\"2021\\ub144 8\\uc6d4 25\\uc77c\",\"2021\\ub144 8\\uc6d4 18\\uc77c\",\"2021\\ub144 8\\uc6d4 15\\uc77c\",\"2021\\ub144 8\\uc6d4 8\\uc77c\",\"2021\\ub144 7\\uc6d4 31\\uc77c\",\"2021\\ub144 7\\uc6d4 23\\uc77c\",\"2021\\ub144 7\\uc6d4 14\\uc77c\",\"2021\\ub144 5\\uc6d4 29\\uc77c\",\"2021\\ub144 5\\uc6d4 21\\uc77c\",\"2021\\ub144 5\\uc6d4 15\\uc77c\",\"2021\\ub144 5\\uc6d4 11\\uc77c\",\"2021\\ub144 5\\uc6d4 8\\uc77c\",\"2021\\ub144 5\\uc6d4 2\\uc77c\",\"2021\\ub144 4\\uc6d4 25\\uc77c\",\"2021\\ub144 4\\uc6d4 21\\uc77c\",\"2021\\ub144 4\\uc6d4 17\\uc77c\",\"2021\\ub144 4\\uc6d4 11\\uc77c\",\"2021\\ub144 4\\uc6d4 7\\uc77c\",\"2021\\ub144 4\\uc6d4 4\\uc77c\",\"2021\\ub144 3\\uc6d4 21\\uc77c\",\"2021\\ub144 3\\uc6d4 17\\uc77c\",\"2021\\ub144 3\\uc6d4 13\\uc77c\",\"2021\\ub144 3\\uc6d4 9\\uc77c\",\"2021\\ub144 3\\uc6d4 6\\uc77c\",\"2021\\ub144 2\\uc6d4 28\\uc77c\"],\"y\":[8,11,12,6,10,9,6,9,8,4,9,7,11,10,8,14,8,13,13,6,12,20,16,9,6,5,9,7,7,8,11,10,7,17,11,10,12,4],\"type\":\"bar\"},{\"name\":\"2022\",\"x\":[\"2022\\ub144 9\\uc6d4 18\\uc77c\",\"2022\\ub144 9\\uc6d4 14\\uc77c\",\"2022\\ub144 9\\uc6d4 11\\uc77c\",\"2022\\ub144 9\\uc6d4 6\\uc77c\",\"2022\\ub144 9\\uc6d4 2\\uc77c\",\"2022\\ub144 8\\uc6d4 27\\uc77c\",\"2022\\ub144 8\\uc6d4 20\\uc77c\",\"2022\\ub144 8\\uc6d4 13\\uc77c\",\"2022\\ub144 8\\uc6d4 7\\uc77c\",\"2022\\ub144 8\\uc6d4 3\\uc77c\",\"2022\\ub144 7\\uc6d4 30\\uc77c\",\"2022\\ub144 7\\uc6d4 16\\uc77c\",\"2022\\ub144 7\\uc6d4 9\\uc77c\",\"2022\\ub144 7\\uc6d4 6\\uc77c\",\"2022\\ub144 7\\uc6d4 3\\uc77c\",\"2022\\ub144 6\\uc6d4 25\\uc77c\",\"2022\\ub144 6\\uc6d4 22\\uc77c\",\"2022\\ub144 6\\uc6d4 18\\uc77c\",\"2022\\ub144 5\\uc6d4 29\\uc77c\",\"2022\\ub144 5\\uc6d4 21\\uc77c\",\"2022\\ub144 5\\uc6d4 17\\uc77c\",\"2022\\ub144 5\\uc6d4 14\\uc77c\",\"2022\\ub144 5\\uc6d4 8\\uc77c\",\"2022\\ub144 5\\uc6d4 5\\uc77c\",\"2022\\ub144 4\\uc6d4 10\\uc77c\",\"2022\\ub144 4\\uc6d4 5\\uc77c\",\"2022\\ub144 4\\uc6d4 2\\uc77c\",\"2022\\ub144 3\\uc6d4 20\\uc77c\",\"2022\\ub144 3\\uc6d4 13\\uc77c\",\"2022\\ub144 3\\uc6d4 5\\uc77c\",\"2022\\ub144 3\\uc6d4 1\\uc77c\",\"2022\\ub144 2\\uc6d4 26\\uc77c\",\"2022\\ub144 2\\uc6d4 19\\uc77c\"],\"y\":[8,5,12,7,13,7,9,18,13,18,11,7,17,11,14,9,7,10,11,10,8,6,11,12,6,7,12,5,11,5,10,11,17],\"type\":\"bar\"}],                        {\"title\":{\"text\":\"\\uc288\\ud305\"},\"template\":{\"data\":{\"bar\":[{\"error_x\":{\"color\":\"#2a3f5f\"},\"error_y\":{\"color\":\"#2a3f5f\"},\"marker\":{\"line\":{\"color\":\"#E5ECF6\",\"width\":0.5},\"pattern\":{\"fillmode\":\"overlay\",\"size\":10,\"solidity\":0.2}},\"type\":\"bar\"}],\"barpolar\":[{\"marker\":{\"line\":{\"color\":\"#E5ECF6\",\"width\":0.5},\"pattern\":{\"fillmode\":\"overlay\",\"size\":10,\"solidity\":0.2}},\"type\":\"barpolar\"}],\"carpet\":[{\"aaxis\":{\"endlinecolor\":\"#2a3f5f\",\"gridcolor\":\"white\",\"linecolor\":\"white\",\"minorgridcolor\":\"white\",\"startlinecolor\":\"#2a3f5f\"},\"baxis\":{\"endlinecolor\":\"#2a3f5f\",\"gridcolor\":\"white\",\"linecolor\":\"white\",\"minorgridcolor\":\"white\",\"startlinecolor\":\"#2a3f5f\"},\"type\":\"carpet\"}],\"choropleth\":[{\"colorbar\":{\"outlinewidth\":0,\"ticks\":\"\"},\"type\":\"choropleth\"}],\"contour\":[{\"colorbar\":{\"outlinewidth\":0,\"ticks\":\"\"},\"colorscale\":[[0.0,\"#0d0887\"],[0.1111111111111111,\"#46039f\"],[0.2222222222222222,\"#7201a8\"],[0.3333333333333333,\"#9c179e\"],[0.4444444444444444,\"#bd3786\"],[0.5555555555555556,\"#d8576b\"],[0.6666666666666666,\"#ed7953\"],[0.7777777777777778,\"#fb9f3a\"],[0.8888888888888888,\"#fdca26\"],[1.0,\"#f0f921\"]],\"type\":\"contour\"}],\"contourcarpet\":[{\"colorbar\":{\"outlinewidth\":0,\"ticks\":\"\"},\"type\":\"contourcarpet\"}],\"heatmap\":[{\"colorbar\":{\"outlinewidth\":0,\"ticks\":\"\"},\"colorscale\":[[0.0,\"#0d0887\"],[0.1111111111111111,\"#46039f\"],[0.2222222222222222,\"#7201a8\"],[0.3333333333333333,\"#9c179e\"],[0.4444444444444444,\"#bd3786\"],[0.5555555555555556,\"#d8576b\"],[0.6666666666666666,\"#ed7953\"],[0.7777777777777778,\"#fb9f3a\"],[0.8888888888888888,\"#fdca26\"],[1.0,\"#f0f921\"]],\"type\":\"heatmap\"}],\"heatmapgl\":[{\"colorbar\":{\"outlinewidth\":0,\"ticks\":\"\"},\"colorscale\":[[0.0,\"#0d0887\"],[0.1111111111111111,\"#46039f\"],[0.2222222222222222,\"#7201a8\"],[0.3333333333333333,\"#9c179e\"],[0.4444444444444444,\"#bd3786\"],[0.5555555555555556,\"#d8576b\"],[0.6666666666666666,\"#ed7953\"],[0.7777777777777778,\"#fb9f3a\"],[0.8888888888888888,\"#fdca26\"],[1.0,\"#f0f921\"]],\"type\":\"heatmapgl\"}],\"histogram\":[{\"marker\":{\"pattern\":{\"fillmode\":\"overlay\",\"size\":10,\"solidity\":0.2}},\"type\":\"histogram\"}],\"histogram2d\":[{\"colorbar\":{\"outlinewidth\":0,\"ticks\":\"\"},\"colorscale\":[[0.0,\"#0d0887\"],[0.1111111111111111,\"#46039f\"],[0.2222222222222222,\"#7201a8\"],[0.3333333333333333,\"#9c179e\"],[0.4444444444444444,\"#bd3786\"],[0.5555555555555556,\"#d8576b\"],[0.6666666666666666,\"#ed7953\"],[0.7777777777777778,\"#fb9f3a\"],[0.8888888888888888,\"#fdca26\"],[1.0,\"#f0f921\"]],\"type\":\"histogram2d\"}],\"histogram2dcontour\":[{\"colorbar\":{\"outlinewidth\":0,\"ticks\":\"\"},\"colorscale\":[[0.0,\"#0d0887\"],[0.1111111111111111,\"#46039f\"],[0.2222222222222222,\"#7201a8\"],[0.3333333333333333,\"#9c179e\"],[0.4444444444444444,\"#bd3786\"],[0.5555555555555556,\"#d8576b\"],[0.6666666666666666,\"#ed7953\"],[0.7777777777777778,\"#fb9f3a\"],[0.8888888888888888,\"#fdca26\"],[1.0,\"#f0f921\"]],\"type\":\"histogram2dcontour\"}],\"mesh3d\":[{\"colorbar\":{\"outlinewidth\":0,\"ticks\":\"\"},\"type\":\"mesh3d\"}],\"parcoords\":[{\"line\":{\"colorbar\":{\"outlinewidth\":0,\"ticks\":\"\"}},\"type\":\"parcoords\"}],\"pie\":[{\"automargin\":true,\"type\":\"pie\"}],\"scatter\":[{\"marker\":{\"colorbar\":{\"outlinewidth\":0,\"ticks\":\"\"}},\"type\":\"scatter\"}],\"scatter3d\":[{\"line\":{\"colorbar\":{\"outlinewidth\":0,\"ticks\":\"\"}},\"marker\":{\"colorbar\":{\"outlinewidth\":0,\"ticks\":\"\"}},\"type\":\"scatter3d\"}],\"scattercarpet\":[{\"marker\":{\"colorbar\":{\"outlinewidth\":0,\"ticks\":\"\"}},\"type\":\"scattercarpet\"}],\"scattergeo\":[{\"marker\":{\"colorbar\":{\"outlinewidth\":0,\"ticks\":\"\"}},\"type\":\"scattergeo\"}],\"scattergl\":[{\"marker\":{\"colorbar\":{\"outlinewidth\":0,\"ticks\":\"\"}},\"type\":\"scattergl\"}],\"scattermapbox\":[{\"marker\":{\"colorbar\":{\"outlinewidth\":0,\"ticks\":\"\"}},\"type\":\"scattermapbox\"}],\"scatterpolar\":[{\"marker\":{\"colorbar\":{\"outlinewidth\":0,\"ticks\":\"\"}},\"type\":\"scatterpolar\"}],\"scatterpolargl\":[{\"marker\":{\"colorbar\":{\"outlinewidth\":0,\"ticks\":\"\"}},\"type\":\"scatterpolargl\"}],\"scatterternary\":[{\"marker\":{\"colorbar\":{\"outlinewidth\":0,\"ticks\":\"\"}},\"type\":\"scatterternary\"}],\"surface\":[{\"colorbar\":{\"outlinewidth\":0,\"ticks\":\"\"},\"colorscale\":[[0.0,\"#0d0887\"],[0.1111111111111111,\"#46039f\"],[0.2222222222222222,\"#7201a8\"],[0.3333333333333333,\"#9c179e\"],[0.4444444444444444,\"#bd3786\"],[0.5555555555555556,\"#d8576b\"],[0.6666666666666666,\"#ed7953\"],[0.7777777777777778,\"#fb9f3a\"],[0.8888888888888888,\"#fdca26\"],[1.0,\"#f0f921\"]],\"type\":\"surface\"}],\"table\":[{\"cells\":{\"fill\":{\"color\":\"#EBF0F8\"},\"line\":{\"color\":\"white\"}},\"header\":{\"fill\":{\"color\":\"#C8D4E3\"},\"line\":{\"color\":\"white\"}},\"type\":\"table\"}]},\"layout\":{\"annotationdefaults\":{\"arrowcolor\":\"#2a3f5f\",\"arrowhead\":0,\"arrowwidth\":1},\"autotypenumbers\":\"strict\",\"coloraxis\":{\"colorbar\":{\"outlinewidth\":0,\"ticks\":\"\"}},\"colorscale\":{\"diverging\":[[0,\"#8e0152\"],[0.1,\"#c51b7d\"],[0.2,\"#de77ae\"],[0.3,\"#f1b6da\"],[0.4,\"#fde0ef\"],[0.5,\"#f7f7f7\"],[0.6,\"#e6f5d0\"],[0.7,\"#b8e186\"],[0.8,\"#7fbc41\"],[0.9,\"#4d9221\"],[1,\"#276419\"]],\"sequential\":[[0.0,\"#0d0887\"],[0.1111111111111111,\"#46039f\"],[0.2222222222222222,\"#7201a8\"],[0.3333333333333333,\"#9c179e\"],[0.4444444444444444,\"#bd3786\"],[0.5555555555555556,\"#d8576b\"],[0.6666666666666666,\"#ed7953\"],[0.7777777777777778,\"#fb9f3a\"],[0.8888888888888888,\"#fdca26\"],[1.0,\"#f0f921\"]],\"sequentialminus\":[[0.0,\"#0d0887\"],[0.1111111111111111,\"#46039f\"],[0.2222222222222222,\"#7201a8\"],[0.3333333333333333,\"#9c179e\"],[0.4444444444444444,\"#bd3786\"],[0.5555555555555556,\"#d8576b\"],[0.6666666666666666,\"#ed7953\"],[0.7777777777777778,\"#fb9f3a\"],[0.8888888888888888,\"#fdca26\"],[1.0,\"#f0f921\"]]},\"colorway\":[\"#636efa\",\"#EF553B\",\"#00cc96\",\"#ab63fa\",\"#FFA15A\",\"#19d3f3\",\"#FF6692\",\"#B6E880\",\"#FF97FF\",\"#FECB52\"],\"font\":{\"color\":\"#2a3f5f\"},\"geo\":{\"bgcolor\":\"white\",\"lakecolor\":\"white\",\"landcolor\":\"#E5ECF6\",\"showlakes\":true,\"showland\":true,\"subunitcolor\":\"white\"},\"hoverlabel\":{\"align\":\"left\"},\"hovermode\":\"closest\",\"mapbox\":{\"style\":\"light\"},\"paper_bgcolor\":\"white\",\"plot_bgcolor\":\"#E5ECF6\",\"polar\":{\"angularaxis\":{\"gridcolor\":\"white\",\"linecolor\":\"white\",\"ticks\":\"\"},\"bgcolor\":\"#E5ECF6\",\"radialaxis\":{\"gridcolor\":\"white\",\"linecolor\":\"white\",\"ticks\":\"\"}},\"scene\":{\"xaxis\":{\"backgroundcolor\":\"#E5ECF6\",\"gridcolor\":\"white\",\"gridwidth\":2,\"linecolor\":\"white\",\"showbackground\":true,\"ticks\":\"\",\"zerolinecolor\":\"white\"},\"yaxis\":{\"backgroundcolor\":\"#E5ECF6\",\"gridcolor\":\"white\",\"gridwidth\":2,\"linecolor\":\"white\",\"showbackground\":true,\"ticks\":\"\",\"zerolinecolor\":\"white\"},\"zaxis\":{\"backgroundcolor\":\"#E5ECF6\",\"gridcolor\":\"white\",\"gridwidth\":2,\"linecolor\":\"white\",\"showbackground\":true,\"ticks\":\"\",\"zerolinecolor\":\"white\"}},\"shapedefaults\":{\"line\":{\"color\":\"#2a3f5f\"}},\"ternary\":{\"aaxis\":{\"gridcolor\":\"white\",\"linecolor\":\"white\",\"ticks\":\"\"},\"baxis\":{\"gridcolor\":\"white\",\"linecolor\":\"white\",\"ticks\":\"\"},\"bgcolor\":\"#E5ECF6\",\"caxis\":{\"gridcolor\":\"white\",\"linecolor\":\"white\",\"ticks\":\"\"}},\"title\":{\"x\":0.05},\"xaxis\":{\"automargin\":true,\"gridcolor\":\"white\",\"linecolor\":\"white\",\"ticks\":\"\",\"title\":{\"standoff\":15},\"zerolinecolor\":\"white\",\"zerolinewidth\":2},\"yaxis\":{\"automargin\":true,\"gridcolor\":\"white\",\"linecolor\":\"white\",\"ticks\":\"\",\"title\":{\"standoff\":15},\"zerolinecolor\":\"white\",\"zerolinewidth\":2}}}},                        {\"responsive\": true}                    ).then(function(){\n",
              "                            \n",
              "var gd = document.getElementById('28878529-90a5-4443-af62-7925743cd8a2');\n",
              "var x = new MutationObserver(function (mutations, observer) {{\n",
              "        var display = window.getComputedStyle(gd).display;\n",
              "        if (!display || display === 'none') {{\n",
              "            console.log([gd, 'removed!']);\n",
              "            Plotly.purge(gd);\n",
              "            observer.disconnect();\n",
              "        }}\n",
              "}});\n",
              "\n",
              "// Listen for the removal of the full notebook cells\n",
              "var notebookContainer = gd.closest('#notebook-container');\n",
              "if (notebookContainer) {{\n",
              "    x.observe(notebookContainer, {childList: true});\n",
              "}}\n",
              "\n",
              "// Listen for the clearing of the current output cell\n",
              "var outputEl = gd.closest('.output');\n",
              "if (outputEl) {{\n",
              "    x.observe(outputEl, {childList: true});\n",
              "}}\n",
              "\n",
              "                        })                };                            </script>        </div>\n",
              "</body>\n",
              "</html>"
            ]
          },
          "metadata": {}
        }
      ]
    },
    {
      "cell_type": "markdown",
      "source": [
        "### 목표\n",
        "\n",
        "2021년, 2022년 데이터에서 각 월 별로 원하는 수치의 평균값을 구하여 정리해봅시다. "
      ],
      "metadata": {
        "id": "7tKTiv5QiDGo"
      }
    },
    {
      "cell_type": "code",
      "source": [
        "# 2021년 전체 데이터의 길이 구하기\n",
        "data_length = df1.shape[0]\n",
        "month_to_value = {i:[] for i in range(1, 13)}# 12월까지의 key와 빈 리스트를 value로 가지는 딕셔너리 만들기\n",
        "for idx in range(data_length):\n",
        "    data = df1.iloc[idx]\n",
        "    date = data[\"날짜\"]\n",
        "    month = date.split()[1]\n",
        "    month = month[:-1]\n",
        "    month_to_value[int(month)].append(data[\"슈팅\"])\n",
        "\n",
        "month_to_avg_2021 = {}\n",
        "for k, v in month_to_value.items(): # key와 value에 둘 다 접근한다.\n",
        "    if len(v) > 0:\n",
        "        month_to_avg_2021[k] = sum(v) / len(v)\n",
        "    else:\n",
        "        month_to_avg_2021[k] = 0\n",
        "print(month_to_avg_2021)"
      ],
      "metadata": {
        "colab": {
          "base_uri": "https://localhost:8080/"
        },
        "id": "CSFWT_-7iNNW",
        "outputId": "20165cb5-19c7-4813-f786-3f7b2804fdee"
      },
      "execution_count": 12,
      "outputs": [
        {
          "output_type": "stream",
          "name": "stdout",
          "text": [
            "{1: 0, 2: 4.0, 3: 11.4, 4: 8.666666666666666, 5: 11.333333333333334, 6: 0, 7: 10.666666666666666, 8: 10.2, 9: 7.0, 10: 8.5, 11: 9.666666666666666, 12: 8.0}\n"
          ]
        }
      ]
    },
    {
      "cell_type": "markdown",
      "source": [
        "2022년에 대해서도 똑같이 구현해 줍니다."
      ],
      "metadata": {
        "id": "lNzGc6l7kPos"
      }
    },
    {
      "cell_type": "code",
      "source": [
        "# 2021년 전체 데이터의 길이 구하기\n",
        "data_length = df2.shape[0]\n",
        "month_to_value = {i:[] for i in range(1, 13)}# 12월까지의 key와 빈 리스트를 value로 가지는 딕셔너리 만들기\n",
        "for idx in range(data_length):\n",
        "    data = df2.iloc[idx]\n",
        "    date = data[\"날짜\"]\n",
        "    month = date.split()[1]\n",
        "    month = month[:-1]\n",
        "    month_to_value[int(month)].append(data[\"슈팅\"])\n",
        "\n",
        "month_to_avg_2022 = {}\n",
        "for k, v in month_to_value.items(): # key와 value에 둘 다 접근한다.\n",
        "    if len(v) > 0:\n",
        "        month_to_avg_2022[k] = sum(v) / len(v)\n",
        "    else:\n",
        "        month_to_avg_2022[k] = 0\n",
        "print(month_to_avg_2022)"
      ],
      "metadata": {
        "colab": {
          "base_uri": "https://localhost:8080/"
        },
        "id": "hNjixaldkPML",
        "outputId": "d067fa13-0f4a-4beb-87c7-b5559b9ea510"
      },
      "execution_count": 13,
      "outputs": [
        {
          "output_type": "stream",
          "name": "stdout",
          "text": [
            "{1: 0, 2: 14.0, 3: 7.75, 4: 8.333333333333334, 5: 9.666666666666666, 6: 8.666666666666666, 7: 12.0, 8: 13.0, 9: 9.0, 10: 0, 11: 0, 12: 0}\n"
          ]
        }
      ]
    },
    {
      "cell_type": "code",
      "source": [
        "months = []\n",
        "data_2021 = []\n",
        "data_2022 = []\n",
        "for k, v in month_to_avg_2021.items():\n",
        "    months.append(str(k))\n",
        "    data_2021.append(v)\n",
        "for k, v in month_to_avg_2022.items():\n",
        "    data_2022.append(v)\n",
        "\n",
        "data1 = go.Bar(x=months, y=data_2021, name=\"2021\")\n",
        "data2 = go.Bar(x=months, y=data_2022, name=\"2022\")\n",
        "layout = go.Layout(title='슈팅')\n",
        "fig = go.Figure(data=[data1, data2], layout=layout)\n",
        "fig.show()"
      ],
      "metadata": {
        "colab": {
          "base_uri": "https://localhost:8080/",
          "height": 542
        },
        "id": "mEKNJ0aokerK",
        "outputId": "ccb927cb-37cd-4a14-fb6a-9874bf28d0d1"
      },
      "execution_count": 16,
      "outputs": [
        {
          "output_type": "display_data",
          "data": {
            "text/html": [
              "<html>\n",
              "<head><meta charset=\"utf-8\" /></head>\n",
              "<body>\n",
              "    <div>            <script src=\"https://cdnjs.cloudflare.com/ajax/libs/mathjax/2.7.5/MathJax.js?config=TeX-AMS-MML_SVG\"></script><script type=\"text/javascript\">if (window.MathJax) {MathJax.Hub.Config({SVG: {font: \"STIX-Web\"}});}</script>                <script type=\"text/javascript\">window.PlotlyConfig = {MathJaxConfig: 'local'};</script>\n",
              "        <script src=\"https://cdn.plot.ly/plotly-2.8.3.min.js\"></script>                <div id=\"222fde5c-e77d-42fa-95fc-7fcc8dff5718\" class=\"plotly-graph-div\" style=\"height:525px; width:100%;\"></div>            <script type=\"text/javascript\">                                    window.PLOTLYENV=window.PLOTLYENV || {};                                    if (document.getElementById(\"222fde5c-e77d-42fa-95fc-7fcc8dff5718\")) {                    Plotly.newPlot(                        \"222fde5c-e77d-42fa-95fc-7fcc8dff5718\",                        [{\"name\":\"2021\",\"x\":[\"1\",\"2\",\"3\",\"4\",\"5\",\"6\",\"7\",\"8\",\"9\",\"10\",\"11\",\"12\"],\"y\":[0,4.0,11.4,8.666666666666666,11.333333333333334,0,10.666666666666666,10.2,7.0,8.5,9.666666666666666,8.0],\"type\":\"bar\"},{\"name\":\"2022\",\"x\":[\"1\",\"2\",\"3\",\"4\",\"5\",\"6\",\"7\",\"8\",\"9\",\"10\",\"11\",\"12\"],\"y\":[0,14.0,7.75,8.333333333333334,9.666666666666666,8.666666666666666,12.0,13.0,9.0,0,0,0],\"type\":\"bar\"}],                        {\"title\":{\"text\":\"\\uc288\\ud305\"},\"template\":{\"data\":{\"bar\":[{\"error_x\":{\"color\":\"#2a3f5f\"},\"error_y\":{\"color\":\"#2a3f5f\"},\"marker\":{\"line\":{\"color\":\"#E5ECF6\",\"width\":0.5},\"pattern\":{\"fillmode\":\"overlay\",\"size\":10,\"solidity\":0.2}},\"type\":\"bar\"}],\"barpolar\":[{\"marker\":{\"line\":{\"color\":\"#E5ECF6\",\"width\":0.5},\"pattern\":{\"fillmode\":\"overlay\",\"size\":10,\"solidity\":0.2}},\"type\":\"barpolar\"}],\"carpet\":[{\"aaxis\":{\"endlinecolor\":\"#2a3f5f\",\"gridcolor\":\"white\",\"linecolor\":\"white\",\"minorgridcolor\":\"white\",\"startlinecolor\":\"#2a3f5f\"},\"baxis\":{\"endlinecolor\":\"#2a3f5f\",\"gridcolor\":\"white\",\"linecolor\":\"white\",\"minorgridcolor\":\"white\",\"startlinecolor\":\"#2a3f5f\"},\"type\":\"carpet\"}],\"choropleth\":[{\"colorbar\":{\"outlinewidth\":0,\"ticks\":\"\"},\"type\":\"choropleth\"}],\"contour\":[{\"colorbar\":{\"outlinewidth\":0,\"ticks\":\"\"},\"colorscale\":[[0.0,\"#0d0887\"],[0.1111111111111111,\"#46039f\"],[0.2222222222222222,\"#7201a8\"],[0.3333333333333333,\"#9c179e\"],[0.4444444444444444,\"#bd3786\"],[0.5555555555555556,\"#d8576b\"],[0.6666666666666666,\"#ed7953\"],[0.7777777777777778,\"#fb9f3a\"],[0.8888888888888888,\"#fdca26\"],[1.0,\"#f0f921\"]],\"type\":\"contour\"}],\"contourcarpet\":[{\"colorbar\":{\"outlinewidth\":0,\"ticks\":\"\"},\"type\":\"contourcarpet\"}],\"heatmap\":[{\"colorbar\":{\"outlinewidth\":0,\"ticks\":\"\"},\"colorscale\":[[0.0,\"#0d0887\"],[0.1111111111111111,\"#46039f\"],[0.2222222222222222,\"#7201a8\"],[0.3333333333333333,\"#9c179e\"],[0.4444444444444444,\"#bd3786\"],[0.5555555555555556,\"#d8576b\"],[0.6666666666666666,\"#ed7953\"],[0.7777777777777778,\"#fb9f3a\"],[0.8888888888888888,\"#fdca26\"],[1.0,\"#f0f921\"]],\"type\":\"heatmap\"}],\"heatmapgl\":[{\"colorbar\":{\"outlinewidth\":0,\"ticks\":\"\"},\"colorscale\":[[0.0,\"#0d0887\"],[0.1111111111111111,\"#46039f\"],[0.2222222222222222,\"#7201a8\"],[0.3333333333333333,\"#9c179e\"],[0.4444444444444444,\"#bd3786\"],[0.5555555555555556,\"#d8576b\"],[0.6666666666666666,\"#ed7953\"],[0.7777777777777778,\"#fb9f3a\"],[0.8888888888888888,\"#fdca26\"],[1.0,\"#f0f921\"]],\"type\":\"heatmapgl\"}],\"histogram\":[{\"marker\":{\"pattern\":{\"fillmode\":\"overlay\",\"size\":10,\"solidity\":0.2}},\"type\":\"histogram\"}],\"histogram2d\":[{\"colorbar\":{\"outlinewidth\":0,\"ticks\":\"\"},\"colorscale\":[[0.0,\"#0d0887\"],[0.1111111111111111,\"#46039f\"],[0.2222222222222222,\"#7201a8\"],[0.3333333333333333,\"#9c179e\"],[0.4444444444444444,\"#bd3786\"],[0.5555555555555556,\"#d8576b\"],[0.6666666666666666,\"#ed7953\"],[0.7777777777777778,\"#fb9f3a\"],[0.8888888888888888,\"#fdca26\"],[1.0,\"#f0f921\"]],\"type\":\"histogram2d\"}],\"histogram2dcontour\":[{\"colorbar\":{\"outlinewidth\":0,\"ticks\":\"\"},\"colorscale\":[[0.0,\"#0d0887\"],[0.1111111111111111,\"#46039f\"],[0.2222222222222222,\"#7201a8\"],[0.3333333333333333,\"#9c179e\"],[0.4444444444444444,\"#bd3786\"],[0.5555555555555556,\"#d8576b\"],[0.6666666666666666,\"#ed7953\"],[0.7777777777777778,\"#fb9f3a\"],[0.8888888888888888,\"#fdca26\"],[1.0,\"#f0f921\"]],\"type\":\"histogram2dcontour\"}],\"mesh3d\":[{\"colorbar\":{\"outlinewidth\":0,\"ticks\":\"\"},\"type\":\"mesh3d\"}],\"parcoords\":[{\"line\":{\"colorbar\":{\"outlinewidth\":0,\"ticks\":\"\"}},\"type\":\"parcoords\"}],\"pie\":[{\"automargin\":true,\"type\":\"pie\"}],\"scatter\":[{\"marker\":{\"colorbar\":{\"outlinewidth\":0,\"ticks\":\"\"}},\"type\":\"scatter\"}],\"scatter3d\":[{\"line\":{\"colorbar\":{\"outlinewidth\":0,\"ticks\":\"\"}},\"marker\":{\"colorbar\":{\"outlinewidth\":0,\"ticks\":\"\"}},\"type\":\"scatter3d\"}],\"scattercarpet\":[{\"marker\":{\"colorbar\":{\"outlinewidth\":0,\"ticks\":\"\"}},\"type\":\"scattercarpet\"}],\"scattergeo\":[{\"marker\":{\"colorbar\":{\"outlinewidth\":0,\"ticks\":\"\"}},\"type\":\"scattergeo\"}],\"scattergl\":[{\"marker\":{\"colorbar\":{\"outlinewidth\":0,\"ticks\":\"\"}},\"type\":\"scattergl\"}],\"scattermapbox\":[{\"marker\":{\"colorbar\":{\"outlinewidth\":0,\"ticks\":\"\"}},\"type\":\"scattermapbox\"}],\"scatterpolar\":[{\"marker\":{\"colorbar\":{\"outlinewidth\":0,\"ticks\":\"\"}},\"type\":\"scatterpolar\"}],\"scatterpolargl\":[{\"marker\":{\"colorbar\":{\"outlinewidth\":0,\"ticks\":\"\"}},\"type\":\"scatterpolargl\"}],\"scatterternary\":[{\"marker\":{\"colorbar\":{\"outlinewidth\":0,\"ticks\":\"\"}},\"type\":\"scatterternary\"}],\"surface\":[{\"colorbar\":{\"outlinewidth\":0,\"ticks\":\"\"},\"colorscale\":[[0.0,\"#0d0887\"],[0.1111111111111111,\"#46039f\"],[0.2222222222222222,\"#7201a8\"],[0.3333333333333333,\"#9c179e\"],[0.4444444444444444,\"#bd3786\"],[0.5555555555555556,\"#d8576b\"],[0.6666666666666666,\"#ed7953\"],[0.7777777777777778,\"#fb9f3a\"],[0.8888888888888888,\"#fdca26\"],[1.0,\"#f0f921\"]],\"type\":\"surface\"}],\"table\":[{\"cells\":{\"fill\":{\"color\":\"#EBF0F8\"},\"line\":{\"color\":\"white\"}},\"header\":{\"fill\":{\"color\":\"#C8D4E3\"},\"line\":{\"color\":\"white\"}},\"type\":\"table\"}]},\"layout\":{\"annotationdefaults\":{\"arrowcolor\":\"#2a3f5f\",\"arrowhead\":0,\"arrowwidth\":1},\"autotypenumbers\":\"strict\",\"coloraxis\":{\"colorbar\":{\"outlinewidth\":0,\"ticks\":\"\"}},\"colorscale\":{\"diverging\":[[0,\"#8e0152\"],[0.1,\"#c51b7d\"],[0.2,\"#de77ae\"],[0.3,\"#f1b6da\"],[0.4,\"#fde0ef\"],[0.5,\"#f7f7f7\"],[0.6,\"#e6f5d0\"],[0.7,\"#b8e186\"],[0.8,\"#7fbc41\"],[0.9,\"#4d9221\"],[1,\"#276419\"]],\"sequential\":[[0.0,\"#0d0887\"],[0.1111111111111111,\"#46039f\"],[0.2222222222222222,\"#7201a8\"],[0.3333333333333333,\"#9c179e\"],[0.4444444444444444,\"#bd3786\"],[0.5555555555555556,\"#d8576b\"],[0.6666666666666666,\"#ed7953\"],[0.7777777777777778,\"#fb9f3a\"],[0.8888888888888888,\"#fdca26\"],[1.0,\"#f0f921\"]],\"sequentialminus\":[[0.0,\"#0d0887\"],[0.1111111111111111,\"#46039f\"],[0.2222222222222222,\"#7201a8\"],[0.3333333333333333,\"#9c179e\"],[0.4444444444444444,\"#bd3786\"],[0.5555555555555556,\"#d8576b\"],[0.6666666666666666,\"#ed7953\"],[0.7777777777777778,\"#fb9f3a\"],[0.8888888888888888,\"#fdca26\"],[1.0,\"#f0f921\"]]},\"colorway\":[\"#636efa\",\"#EF553B\",\"#00cc96\",\"#ab63fa\",\"#FFA15A\",\"#19d3f3\",\"#FF6692\",\"#B6E880\",\"#FF97FF\",\"#FECB52\"],\"font\":{\"color\":\"#2a3f5f\"},\"geo\":{\"bgcolor\":\"white\",\"lakecolor\":\"white\",\"landcolor\":\"#E5ECF6\",\"showlakes\":true,\"showland\":true,\"subunitcolor\":\"white\"},\"hoverlabel\":{\"align\":\"left\"},\"hovermode\":\"closest\",\"mapbox\":{\"style\":\"light\"},\"paper_bgcolor\":\"white\",\"plot_bgcolor\":\"#E5ECF6\",\"polar\":{\"angularaxis\":{\"gridcolor\":\"white\",\"linecolor\":\"white\",\"ticks\":\"\"},\"bgcolor\":\"#E5ECF6\",\"radialaxis\":{\"gridcolor\":\"white\",\"linecolor\":\"white\",\"ticks\":\"\"}},\"scene\":{\"xaxis\":{\"backgroundcolor\":\"#E5ECF6\",\"gridcolor\":\"white\",\"gridwidth\":2,\"linecolor\":\"white\",\"showbackground\":true,\"ticks\":\"\",\"zerolinecolor\":\"white\"},\"yaxis\":{\"backgroundcolor\":\"#E5ECF6\",\"gridcolor\":\"white\",\"gridwidth\":2,\"linecolor\":\"white\",\"showbackground\":true,\"ticks\":\"\",\"zerolinecolor\":\"white\"},\"zaxis\":{\"backgroundcolor\":\"#E5ECF6\",\"gridcolor\":\"white\",\"gridwidth\":2,\"linecolor\":\"white\",\"showbackground\":true,\"ticks\":\"\",\"zerolinecolor\":\"white\"}},\"shapedefaults\":{\"line\":{\"color\":\"#2a3f5f\"}},\"ternary\":{\"aaxis\":{\"gridcolor\":\"white\",\"linecolor\":\"white\",\"ticks\":\"\"},\"baxis\":{\"gridcolor\":\"white\",\"linecolor\":\"white\",\"ticks\":\"\"},\"bgcolor\":\"#E5ECF6\",\"caxis\":{\"gridcolor\":\"white\",\"linecolor\":\"white\",\"ticks\":\"\"}},\"title\":{\"x\":0.05},\"xaxis\":{\"automargin\":true,\"gridcolor\":\"white\",\"linecolor\":\"white\",\"ticks\":\"\",\"title\":{\"standoff\":15},\"zerolinecolor\":\"white\",\"zerolinewidth\":2},\"yaxis\":{\"automargin\":true,\"gridcolor\":\"white\",\"linecolor\":\"white\",\"ticks\":\"\",\"title\":{\"standoff\":15},\"zerolinecolor\":\"white\",\"zerolinewidth\":2}}}},                        {\"responsive\": true}                    ).then(function(){\n",
              "                            \n",
              "var gd = document.getElementById('222fde5c-e77d-42fa-95fc-7fcc8dff5718');\n",
              "var x = new MutationObserver(function (mutations, observer) {{\n",
              "        var display = window.getComputedStyle(gd).display;\n",
              "        if (!display || display === 'none') {{\n",
              "            console.log([gd, 'removed!']);\n",
              "            Plotly.purge(gd);\n",
              "            observer.disconnect();\n",
              "        }}\n",
              "}});\n",
              "\n",
              "// Listen for the removal of the full notebook cells\n",
              "var notebookContainer = gd.closest('#notebook-container');\n",
              "if (notebookContainer) {{\n",
              "    x.observe(notebookContainer, {childList: true});\n",
              "}}\n",
              "\n",
              "// Listen for the clearing of the current output cell\n",
              "var outputEl = gd.closest('.output');\n",
              "if (outputEl) {{\n",
              "    x.observe(outputEl, {childList: true});\n",
              "}}\n",
              "\n",
              "                        })                };                            </script>        </div>\n",
              "</body>\n",
              "</html>"
            ]
          },
          "metadata": {}
        }
      ]
    }
  ]
}